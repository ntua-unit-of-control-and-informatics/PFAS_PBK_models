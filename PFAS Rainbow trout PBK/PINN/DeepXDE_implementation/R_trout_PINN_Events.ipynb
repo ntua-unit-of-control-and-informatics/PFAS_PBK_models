{
 "cells": [
  {
   "cell_type": "code",
   "execution_count": 1,
   "id": "0201e322-208c-4b8a-a3b5-8fbc01664c95",
   "metadata": {
    "tags": []
   },
   "outputs": [],
   "source": [
    "# In case you want to change the deepxde default backend just run the following line and select the backend at the end of the line:\n",
    "# source: https://www.kaggle.com/code/lucasscheink/tesis-2d\n",
    "\n",
    "# !python /Users/vassilis/anaconda3/pkgs/deepxde-1.9.3-pyhd5b0024_0/site-packages/deepxde/backend/set_default_backend.py tensorflow"
   ]
  },
  {
   "cell_type": "code",
   "execution_count": 2,
   "id": "7ea7dd47-5f50-4427-871c-1d98590192ee",
   "metadata": {
    "tags": []
   },
   "outputs": [
    {
     "name": "stderr",
     "output_type": "stream",
     "text": [
      "Using backend: tensorflow\n",
      "Other supported backends: tensorflow.compat.v1, pytorch, jax, paddle.\n",
      "paddle supports more examples now and is recommended.\n"
     ]
    }
   ],
   "source": [
    "import deepxde as dde\n",
    "import numpy as np\n",
    "import pandas as pd\n",
    "import scipy as sp\n",
    "from math import exp\n",
    "import tensorflow as tf\n",
    "import tensorflow_probability as tfp\n",
    "import matplotlib.pyplot as plt\n",
    "import os\n",
    "import re"
   ]
  },
  {
   "cell_type": "code",
   "execution_count": 3,
   "id": "53c514fc-343a-4570-8d08-d74da35df8ea",
   "metadata": {
    "tags": []
   },
   "outputs": [
    {
     "data": {
      "text/plain": [
       "'/Users/vassilis/Documents/GitHub/PFAS_PBK_models/PFAS Rainbow trout PBK/PINN/DeepXDE_implementation'"
      ]
     },
     "execution_count": 3,
     "metadata": {},
     "output_type": "execute_result"
    }
   ],
   "source": [
    "os.getcwd()"
   ]
  },
  {
   "cell_type": "markdown",
   "id": "5fed13e4-8f69-4cd7-8888-d01a9b51e55e",
   "metadata": {},
   "source": [
    "Here we define the parameters that we want to estimate."
   ]
  },
  {
   "cell_type": "code",
   "execution_count": 1,
   "id": "36e97255-03a9-4c64-b3c2-0860ade5fe02",
   "metadata": {
    "tags": []
   },
   "outputs": [
    {
     "ename": "NameError",
     "evalue": "name 'dde' is not defined",
     "output_type": "error",
     "traceback": [
      "\u001b[0;31m---------------------------------------------------------------------------\u001b[0m",
      "\u001b[0;31mNameError\u001b[0m                                 Traceback (most recent call last)",
      "Cell \u001b[0;32mIn[1], line 3\u001b[0m\n\u001b[1;32m      1\u001b[0m \u001b[38;5;66;03m# Parameters to be estimated.\u001b[39;00m\n\u001b[0;32m----> 3\u001b[0m P_liver \u001b[38;5;241m=\u001b[39m dde\u001b[38;5;241m.\u001b[39mVariable(\u001b[38;5;241m1.5685318\u001b[39m)\n\u001b[1;32m      4\u001b[0m P_muscle \u001b[38;5;241m=\u001b[39m dde\u001b[38;5;241m.\u001b[39mVariable(\u001b[38;5;241m0.11316576\u001b[39m)\n\u001b[1;32m      5\u001b[0m P_kidney \u001b[38;5;241m=\u001b[39m dde\u001b[38;5;241m.\u001b[39mVariable(\u001b[38;5;241m0.4398762\u001b[39m)\n",
      "\u001b[0;31mNameError\u001b[0m: name 'dde' is not defined"
     ]
    }
   ],
   "source": [
    "# Parameters to be estimated.\n",
    "\n",
    "P_liver = dde.Variable(1.5685318)\n",
    "P_muscle = dde.Variable(0.11316576)\n",
    "P_kidney = dde.Variable(0.4398762)\n",
    "P_skin = dde.Variable(0.2715996)\n",
    "P_gills = dde.Variable(0.2291869)\n",
    "P_carcass = dde.Variable(0.1074253)\n",
    "P_viscera = dde.Variable(3.699111)"
   ]
  },
  {
   "cell_type": "markdown",
   "id": "3988062d-a862-4b33-a6aa-f1e7c33b6cfc",
   "metadata": {},
   "source": [
    "Now we can begin by creating a TimeDomain class."
   ]
  },
  {
   "cell_type": "code",
   "execution_count": 5,
   "id": "3ba55162-7c4d-45d8-877a-98d4cadc2ad3",
   "metadata": {
    "tags": []
   },
   "outputs": [],
   "source": [
    "geom = dde.geometry.TimeDomain(0, 56*24)"
   ]
  },
  {
   "cell_type": "code",
   "execution_count": 6,
   "id": "94250555-31e9-4ee0-a539-d11eac585ca1",
   "metadata": {
    "tags": []
   },
   "outputs": [],
   "source": [
    "# Function to estimate the constant parameters of the model\n",
    "def create_params(substance, Texp):\n",
    "    # Transform input temperature into Kelvin scale\n",
    "    Texp = 273 + Texp  # K\n",
    "\n",
    "    Tref = 273 + np.array([6, 12, 18])  # Reference Temperature K - Grech et al. 2018\n",
    "    keep_ref_value = np.argmin(np.abs(Tref - Texp))\n",
    "\n",
    "    # Cardiac output reference value at T = 6 C (Barron et al. 1987, Table II)\n",
    "    F_card_ref_6 = 1.188  # ml/h/g\n",
    "    # Cardiac output reference value at T = 12 C (Barron et al. 1987, Table II)\n",
    "    F_card_ref_12 = 2.322  # ml/h/g\n",
    "    # Cardiac output reference value at T = 18 C (Barron et al. 1987, Table II)\n",
    "    F_card_ref_18 = 3.75  # ml/h/g\n",
    "    F_card_ref_values = [F_card_ref_6, F_card_ref_12, F_card_ref_18]\n",
    "    F_card_ref = F_card_ref_values[keep_ref_value]\n",
    "\n",
    "    # Body weight reference value at T = 6 C (Barron et al. 1987, Table II)\n",
    "    BW_ref_6 = 270.1  # g\n",
    "    # Body weight reference value at T = 12 C (Barron et al. 1987, Table II)\n",
    "    BW_ref_12 = 296.4  # g\n",
    "    # Body weight reference value at T = 18 C (Barron et al. 1987, Table II)\n",
    "    BW_ref_18 = 414.5  # g\n",
    "    BW_ref_values = [BW_ref_6, BW_ref_12, BW_ref_18]\n",
    "    BW_ref = BW_ref_values[keep_ref_value]\n",
    "\n",
    "    # Arrhenius Temperature function\n",
    "    TA = 6930  # Arrhenius Temperature K - Grech et al. 2018\n",
    "    Tr = Tref[np.argmin(np.abs(Tref - Texp))]\n",
    "    KT = exp(TA / Tr - TA / Texp)\n",
    "\n",
    "    # Load the xlsx file with the physiological params of rainbow trout\n",
    "    phys_params_sheet1 = pd.read_excel('/Users/vassilis/Documents/GitHub/PFAS_PBK_models/PFAS Rainbow trout PBK/Rainbow trout Physiological parameters/Rainbow trout Physiological parameters.xlsx', sheet_name=0)\n",
    "\n",
    "    # Keep only the physiological parameters from the paper of Vidal et al. 2019\n",
    "    fw = phys_params_sheet1.loc[phys_params_sheet1['Source'] == 'Vidal et al. 2019', ['Liver', 'Blood', 'Skin', 'Muscle', 'Gills', 'Kidney', 'Viscera']]\n",
    "    fw_Liver = fw['Liver'].values[0]\n",
    "    fw_Blood = fw['Blood'].values[0]\n",
    "    fw_Skin = fw['Skin'].values[0]\n",
    "    fw_Muscle = fw['Muscle'].values[0]\n",
    "    fw_Gills = fw['Gills'].values[0]\n",
    "    fw_Kidney = fw['Kidney'].values[0]\n",
    "    fw_Viscera = fw['Viscera'].values[0]\n",
    "    fw_lumen = 0.012\n",
    "\n",
    "    # Load the xlsx file with the physiological params of rainbow trout\n",
    "    phys_params_sheet2 = pd.read_excel('/Users/vassilis/Documents/GitHub/PFAS_PBK_models/PFAS Rainbow trout PBK/Rainbow trout Physiological parameters/Rainbow trout Physiological parameters.xlsx', sheet_name=1)\n",
    "\n",
    "    # Keep only the physiological parameters from the paper of Vidal et al. 2019\n",
    "    fb = phys_params_sheet2.loc[phys_params_sheet2['Source'] == 'Vidal et al. 2019', ['Liver', 'Skin', 'Muscle', 'Gills', 'Kidney', 'Viscera']]\n",
    "    fb_Liver = fb['Liver'].values[0]\n",
    "    fb_Skin = fb['Skin'].values[0]\n",
    "    fb_Muscle = fb['Muscle'].values[0]\n",
    "    fb_Gills = fb['Gills'].values[0]\n",
    "    fb_Kidney = fb['Kidney'].values[0]\n",
    "    fb_Viscera = fb['Viscera'].values[0]\n",
    "\n",
    "    # Reabsorption coefficients from bile to intestine\n",
    "    # estimated by Cao et al., 2022\n",
    "    # K_urine = Cl_urine / f_reab_urine estimated by Ng et al., 2013 (unitless)\n",
    "    if substance == 'PFOA':\n",
    "        a = 0.138  # Sun et al., 2022, Goeritz et al. 2013\n",
    "        f_reab_hep = 0.30  # Cao et al., 2022\n",
    "        K_urine = 2.08\n",
    "        Cl_urine = 0.029 * 3600  # 1/h (Sun et al., 2022)\n",
    "    elif substance == 'PFNA':\n",
    "        a = 0.522  # Sun et al., 2022, Goeritz et al. 2013\n",
    "        f_reab_hep = 0.34  # Cao et al., 2022\n",
    "        K_urine = 1.35\n",
    "        Cl_urine = 0.050 * 3600  # 1/h (Sun et al., 2022)\n",
    "    elif substance == 'PFBS':\n",
    "        a = 0.0598  # Goeritz et al. 2013\n",
    "        f_reab_hep = 0.23  # Cao et al., 2022\n",
    "        K_urine = 5.88\n",
    "        Cl_urine = 0.023 * 3600  # 1/h (Sun et al., 2022) # Assumed equal to PFHxS\n",
    "    elif substance == 'PFHxS':\n",
    "        a = 0.558  # Sun et al., 2022, Goeritz et al. 2013\n",
    "        f_reab_hep = 0.30  # Cao et al., 2022\n",
    "        K_urine = 5.88\n",
    "        Cl_urine = 0.023 * 3600  # 1/h (Sun et al., 2022)\n",
    "    elif substance == 'PFOS':\n",
    "        a = 0.721  # Sun et al., 2022, Goeritz et al. 2013\n",
    "        f_reab_hep = 0.42  # Cao et al., 2022\n",
    "        K_urine = 1.35\n",
    "        Cl_urine = 0.050 * 3600  # 1/h (Sun et al., 2022)\n",
    "\n",
    "    # Bile flow coefficient\n",
    "    Q_bile_coef = 7.5e-05  # ml/g BW/h Grosell et al., 2000\n",
    "    Q_urine_coef = 2.755e-03  # ml/h/g of BW Urinary flow rate (Curtis et al., 1981)\n",
    "    V_urine_coef = 2.2e-03  # ml/g of BW Urine volume inside urinary bladder (Curtis et al., 1981)\n",
    "\n",
    "    a_skin = 0.9  # 90% of venous blood of skin was assumed to flow directly to kidney (Nichols et al. 1996)\n",
    "    a_muscle = 0.6  # 60% of venous blood of muscle was assumed to flow directly to kidney (Nichols et al. 1996)\n",
    "\n",
    "    plasma = 0.7\n",
    "    \n",
    "    return[F_card_ref, BW_ref, KT, fw_Liver, fw_Blood, fw_Skin, fw_Muscle, fw_Gills, fw_Kidney,\n",
    "          fw_Viscera, fw_lumen, fb_Liver, fb_Skin, fb_Muscle, fb_Gills, fb_Kidney, fb_Viscera,\n",
    "          a_skin, a_muscle, Q_bile_coef, Q_urine_coef, V_urine_coef, \n",
    "          K_urine, Cl_urine, f_reab_hep,plasma,a]"
   ]
  },
  {
   "cell_type": "code",
   "execution_count": 7,
   "id": "77158b3f-a160-47ef-adf7-4653e6a2f213",
   "metadata": {
    "tags": []
   },
   "outputs": [],
   "source": [
    "def fish_weight(time):\n",
    "    x = tf.constant([0, 28 * 24, 56 * 24], dtype=tf.float32)\n",
    "    y = tf.constant([314, 655, 808], dtype=tf.float32)\n",
    "\n",
    "    w = tf.zeros([1,1])\n",
    "\n",
    "    for time_i in tf.unstack(time):\n",
    "        time_i = tf.cast(time_i, 'float32')\n",
    "        condition_1 = tf.math.less_equal(time_i, tf.cast(x[0], 'float32'))\n",
    "        condition_2 = tf.math.greater_equal(time_i, tf.cast(x[2], 'float32'))\n",
    "        condition_3 = tf.math.logical_and(tf.math.greater_equal(time_i, tf.cast(x[0], 'float32')), tf.math.less(time_i, tf.cast(x[1], 'float32')))\n",
    "        condition_4 = tf.math.logical_and(tf.math.greater_equal(time_i, tf.cast(x[1], 'float32')), tf.math.less(time_i, tf.cast(x[2], 'float32')))\n",
    "        \n",
    "        w_new = tf.cond(condition_1, lambda: y[0], \n",
    "                         lambda: tf.cond(condition_2, lambda: y[2], \n",
    "                                         lambda: tf.cond(condition_3, \n",
    "                                                         lambda: tfp.math.interp_regular_1d_grid(tf.cast(time_i, 'float32'), tf.cast(x[0], 'float32'),  \n",
    "                                                                 tf.cast(x[1], 'float32'), tf.cast(y[0:2], 'float32')), \n",
    "                                                         lambda: tfp.math.interp_regular_1d_grid(tf.cast(time_i, 'float32'), tf.cast(x[1], 'float32'), \n",
    "                                                                    tf.cast(x[2], 'float32'), tf.cast(y[1:3], 'float32')) ))) \n",
    "        \n",
    "        w_new = tf.reshape(w_new, [-1,1])\n",
    "        w = tf.concat([w, w_new], axis=0)   \n",
    "    w = w[1:]\n",
    "    return (w)"
   ]
  },
  {
   "cell_type": "markdown",
   "id": "4756361f-71e5-482a-a1a1-498892e86dd8",
   "metadata": {},
   "source": [
    "Next, we create the PBK model to solve using the dde.grad.jacobian function."
   ]
  },
  {
   "cell_type": "code",
   "execution_count": 8,
   "id": "38b5b447-0248-4bc4-b134-05717043fe2b",
   "metadata": {
    "tags": []
   },
   "outputs": [],
   "source": [
    "def PBK_model(t, net_out, ex):\n",
    "    # At this point we estimate the derivatives of the networks outputs to time    \n",
    "    M_art, M_venous, M_gills, M_lumen, M_lumen_2, M_viscera, M_liver, M_kidney, \\\n",
    "    M_muscle, M_skin, M_carcass, M_storage, M_urine, M_feces, \\\n",
    "    C_gills, C_viscera, C_liver, C_kidney, C_muscle, C_skin, C_carcass, \\\n",
    "    C_lumen, C_art, C_venous, C_blood, C_storage= net_out[:, 0:1], net_out[:, 1:2], \\\n",
    "    net_out[:, 2:3], net_out[:, 3:4], net_out[:, 4:5], net_out[:, 5:6], net_out[:, 6:7], net_out[:, 7:8], \\\n",
    "    net_out[:, 8:9], net_out[:, 9:10], net_out[:, 10:11], net_out[:, 11:12], net_out[:, 12:13], net_out[:, 13:14],  \\\n",
    "    net_out[:, 14:15], net_out[:, 15:16], net_out[:, 16:17], net_out[:, 17:18], net_out[:, 18:19], net_out[:, 19:20], net_out[:, 20:21], \\\n",
    "    net_out[:, 21:22], net_out[:, 22:23], net_out[:, 23:24], net_out[:, 24:25], net_out[:, 25:26]\n",
    "    \n",
    "    dM_art_ls = dde.gradients.jacobian(net_out, t, i=0)\n",
    "    dM_venous_ls = dde.gradients.jacobian(net_out, t, i=1)\n",
    "    dM_gills_ls = dde.gradients.jacobian(net_out, t, i=2)\n",
    "    dM_lumen_ls = dde.gradients.jacobian(net_out, t, i=3)\n",
    "    dM_lumen_2_ls = dde.gradients.jacobian(net_out, t, i=4)\n",
    "    dM_viscera_ls = dde.gradients.jacobian(net_out, t, i=5)\n",
    "    dM_liver_ls = dde.gradients.jacobian(net_out, t, i=6)\n",
    "    dM_kidney_ls = dde.gradients.jacobian(net_out, t, i=7)\n",
    "    dM_muscle_ls = dde.gradients.jacobian(net_out, t, i=8)\n",
    "    dM_skin_ls = dde.gradients.jacobian(net_out, t, i=9)\n",
    "    dM_carcass_ls = dde.gradients.jacobian(net_out, t, i=10)\n",
    "    dM_storage_ls = dde.gradients.jacobian(net_out, t, i=11)\n",
    "    dM_urine_ls = dde.gradients.jacobian(net_out, t, i=12)\n",
    "    dM_feces_ls = dde.gradients.jacobian(net_out, t, i=13)\n",
    "    \n",
    "    dC_gills_ls = dde.gradients.jacobian(net_out, t, i=14)\n",
    "    dC_viscera_ls = dde.gradients.jacobian(net_out, t, i=15)\n",
    "    dC_liver_ls = dde.gradients.jacobian(net_out, t, i=16)\n",
    "    dC_kidney_ls = dde.gradients.jacobian(net_out, t, i=17)\n",
    "    dC_muscle_ls = dde.gradients.jacobian(net_out, t, i=18)\n",
    "    dC_skin_ls = dde.gradients.jacobian(net_out, t, i=19)\n",
    "    dC_carcass_ls = dde.gradients.jacobian(net_out, t, i=20)\n",
    "    dC_lumen_ls = dde.gradients.jacobian(net_out, t, i=21)\n",
    "    dC_art_ls = dde.gradients.jacobian(net_out, t, i=22)\n",
    "    dC_venous_ls = dde.gradients.jacobian(net_out, t, i=23)\n",
    "    dC_blood_ls = dde.gradients.jacobian(net_out, t, i=24)\n",
    "    dC_storage_ls = dde.gradients.jacobian(net_out, t, i=25)\n",
    "\n",
    "    \n",
    "    #------------------------------------------------------------\n",
    "    # Estimate the derivatives based on the ODEs.\n",
    "    \n",
    "    # Estimation of constant parameters \n",
    "    (F_card_ref,BW_ref,KT,fw_Liver,fw_Blood,fw_Skin,fw_Muscle,fw_Gills,\n",
    "     fw_Kidney, fw_Viscera, fw_lumen,fb_Liver,fb_Skin,fb_Muscle,fb_Gills,\n",
    "     fb_Kidney,fb_Viscera,a_skin,a_muscle,Q_bile_coef,\n",
    "     Q_urine_coef,V_urine_coef,K_urine,Cl_urine,f_reab_hep,plasma, a) = create_params('PFOS', 15)\n",
    "    \n",
    "    CLU_coef = 0.0005719031\n",
    "    Ku = 1.4668919575\n",
    "    Cl_feces = 1.3064647362\n",
    "    \n",
    "    P_liver = 1.5685318\n",
    "    P_muscle = 0.11316576\n",
    "    P_kidney = 0.4398762\n",
    "    # P_skin = 0.2715996\n",
    "    P_gills = 0.2291869\n",
    "    P_carcass = 0.1074253\n",
    "    P_viscera = 3.699111\n",
    "    \n",
    "    # Body weight - g\n",
    "    BW = fish_weight(t)\n",
    "    \n",
    "    # Total cardiac output ml/h considered as plasma flow\n",
    "    Q_total = F_card_ref*KT*(BW/BW_ref)**(-0.1)*BW*plasma  \n",
    "    \n",
    "    # Calculate the mass of each tissue - g\n",
    "    w_blood = fw_Blood*BW*plasma     # Blood mass - g\n",
    "    w_liver = fw_Liver*BW     # Liver mass - g\n",
    "    w_skin = fw_Skin*BW       # Skin weight - g\n",
    "    w_muscle = fw_Muscle*BW   # Muscle weight - g\n",
    "    w_gills = fw_Gills*BW     # Gills weight - g\n",
    "    w_kidney = fw_Kidney*BW   # Kidney weight - g\n",
    "    w_viscera = fw_Viscera*BW # Viscera weight - g\n",
    "    w_lumen = fw_lumen*BW\n",
    "    w_art = 1/3*w_blood\n",
    "    w_venous = 2/3*w_blood\n",
    "    w_carcass = BW - (w_blood/plasma + w_liver + w_skin + w_muscle +\n",
    "                         w_gills + w_kidney + w_viscera + w_lumen)\n",
    "    \n",
    "    # Calculate the regional blood flows - ml/h\n",
    "    Q_liver = fb_Liver*Q_total     # Liver blood flow - ml/h\n",
    "    Q_skin = fb_Skin*Q_total      # Skin blood flow - ml/h\n",
    "    Q_muscle = fb_Muscle*Q_total   # Muscle blood flow - ml/h\n",
    "    Q_gills = Q_total #fb_Gills*BW     # Gills blood flow - ml/h\n",
    "    Q_kidney = fb_Kidney*Q_total   # Kidney blood flow - ml/h\n",
    "    Q_viscera = fb_Viscera*Q_total # Viscera blood flow - ml/h\n",
    "    Q_carcass = Q_total - (Q_liver + Q_skin + Q_muscle + \n",
    "                              Q_kidney + Q_viscera)\n",
    "    \n",
    "    # Calculate the absolute bile flow rate - ml/h\n",
    "    Q_bile = Q_bile_coef*BW\n",
    "    # Calculate Urinary flow rate - ml/h\n",
    "    Q_urine = Q_urine_coef*BW\n",
    "    \n",
    "    # Calculate urine volume  - ml \n",
    "    v_urine = V_urine_coef*BW\n",
    "    \n",
    "    # Calculate f_reab_urine based on Cl_urine and K_urine - 1/h\n",
    "    f_reab_urine = Cl_urine*CLU_coef/K_urine\n",
    "    \n",
    "    # Tissue concentrations ug PFAS/g tissue\n",
    "    # C_gills = M_gills/w_gills\n",
    "    # C_viscera = M_viscera/w_viscera\n",
    "    # C_liver = M_liver/w_liver\n",
    "    # C_kidney = M_kidney/w_kidney\n",
    "    # C_muscle = M_muscle/w_muscle \n",
    "    # C_skin = M_skin/w_skin\n",
    "    # C_carcass = M_carcass/w_carcass\n",
    "    # C_lumen = (M_lumen+M_lumen_2)/w_lumen\n",
    "    # C_art = M_art/w_art\n",
    "    # C_venous = M_venous/w_venous\n",
    "    # C_blood = (M_art + M_venous)/w_blood\n",
    "    # C_storage = M_storage/v_urine\n",
    "    \n",
    "    # Arterial Blood\n",
    "    dM_art_rs = Q_gills*C_gills/P_gills - \\\n",
    "                (Q_viscera + Q_liver + Q_kidney +\n",
    "                 Q_muscle + Q_skin + Q_carcass)*C_art\n",
    "    dC_art_rs = dM_art_rs/w_art\n",
    "        \n",
    "    # Venous blood    \n",
    "    dM_venous_rs = - Q_total*C_venous + \\\n",
    "                    (Q_liver + Q_viscera)*C_liver/P_liver + \\\n",
    "                    (Q_kidney + a_muscle*Q_muscle + a_skin*Q_skin)*C_kidney/P_kidney + \\\n",
    "                    (1-a_muscle)*Q_muscle*C_muscle/P_muscle + \\\n",
    "                    (1-a_skin)*Q_skin*C_skin/P_skin + Q_carcass*C_carcass/P_carcass\n",
    "    dC_venous_rs = dM_venous_rs/w_venous\n",
    "    \n",
    "    dC_blood_rs = (dM_art_rs + dM_venous_rs)*plasma/w_blood\n",
    "    \n",
    "    # Gills \n",
    "    dM_gills_rs = Q_gills*(C_venous - C_gills/P_gills) \n",
    "    dC_gills_rs = dM_gills_rs/w_gills \n",
    "    \n",
    "    \n",
    "    # Viscera Lumen - Available PFAS for absorption and elimination\n",
    "    dM_lumen_rs = - Ku*a*M_lumen - Cl_feces*(1-a)*M_lumen + ex\n",
    "    \n",
    "    # Viscera Lumen 2 - Unavailable PFAS for absorption. Can be only eliminated.\n",
    "    dM_lumen_2_rs = (1-f_reab_hep)*Q_bile*C_liver - Cl_feces*M_lumen_2 \n",
    "    \n",
    "    dC_lumen_rs = (dM_lumen_rs + dM_lumen_2_rs)/w_lumen\n",
    "    \n",
    "    \n",
    "    # Viscera Tissue\n",
    "    dM_viscera_rs = Q_viscera*(C_art - C_viscera/P_viscera) + Ku*a*M_lumen + \\\n",
    "                      f_reab_hep*Q_bile*C_liver\n",
    "    dC_viscera_rs = dM_viscera_rs/w_viscera\n",
    "    \n",
    "    # Liver\n",
    "    dM_liver_rs = Q_liver*C_art + Q_viscera*C_viscera/P_viscera -    \\\n",
    "                      (Q_liver + Q_viscera)*C_liver/P_liver - Q_bile*C_liver\n",
    "    dC_liver_rs = dM_liver_rs/w_liver\n",
    "        \n",
    "    # Kidney\n",
    "    dM_kidney_rs = Q_kidney*C_art -   \\\n",
    "                  (Q_kidney + a_muscle*Q_muscle + a_skin*Q_skin)*C_kidney/P_kidney + \\\n",
    "                  a_muscle*Q_muscle*C_muscle/P_muscle +   \\\n",
    "                  a_skin*Q_skin*C_skin/P_skin - Cl_urine*CLU_coef*M_kidney + f_reab_urine*M_storage\n",
    "    \n",
    "    dC_kidney_rs = dM_kidney_rs/w_kidney\n",
    "                \n",
    "    # Muscle \n",
    "    dM_muscle_rs = Q_muscle*(C_art - C_muscle/P_muscle)\n",
    "    dC_muscle_rs = dM_muscle_rs/w_muscle\n",
    "\n",
    "    # Skin\n",
    "    dM_skin_rs = Q_skin*(C_art - C_skin/P_skin)\n",
    "    dC_skin_rs = dM_skin_rs/w_skin\n",
    "    \n",
    "    # Carcass \n",
    "    dM_carcass_rs = Q_carcass*(C_art - C_carcass/P_carcass)\n",
    "    dC_carcass_rs = dM_carcass_rs/w_carcass\n",
    "    \n",
    "    # Urine Storage\n",
    "    dM_storage_rs = Cl_urine*CLU_coef*M_kidney - f_reab_urine*M_storage - Q_urine*C_storage\n",
    "    dC_storage_rs = dM_storage_rs/v_urine\n",
    "    \n",
    "    # Urine\n",
    "    dM_urine_rs = Q_urine*C_storage\n",
    "    \n",
    "    # Feces\n",
    "    dM_feces_rs = Cl_feces*((1-a)*M_lumen + M_lumen_2)\n",
    "    \n",
    "    return [\n",
    "        dM_art_ls - dM_art_rs,\n",
    "        dM_venous_ls - dM_venous_rs,\n",
    "        dM_gills_ls - dM_gills_rs,\n",
    "        dM_lumen_ls - dM_lumen_rs,\n",
    "        dM_lumen_2_ls - dM_lumen_2_rs,\n",
    "        dM_viscera_ls - dM_viscera_rs,\n",
    "        dM_liver_ls - dM_liver_rs,\n",
    "        dM_kidney_ls - dM_kidney_rs,\n",
    "        dM_muscle_ls - dM_muscle_rs,\n",
    "        dM_skin_ls - dM_skin_rs,\n",
    "        dM_carcass_ls - dM_carcass_rs,\n",
    "        dM_storage_ls - dM_storage_rs,\n",
    "        dM_urine_ls - dM_urine_rs,\n",
    "        dM_feces_ls - dM_feces_rs,\n",
    "        \n",
    "        dC_gills_ls - dC_gills_rs,\n",
    "        dC_viscera_ls - dC_viscera_rs,\n",
    "        dC_liver_ls - dC_liver_rs,\n",
    "        dC_kidney_ls - dC_kidney_rs,\n",
    "        dC_muscle_ls - dC_muscle_rs,\n",
    "        dC_skin_ls - dC_skin_rs,\n",
    "        dC_carcass_ls - dC_carcass_rs,\n",
    "        dC_lumen_ls - dC_lumen_rs,\n",
    "        dC_art_ls - dC_art_rs,\n",
    "        dC_venous_ls - dC_venous_rs,\n",
    "        dC_blood_ls - dC_blood_rs,\n",
    "        dC_storage_ls - dC_storage_rs\n",
    "    ]"
   ]
  },
  {
   "cell_type": "markdown",
   "id": "44eacaee-e378-4821-b15e-7890eddc3e44",
   "metadata": {},
   "source": [
    "Next, we consider the initial conditions. We need to implement a function, which should return True for points inside the subdomain and False for the points outside."
   ]
  },
  {
   "cell_type": "code",
   "execution_count": 9,
   "id": "98f62327-2bea-4333-b187-3c11401dce91",
   "metadata": {
    "tags": []
   },
   "outputs": [],
   "source": [
    "def boundary(_, on_initial):\n",
    "    return on_initial"
   ]
  },
  {
   "cell_type": "code",
   "execution_count": 10,
   "id": "e03fc0d9-8a62-425f-9c36-96df80764c18",
   "metadata": {
    "tags": []
   },
   "outputs": [],
   "source": [
    "# Initial conditions\n",
    "\n",
    "ic1 = dde.icbc.IC(geom, lambda X: 0, boundary, component=0) # M_art\n",
    "ic2 = dde.icbc.IC(geom, lambda X: 0, boundary, component=1) # M_venous\n",
    "ic3 = dde.icbc.IC(geom, lambda X: 0, boundary, component=2) # M_gills\n",
    "ic4 = dde.icbc.IC(geom, lambda X: 4.082, boundary, component=3) # M_lumen <<--- The initial added PFAS amount.\n",
    "ic5 = dde.icbc.IC(geom, lambda X: 0, boundary, component=4) # M_lumen_2\n",
    "ic6 = dde.icbc.IC(geom, lambda X: 0, boundary, component=5) # M_viscera\n",
    "ic7 = dde.icbc.IC(geom, lambda X: 0, boundary, component=6) # M_liver\n",
    "ic8 = dde.icbc.IC(geom, lambda X: 0, boundary, component=7) # M_kidney\n",
    "ic9 = dde.icbc.IC(geom, lambda X: 0, boundary, component=8) # M_muscle\n",
    "ic10 = dde.icbc.IC(geom, lambda X: 0, boundary, component=9) # M_skin\n",
    "ic11 = dde.icbc.IC(geom, lambda X: 0, boundary, component=10) # M_carcass\n",
    "ic12 = dde.icbc.IC(geom, lambda X: 0, boundary, component=11) # M_storage\n",
    "ic13 = dde.icbc.IC(geom, lambda X: 0, boundary, component=12) # M_urine\n",
    "ic14 = dde.icbc.IC(geom, lambda X: 0, boundary, component=13) # M_feces\n",
    "\n",
    "ic15 = dde.icbc.IC(geom, lambda X: 0, boundary, component=14) # C_gills\n",
    "ic16 = dde.icbc.IC(geom, lambda X: 0, boundary, component=15) # C_viscera\n",
    "ic17 = dde.icbc.IC(geom, lambda X: 0, boundary, component=16) # C_liver\n",
    "ic18 = dde.icbc.IC(geom, lambda X: 0, boundary, component=17) # C_kidney\n",
    "ic19 = dde.icbc.IC(geom, lambda X: 0, boundary, component=18) # C_muscle\n",
    "ic20 = dde.icbc.IC(geom, lambda X: 0, boundary, component=19) # C_skin\n",
    "ic21 = dde.icbc.IC(geom, lambda X: 0, boundary, component=20) # C_carcass\n",
    "ic22 = dde.icbc.IC(geom, lambda X: 0, boundary, component=21) # C_lumen\n",
    "ic23 = dde.icbc.IC(geom, lambda X: 0, boundary, component=22) # C_art\n",
    "ic24 = dde.icbc.IC(geom, lambda X: 0, boundary, component=23) # C_venous\n",
    "ic25 = dde.icbc.IC(geom, lambda X: 0, boundary, component=24) # C_blood\n",
    "ic26 = dde.icbc.IC(geom, lambda X: 0, boundary, component=25) # C_storage"
   ]
  },
  {
   "cell_type": "code",
   "execution_count": 11,
   "id": "3a2d1dcc-4ef5-47f4-8601-9382d4ec1a90",
   "metadata": {
    "tags": []
   },
   "outputs": [],
   "source": [
    "def gen_traindata():\n",
    "    #data = np.load('PFOS_dataset.npy')\n",
    "    data = pd.read_csv('PFOS_dataset_2.csv')\n",
    "    return np.vstack(data[\"Time\"]), np.vstack(data[\"Liver\"]), np.vstack(data[\"Blood\"]), np.vstack(data[\"Skin\"]), \\\n",
    "            np.vstack(data[\"Muscle\"]), np.vstack(data[\"Gills\"]), np.vstack(data[\"Kidney\"]), np.vstack(data[\"Carcass\"])"
   ]
  },
  {
   "cell_type": "code",
   "execution_count": 12,
   "id": "c8fd57d7-ed60-4d27-aac9-aab416695201",
   "metadata": {
    "tags": []
   },
   "outputs": [
    {
     "data": {
      "text/html": [
       "<div>\n",
       "<style scoped>\n",
       "    .dataframe tbody tr th:only-of-type {\n",
       "        vertical-align: middle;\n",
       "    }\n",
       "\n",
       "    .dataframe tbody tr th {\n",
       "        vertical-align: top;\n",
       "    }\n",
       "\n",
       "    .dataframe thead th {\n",
       "        text-align: right;\n",
       "    }\n",
       "</style>\n",
       "<table border=\"1\" class=\"dataframe\">\n",
       "  <thead>\n",
       "    <tr style=\"text-align: right;\">\n",
       "      <th></th>\n",
       "      <th>Column1</th>\n",
       "      <th>Substance</th>\n",
       "      <th>Time</th>\n",
       "      <th>Cumulative_added_PFAS</th>\n",
       "      <th>Feeding_period</th>\n",
       "      <th>Depuration_period</th>\n",
       "      <th>Liver</th>\n",
       "      <th>Blood</th>\n",
       "      <th>Skin</th>\n",
       "      <th>Muscle</th>\n",
       "      <th>Gills</th>\n",
       "      <th>Kidney</th>\n",
       "      <th>Carcass</th>\n",
       "    </tr>\n",
       "  </thead>\n",
       "  <tbody>\n",
       "    <tr>\n",
       "      <th>0</th>\n",
       "      <td>2</td>\n",
       "      <td>PFOS</td>\n",
       "      <td>168</td>\n",
       "      <td>31.89875</td>\n",
       "      <td>168</td>\n",
       "      <td>0</td>\n",
       "      <td>0.173413</td>\n",
       "      <td>0.110337</td>\n",
       "      <td>0.035337</td>\n",
       "      <td>0.028029</td>\n",
       "      <td>0.035337</td>\n",
       "      <td>0.060721</td>\n",
       "      <td>0.014183</td>\n",
       "    </tr>\n",
       "    <tr>\n",
       "      <th>1</th>\n",
       "      <td>3</td>\n",
       "      <td>PFOS</td>\n",
       "      <td>336</td>\n",
       "      <td>71.55525</td>\n",
       "      <td>336</td>\n",
       "      <td>0</td>\n",
       "      <td>0.305289</td>\n",
       "      <td>0.145674</td>\n",
       "      <td>0.052982</td>\n",
       "      <td>0.028750</td>\n",
       "      <td>0.041827</td>\n",
       "      <td>0.106827</td>\n",
       "      <td>0.019904</td>\n",
       "    </tr>\n",
       "    <tr>\n",
       "      <th>2</th>\n",
       "      <td>4</td>\n",
       "      <td>PFOS</td>\n",
       "      <td>672</td>\n",
       "      <td>174.14150</td>\n",
       "      <td>672</td>\n",
       "      <td>0</td>\n",
       "      <td>0.463269</td>\n",
       "      <td>0.237885</td>\n",
       "      <td>0.094808</td>\n",
       "      <td>0.052115</td>\n",
       "      <td>0.059038</td>\n",
       "      <td>0.159808</td>\n",
       "      <td>0.038269</td>\n",
       "    </tr>\n",
       "    <tr>\n",
       "      <th>3</th>\n",
       "      <td>5</td>\n",
       "      <td>PFOS</td>\n",
       "      <td>744</td>\n",
       "      <td>174.14150</td>\n",
       "      <td>0</td>\n",
       "      <td>72</td>\n",
       "      <td>0.377864</td>\n",
       "      <td>0.200941</td>\n",
       "      <td>0.071326</td>\n",
       "      <td>0.026326</td>\n",
       "      <td>0.050556</td>\n",
       "      <td>0.132095</td>\n",
       "      <td>0.026326</td>\n",
       "    </tr>\n",
       "    <tr>\n",
       "      <th>4</th>\n",
       "      <td>6</td>\n",
       "      <td>PFOS</td>\n",
       "      <td>840</td>\n",
       "      <td>174.14150</td>\n",
       "      <td>0</td>\n",
       "      <td>168</td>\n",
       "      <td>0.337837</td>\n",
       "      <td>0.136683</td>\n",
       "      <td>0.074375</td>\n",
       "      <td>0.019375</td>\n",
       "      <td>0.054760</td>\n",
       "      <td>0.102453</td>\n",
       "      <td>0.030145</td>\n",
       "    </tr>\n",
       "    <tr>\n",
       "      <th>5</th>\n",
       "      <td>7</td>\n",
       "      <td>PFOS</td>\n",
       "      <td>1008</td>\n",
       "      <td>174.14150</td>\n",
       "      <td>0</td>\n",
       "      <td>336</td>\n",
       "      <td>0.193942</td>\n",
       "      <td>0.090481</td>\n",
       "      <td>0.031634</td>\n",
       "      <td>0.012019</td>\n",
       "      <td>0.030481</td>\n",
       "      <td>0.055481</td>\n",
       "      <td>0.013173</td>\n",
       "    </tr>\n",
       "    <tr>\n",
       "      <th>6</th>\n",
       "      <td>8</td>\n",
       "      <td>PFOS</td>\n",
       "      <td>1344</td>\n",
       "      <td>174.14150</td>\n",
       "      <td>0</td>\n",
       "      <td>672</td>\n",
       "      <td>0.186923</td>\n",
       "      <td>0.041923</td>\n",
       "      <td>0.017308</td>\n",
       "      <td>0.004231</td>\n",
       "      <td>0.021154</td>\n",
       "      <td>0.030001</td>\n",
       "      <td>0.006923</td>\n",
       "    </tr>\n",
       "  </tbody>\n",
       "</table>\n",
       "</div>"
      ],
      "text/plain": [
       "   Column1 Substance  Time  Cumulative_added_PFAS  Feeding_period  \\\n",
       "0        2      PFOS   168               31.89875             168   \n",
       "1        3      PFOS   336               71.55525             336   \n",
       "2        4      PFOS   672              174.14150             672   \n",
       "3        5      PFOS   744              174.14150               0   \n",
       "4        6      PFOS   840              174.14150               0   \n",
       "5        7      PFOS  1008              174.14150               0   \n",
       "6        8      PFOS  1344              174.14150               0   \n",
       "\n",
       "   Depuration_period     Liver     Blood      Skin    Muscle     Gills  \\\n",
       "0                  0  0.173413  0.110337  0.035337  0.028029  0.035337   \n",
       "1                  0  0.305289  0.145674  0.052982  0.028750  0.041827   \n",
       "2                  0  0.463269  0.237885  0.094808  0.052115  0.059038   \n",
       "3                 72  0.377864  0.200941  0.071326  0.026326  0.050556   \n",
       "4                168  0.337837  0.136683  0.074375  0.019375  0.054760   \n",
       "5                336  0.193942  0.090481  0.031634  0.012019  0.030481   \n",
       "6                672  0.186923  0.041923  0.017308  0.004231  0.021154   \n",
       "\n",
       "     Kidney   Carcass  \n",
       "0  0.060721  0.014183  \n",
       "1  0.106827  0.019904  \n",
       "2  0.159808  0.038269  \n",
       "3  0.132095  0.026326  \n",
       "4  0.102453  0.030145  \n",
       "5  0.055481  0.013173  \n",
       "6  0.030001  0.006923  "
      ]
     },
     "execution_count": 12,
     "metadata": {},
     "output_type": "execute_result"
    }
   ],
   "source": [
    "pd.read_csv('PFOS_dataset_2.csv')"
   ]
  },
  {
   "cell_type": "code",
   "execution_count": 13,
   "id": "1713a6cb-973e-4038-a3c7-9df2ab23c11e",
   "metadata": {
    "tags": []
   },
   "outputs": [],
   "source": [
    "# data = pd.read_csv('PFOS_dataset_2.csv')\n",
    "# data = data[[\"Time\", 'Liver', 'Blood', 'Skin', 'Muscle', 'Gills', 'Kidney', 'Carcass']]\n",
    "# data[['Time']] = (data[['Time']] - data[['Time']].min()) / (data[['Time']].max() - data[['Time']].min())\n",
    "# data\n",
    "# #data_norm = (data - data.min()) / (data.max() - data.min())\n",
    "# #data_norm"
   ]
  },
  {
   "cell_type": "code",
   "execution_count": 14,
   "id": "45f3ea2f-c11f-4707-8ac4-a8c5661b86da",
   "metadata": {
    "tags": []
   },
   "outputs": [],
   "source": [
    "observe_t, C_liver, C_blood, C_skin, C_muscle, C_gills, C_kidney, C_carcass = gen_traindata()\n",
    "# observe_t, C_liver, C_blood, C_skin, C_muscle, C_gills, C_kidney, C_carcass = np.vstack(data[\"Time\"]), np.vstack(data[\"Liver\"]), np.vstack(data[\"Blood\"]), np.vstack(data[\"Skin\"]), \\\n",
    "#             np.vstack(data[\"Muscle\"]), np.vstack(data[\"Gills\"]), np.vstack(data[\"Kidney\"]), np.vstack(data[\"Carcass\"])\n",
    "\n",
    "observe_Blood = dde.icbc.PointSetBC(observe_t, C_blood, component=24, shuffle=False) \n",
    "observe_Gills = dde.icbc.PointSetBC(observe_t, C_gills, component=14, shuffle=False)\n",
    "observe_Liver = dde.icbc.PointSetBC(observe_t, C_liver, component=16, shuffle=False)\n",
    "observe_Kidney = dde.icbc.PointSetBC(observe_t, C_kidney, component=17, shuffle=False)\n",
    "observe_Muscle = dde.icbc.PointSetBC(observe_t, C_muscle, component=18, shuffle=False)\n",
    "observe_Skin = dde.icbc.PointSetBC(observe_t, C_skin, component=19, shuffle=False)\n",
    "observe_Carcass = dde.icbc.PointSetBC(observe_t, C_carcass, component=20,shuffle=False)"
   ]
  },
  {
   "cell_type": "markdown",
   "id": "1b7a8149-827c-4762-ad7f-da0ee604b657",
   "metadata": {},
   "source": [
    "Import the data for events."
   ]
  },
  {
   "cell_type": "code",
   "execution_count": 15,
   "id": "99b4a189-96c3-4bf9-be67-98a143c210a2",
   "metadata": {
    "tags": []
   },
   "outputs": [],
   "source": [
    "events_data = pd.read_csv('events_simplified.csv')\n",
    "time_points = np.vstack(events_data['time'])\n",
    "added_amount = np.vstack(events_data['value'])\n",
    "\n",
    "# Create an interpolation function to approximate the events_data governing function\n",
    "\n",
    "# def ex_func(t):\n",
    "#     spline = sp.interpolate.RBFInterpolator(time_points, added_amount, kernel = 'thin_plate_spline')\n",
    "#     return spline(t[:, 0:])\n",
    "\n",
    "def ex_func(t): \n",
    "    added_pfas = []\n",
    "    for time_i in t:\n",
    "        if np.isin(time_i, time_points):\n",
    "            index = np.where(np.isin(time_points, time_i))\n",
    "            added_pfas.append(added_amount[index])\n",
    "        else:\n",
    "            added_pfas.append(0)\n",
    "    return(np.vstack(added_pfas))"
   ]
  },
  {
   "cell_type": "code",
   "execution_count": 16,
   "id": "e8d316e2-ce45-4352-82a8-9de2cc51d0ad",
   "metadata": {
    "tags": []
   },
   "outputs": [
    {
     "name": "stdout",
     "output_type": "stream",
     "text": [
      "(27, 2)\n",
      "(27, 1)\n",
      "(27, 1)\n"
     ]
    }
   ],
   "source": [
    "print(events_data.shape)\n",
    "print(time_points.shape)\n",
    "print(added_amount.shape)"
   ]
  },
  {
   "cell_type": "code",
   "execution_count": 17,
   "id": "35722c76-66a9-44c8-a84a-be5fa2ff98ed",
   "metadata": {
    "tags": []
   },
   "outputs": [],
   "source": [
    "events_time_points = time_points\n",
    "\n",
    "anchors = np.concatenate((events_time_points, observe_t))\n",
    "anchors = np.sort(anchors, axis=0)\n",
    "anchors = np.vstack(np.unique(anchors))"
   ]
  },
  {
   "cell_type": "code",
   "execution_count": 18,
   "id": "ebb7dbf1-00bb-483f-ab20-ecb99d7e31db",
   "metadata": {
    "tags": []
   },
   "outputs": [],
   "source": [
    "# Now that the problem is fully setup, we define the PDE as:\n",
    "\n",
    "data = dde.data.PDE(\n",
    "    geometry = geom, # Instance of Geometry\n",
    "    pde = PBK_model, # A global PDE or a list of PDEs. None if no global PDE.\n",
    "    bcs = [ic1, ic2, ic3, ic4, ic5, ic6, ic7, ic8, ic9, ic10, ic11,\n",
    "           ic12, ic13, ic14, ic15, ic16, ic17, ic18, ic19, ic20, ic21,\n",
    "           ic22, ic23, ic24, ic25, ic26,\n",
    "           observe_Blood, observe_Gills, observe_Liver, observe_Kidney,\n",
    "           observe_Muscle, observe_Skin, observe_Carcass], #A boundary condition or a list of boundary conditions. Use [] if no boundary condition.\n",
    "    num_domain=1000, # The number of training points sampled inside the domain.\n",
    "    num_test= 100, \n",
    "    num_boundary=2, # The number of training points sampled on the boundary.\n",
    "    train_distribution = 'uniform', # The distribution to sample training points.\n",
    "    anchors=anchors, # A Numpy array of training points, in addition to the num_domain and num_boundary sampled points.\n",
    "    auxiliary_var_function = ex_func)"
   ]
  },
  {
   "cell_type": "code",
   "execution_count": 20,
   "id": "6b52a8d6-2e72-4e15-bd6a-0c81031c9455",
   "metadata": {
    "tags": []
   },
   "outputs": [],
   "source": [
    "# plt.plot(observe_t, C_blood)\n",
    "# plt.xlabel(\"Time\")\n",
    "# plt.legend([\"x\", \"y\"])\n",
    "# plt.title(\"Training data\")\n",
    "# plt.show()"
   ]
  },
  {
   "cell_type": "code",
   "execution_count": 21,
   "id": "ec46efac-9c3e-433d-8b5c-18617f3c7d77",
   "metadata": {
    "tags": []
   },
   "outputs": [],
   "source": [
    "# Hard constraints for initial conditions\n",
    "\n",
    "def output_transform(t, netout):\n",
    "    netout1 = netout[:, 0:1]\n",
    "    netout2 = netout[:, 1:2]\n",
    "    netout3 = netout[:, 2:3]\n",
    "    netout4 = netout[:, 3:4]\n",
    "    netout5 = netout[:, 4:5]\n",
    "    netout6 = netout[:, 5:6]\n",
    "    netout7 = netout[:, 6:7]\n",
    "    netout8 = netout[:, 7:8]\n",
    "    netout9 = netout[:, 8:9]\n",
    "    netout10 = netout[:, 9:10]\n",
    "    netout11 = netout[:, 10:11]\n",
    "    netout12 = netout[:, 11:12]\n",
    "    netout13 = netout[:, 12:13]\n",
    "    netout14 = netout[:, 13:14]\n",
    "    netout15 = netout[:, 14:15]\n",
    "    netout16 = netout[:, 15:16]\n",
    "    netout17 = netout[:, 16:17]\n",
    "    netout18 = netout[:, 17:18]\n",
    "    netout19 = netout[:, 18:19]\n",
    "    netout20 = netout[:, 19:20]\n",
    "    netout21 = netout[:, 20:21]\n",
    "    \n",
    "    return tf.concat(\n",
    "        [netout1 * tf.tanh(t) , netout2 * tf.tanh(t), netout3 * tf.tanh(t),\n",
    "         netout4 * tf.tanh(t) + 4.082 , \n",
    "         netout5 * tf.tanh(t), netout6 * tf.tanh(t),\n",
    "         netout7 * tf.tanh(t) , netout8 * tf.tanh(t), netout9 * tf.tanh(t),\n",
    "         netout10 * tf.tanh(t), netout11 * tf.tanh(t), netout12 * tf.tanh(t),\n",
    "         netout13 * tf.tanh(t), netout14 * tf.tanh(t), netout15 * tf.tanh(t),\n",
    "         netout16 * tf.tanh(t), netout17 * tf.tanh(t), netout18 * tf.tanh(t),\n",
    "         netout19 * tf.tanh(t), netout20 * tf.tanh(t), netout21 * tf.tanh(t)\n",
    "        ], axis=1\n",
    "    )"
   ]
  },
  {
   "cell_type": "code",
   "execution_count": 26,
   "id": "acc4ad8b-377f-4a8c-aeba-5bb55cff624c",
   "metadata": {
    "tags": []
   },
   "outputs": [],
   "source": [
    "# Next, we choose the network. \n",
    "\n",
    "initializer = tf.keras.initializers.GlorotNormal(seed = 1)\n",
    "net = dde.nn.FNN([1] + [30] * 5 + [26], \"tanh\", initializer)\n",
    "#net.apply_output_transform(output_transform)\n",
    "\n",
    "\n",
    "model = dde.Model(data, net)\n",
    "\n",
    "external_trainable_variables=[P_liver, P_muscle, P_kidney ,P_skin, P_gills, P_carcass, P_viscera]\n",
    "fnamevar = \"variables.dat\"\n",
    "variable = dde.callbacks.VariableValue(external_trainable_variables, period=10, filename=\"variables.dat\")"
   ]
  },
  {
   "cell_type": "code",
   "execution_count": 27,
   "id": "dae29a49-b888-455a-8d1c-2124764e87f0",
   "metadata": {
    "tags": []
   },
   "outputs": [
    {
     "name": "stderr",
     "output_type": "stream",
     "text": [
      "WARNING:absl:At this time, the v2.11+ optimizer `tf.keras.optimizers.Adam` runs slowly on M1/M2 Macs, please use the legacy Keras optimizer instead, located at `tf.keras.optimizers.legacy.Adam`.\n"
     ]
    },
    {
     "name": "stdout",
     "output_type": "stream",
     "text": [
      "Compiling model...\n",
      "'compile' took 0.005565 s\n",
      "\n"
     ]
    }
   ],
   "source": [
    "optimizer = 'adam' #tf.keras.optimizers.Adam()\n",
    "lr=0.01\n",
    "loss = dde.losses.mean_squared_error\n",
    "#loss_weights = np.repeat(10,49)\n",
    "\n",
    "model.compile(optimizer = optimizer, lr=lr, loss = loss, #loss_weights=loss_weights,\n",
    "              external_trainable_variables=external_trainable_variables)"
   ]
  },
  {
   "cell_type": "code",
   "execution_count": 28,
   "id": "58e2a2b1-9c04-4fa4-8072-fcd53973094c",
   "metadata": {
    "tags": []
   },
   "outputs": [
    {
     "name": "stdout",
     "output_type": "stream",
     "text": [
      "Training model...\n",
      "\n",
      "0         [6.25e+03, 5.54e+01, 3.50e+02, 1.55e+01, 3.23e-01, 5.08e+01, 5.21e+01, 9.46e+01, 1.98e+03, 2.60e+01, 8.11e+01, 1.23e-02, 1.38e-02, 2.23e-01, 1.41e+01, 3.16e+00, 1.40e+00, 1.69e+00, 2.63e-02, 2.45e-02, 8.76e-03, 0.00e+00, 0.00e+00, 0.00e+00, 1.67e+01, 0.00e+00, 0.00e+00, 0.00e+00, 0.00e+00, 0.00e+00, 0.00e+00, 0.00e+00, 0.00e+00, 0.00e+00, 0.00e+00, 0.00e+00, 0.00e+00, 0.00e+00, 0.00e+00, 0.00e+00, 0.00e+00, 0.00e+00, 4.11e-03, 1.62e-01, 2.17e-02, 3.19e-03, 6.33e-04, 1.20e-02, 5.72e-03]    [6.25e+03, 5.54e+01, 3.50e+02, 1.55e+01, 3.23e-01, 5.08e+01, 5.21e+01, 9.46e+01, 1.98e+03, 2.60e+01, 8.11e+01, 1.23e-02, 1.38e-02, 2.23e-01, 1.41e+01, 3.16e+00, 1.40e+00, 1.69e+00, 2.63e-02, 2.45e-02, 8.76e-03, 0.00e+00, 0.00e+00, 0.00e+00, 1.67e+01, 0.00e+00, 0.00e+00, 0.00e+00, 0.00e+00, 0.00e+00, 0.00e+00, 0.00e+00, 0.00e+00, 0.00e+00, 0.00e+00, 0.00e+00, 0.00e+00, 0.00e+00, 0.00e+00, 0.00e+00, 0.00e+00, 0.00e+00, 4.11e-03, 1.62e-01, 2.17e-02, 3.19e-03, 6.33e-04, 1.20e-02, 5.72e-03]    []  \n",
      "1000      [7.26e-01, 5.21e-03, 1.88e-01, 1.02e+01, 9.19e-02, 2.36e-02, 5.52e-02, 3.92e-02, 5.05e-02, 3.00e-02, 5.82e-03, 1.22e-04, 6.61e-05, 1.10e-01, 1.35e-03, 1.88e-03, 1.05e-03, 5.72e-04, 2.93e-06, 3.47e-05, 7.34e-07, 5.41e-06, 4.47e-06, 3.68e-06, 6.50e-05, 5.54e-06, 1.07e-03, 1.05e-02, 3.09e-04, 4.97e-03, 9.51e-06, 1.71e-03, 2.78e-05, 6.03e-06, 4.02e-06, 2.35e-07, 3.50e-06, 1.39e-05, 6.31e-06, 3.88e-06, 1.74e-06, 1.03e-06, 3.75e-03, 1.63e-04, 1.06e-02, 1.83e-03, 2.02e-04, 6.65e-04, 1.04e-04]    [7.26e-01, 5.21e-03, 1.88e-01, 1.02e+01, 9.19e-02, 2.36e-02, 5.52e-02, 3.92e-02, 5.05e-02, 3.00e-02, 5.82e-03, 1.22e-04, 6.61e-05, 1.10e-01, 1.35e-03, 1.88e-03, 1.05e-03, 5.72e-04, 2.93e-06, 3.47e-05, 7.34e-07, 5.41e-06, 4.47e-06, 3.68e-06, 6.50e-05, 5.54e-06, 1.07e-03, 1.05e-02, 3.09e-04, 4.97e-03, 9.51e-06, 1.71e-03, 2.78e-05, 6.03e-06, 4.02e-06, 2.35e-07, 3.50e-06, 1.39e-05, 6.31e-06, 3.88e-06, 1.74e-06, 1.03e-06, 3.75e-03, 1.63e-04, 1.06e-02, 1.83e-03, 2.02e-04, 6.65e-04, 1.04e-04]    []  \n",
      "2000      [9.40e-01, 1.03e+00, 4.04e-01, 1.03e+01, 9.78e-02, 2.70e-02, 1.49e-02, 3.37e-03, 2.87e-02, 2.62e-02, 1.20e-02, 9.34e-05, 7.36e-05, 8.66e-02, 8.15e-03, 4.40e-03, 3.06e-04, 2.80e-05, 7.27e-06, 4.95e-05, 4.17e-05, 1.94e-06, 6.29e-06, 5.16e-05, 7.90e-07, 5.83e-05, 1.67e-04, 2.26e-03, 4.85e-04, 9.22e-08, 3.45e-05, 1.09e-04, 1.44e-05, 3.09e-05, 1.67e-05, 6.74e-05, 1.76e-06, 2.79e-05, 7.80e-06, 4.09e-06, 8.15e-06, 8.15e-06, 3.83e-03, 2.70e-04, 1.05e-02, 1.82e-03, 2.01e-04, 6.96e-04, 1.04e-04]    [9.40e-01, 1.03e+00, 4.04e-01, 1.03e+01, 9.78e-02, 2.70e-02, 1.49e-02, 3.37e-03, 2.87e-02, 2.62e-02, 1.20e-02, 9.34e-05, 7.36e-05, 8.66e-02, 8.15e-03, 4.40e-03, 3.06e-04, 2.80e-05, 7.27e-06, 4.95e-05, 4.17e-05, 1.94e-06, 6.29e-06, 5.16e-05, 7.90e-07, 5.83e-05, 1.67e-04, 2.26e-03, 4.85e-04, 9.22e-08, 3.45e-05, 1.09e-04, 1.44e-05, 3.09e-05, 1.67e-05, 6.74e-05, 1.76e-06, 2.79e-05, 7.80e-06, 4.09e-06, 8.15e-06, 8.15e-06, 3.83e-03, 2.70e-04, 1.05e-02, 1.82e-03, 2.01e-04, 6.96e-04, 1.04e-04]    []  \n",
      "3000      [3.86e-02, 3.47e-02, 3.84e-02, 1.03e+01, 9.93e-02, 4.31e-02, 4.02e-02, 4.52e-02, 4.58e-02, 4.44e-02, 4.10e-02, 3.35e-05, 3.50e-05, 9.79e-02, 2.86e-04, 3.76e-04, 1.10e-03, 6.85e-04, 9.29e-07, 4.24e-05, 3.52e-06, 4.76e-05, 3.89e-07, 2.71e-04, 1.69e-06, 1.50e-07, 2.35e-05, 1.62e-03, 2.07e-04, 1.47e-08, 1.05e-05, 7.31e-08, 3.37e-08, 1.85e-07, 1.28e-07, 3.42e-08, 1.40e-07, 3.16e-07, 7.22e-09, 2.12e-07, 2.54e-07, 5.81e-08, 3.75e-03, 1.63e-04, 1.05e-02, 1.81e-03, 1.99e-04, 6.55e-04, 1.02e-04]    [3.86e-02, 3.47e-02, 3.84e-02, 1.03e+01, 9.93e-02, 4.31e-02, 4.02e-02, 4.52e-02, 4.58e-02, 4.44e-02, 4.10e-02, 3.35e-05, 3.50e-05, 9.79e-02, 2.86e-04, 3.76e-04, 1.10e-03, 6.85e-04, 9.29e-07, 4.24e-05, 3.52e-06, 4.76e-05, 3.89e-07, 2.71e-04, 1.69e-06, 1.50e-07, 2.35e-05, 1.62e-03, 2.07e-04, 1.47e-08, 1.05e-05, 7.31e-08, 3.37e-08, 1.85e-07, 1.28e-07, 3.42e-08, 1.40e-07, 3.16e-07, 7.22e-09, 2.12e-07, 2.54e-07, 5.81e-08, 3.75e-03, 1.63e-04, 1.05e-02, 1.81e-03, 1.99e-04, 6.55e-04, 1.02e-04]    []  \n",
      "4000      [4.31e-02, 4.94e-02, 3.51e-02, 1.03e+01, 9.77e-02, 4.37e-02, 3.91e-02, 3.92e-02, 4.22e-02, 4.17e-02, 3.72e-02, 1.05e-05, 9.49e-06, 9.90e-02, 3.57e-04, 3.41e-04, 1.06e-03, 5.95e-04, 2.91e-06, 4.00e-05, 3.21e-06, 1.25e-04, 1.60e-04, 1.34e-03, 2.06e-06, 3.63e-07, 3.16e-05, 3.03e-04, 1.82e-03, 2.67e-06, 1.82e-05, 4.73e-05, 1.29e-06, 1.25e-06, 8.44e-09, 2.04e-08, 6.49e-08, 2.54e-07, 1.50e-05, 2.52e-06, 7.46e-08, 3.52e-09, 3.75e-03, 1.63e-04, 1.05e-02, 1.85e-03, 2.05e-04, 6.54e-04, 1.02e-04]    [4.31e-02, 4.94e-02, 3.51e-02, 1.03e+01, 9.77e-02, 4.37e-02, 3.91e-02, 3.92e-02, 4.22e-02, 4.17e-02, 3.72e-02, 1.05e-05, 9.49e-06, 9.90e-02, 3.57e-04, 3.41e-04, 1.06e-03, 5.95e-04, 2.91e-06, 4.00e-05, 3.21e-06, 1.25e-04, 1.60e-04, 1.34e-03, 2.06e-06, 3.63e-07, 3.16e-05, 3.03e-04, 1.82e-03, 2.67e-06, 1.82e-05, 4.73e-05, 1.29e-06, 1.25e-06, 8.44e-09, 2.04e-08, 6.49e-08, 2.54e-07, 1.50e-05, 2.52e-06, 7.46e-08, 3.52e-09, 3.75e-03, 1.63e-04, 1.05e-02, 1.85e-03, 2.05e-04, 6.54e-04, 1.02e-04]    []  \n",
      "5000      [1.24e-03, 6.74e-02, 2.90e-02, 1.03e+01, 9.95e-02, 4.87e-02, 3.78e-02, 4.13e-02, 9.43e-02, 4.56e-02, 5.02e-02, 2.03e-05, 2.28e-05, 9.74e-02, 1.65e-04, 2.80e-04, 1.04e-03, 6.27e-04, 1.18e-06, 4.38e-05, 4.39e-06, 5.61e-05, 1.43e-05, 4.77e-04, 3.11e-08, 3.55e-07, 7.47e-07, 6.27e-05, 4.60e-04, 7.00e-06, 3.94e-06, 4.69e-08, 3.39e-07, 3.57e-08, 1.34e-07, 7.27e-07, 1.71e-07, 2.07e-07, 2.50e-08, 7.44e-08, 6.18e-08, 5.32e-09, 3.75e-03, 1.63e-04, 1.05e-02, 1.81e-03, 1.98e-04, 6.54e-04, 1.02e-04]    [1.24e-03, 6.74e-02, 2.90e-02, 1.03e+01, 9.95e-02, 4.87e-02, 3.78e-02, 4.13e-02, 9.43e-02, 4.56e-02, 5.02e-02, 2.03e-05, 2.28e-05, 9.74e-02, 1.65e-04, 2.80e-04, 1.04e-03, 6.27e-04, 1.18e-06, 4.38e-05, 4.39e-06, 5.61e-05, 1.43e-05, 4.77e-04, 3.11e-08, 3.55e-07, 7.47e-07, 6.27e-05, 4.60e-04, 7.00e-06, 3.94e-06, 4.69e-08, 3.39e-07, 3.57e-08, 1.34e-07, 7.27e-07, 1.71e-07, 2.07e-07, 2.50e-08, 7.44e-08, 6.18e-08, 5.32e-09, 3.75e-03, 1.63e-04, 1.05e-02, 1.81e-03, 1.98e-04, 6.54e-04, 1.02e-04]    []  \n",
      "6000      [2.57e-02, 2.47e-02, 6.47e-02, 1.03e+01, 9.75e-02, 4.54e-02, 3.83e-02, 4.54e-02, 4.76e-02, 4.12e-02, 4.38e-02, 5.59e-05, 5.39e-05, 9.97e-02, 1.96e-04, 6.29e-04, 1.05e-03, 6.95e-04, 5.89e-07, 3.96e-05, 3.78e-06, 8.53e-06, 1.60e-06, 5.18e-05, 4.76e-07, 2.84e-07, 1.11e-05, 1.02e-04, 3.94e-04, 2.51e-06, 5.08e-06, 2.50e-08, 2.68e-07, 4.19e-08, 1.64e-08, 1.80e-06, 5.42e-06, 4.92e-10, 6.51e-07, 1.36e-08, 6.13e-07, 1.52e-06, 3.75e-03, 1.63e-04, 1.05e-02, 1.81e-03, 1.98e-04, 6.55e-04, 1.02e-04]    [2.57e-02, 2.47e-02, 6.47e-02, 1.03e+01, 9.75e-02, 4.54e-02, 3.83e-02, 4.54e-02, 4.76e-02, 4.12e-02, 4.38e-02, 5.59e-05, 5.39e-05, 9.97e-02, 1.96e-04, 6.29e-04, 1.05e-03, 6.95e-04, 5.89e-07, 3.96e-05, 3.78e-06, 8.53e-06, 1.60e-06, 5.18e-05, 4.76e-07, 2.84e-07, 1.11e-05, 1.02e-04, 3.94e-04, 2.51e-06, 5.08e-06, 2.50e-08, 2.68e-07, 4.19e-08, 1.64e-08, 1.80e-06, 5.42e-06, 4.92e-10, 6.51e-07, 1.36e-08, 6.13e-07, 1.52e-06, 3.75e-03, 1.63e-04, 1.05e-02, 1.81e-03, 1.98e-04, 6.55e-04, 1.02e-04]    []  \n",
      "7000      [7.41e-02, 5.50e-02, 2.38e-02, 1.03e+01, 9.28e-02, 4.21e-02, 4.40e-02, 3.83e-02, 2.67e-02, 3.91e-02, 3.81e-02, 3.19e-05, 1.53e-05, 1.06e-01, 4.99e-04, 2.34e-04, 1.20e-03, 5.84e-04, 6.25e-06, 3.94e-05, 3.27e-06, 3.55e-05, 3.43e-06, 4.54e-04, 1.28e-06, 1.27e-06, 9.67e-06, 7.77e-05, 3.27e-04, 9.11e-06, 1.64e-06, 9.34e-08, 2.73e-09, 1.22e-07, 7.34e-07, 5.84e-08, 6.18e-09, 3.89e-08, 2.67e-07, 4.31e-09, 2.02e-07, 1.49e-06, 3.79e-03, 1.63e-04, 1.05e-02, 1.82e-03, 2.34e-04, 6.65e-04, 1.02e-04]    [7.41e-02, 5.50e-02, 2.38e-02, 1.03e+01, 9.28e-02, 4.21e-02, 4.40e-02, 3.83e-02, 2.67e-02, 3.91e-02, 3.81e-02, 3.19e-05, 1.53e-05, 1.06e-01, 4.99e-04, 2.34e-04, 1.20e-03, 5.84e-04, 6.25e-06, 3.94e-05, 3.27e-06, 3.55e-05, 3.43e-06, 4.54e-04, 1.28e-06, 1.27e-06, 9.67e-06, 7.77e-05, 3.27e-04, 9.11e-06, 1.64e-06, 9.34e-08, 2.73e-09, 1.22e-07, 7.34e-07, 5.84e-08, 6.18e-09, 3.89e-08, 2.67e-07, 4.31e-09, 2.02e-07, 1.49e-06, 3.79e-03, 1.63e-04, 1.05e-02, 1.82e-03, 2.34e-04, 6.65e-04, 1.02e-04]    []  \n",
      "8000      [4.47e-02, 9.90e-02, 7.12e-02, 1.08e+01, 1.13e-01, 2.08e-01, 1.27e-01, 7.95e-02, 1.34e-01, 1.93e-02, 1.60e-02, 2.50e-05, 4.21e-05, 2.83e-01, 5.51e-04, 7.18e-04, 3.56e-03, 1.25e-03, 1.68e-06, 1.90e-05, 1.41e-06, 1.10e-05, 1.38e-04, 7.04e-04, 2.91e+00, 6.55e-02, 1.89e-01, 1.28e-01, 3.35e-04, 1.39e-03, 1.41e-02, 7.88e-03, 2.73e-05, 5.39e-07, 7.60e-10, 4.48e-03, 4.74e-04, 2.11e-02, 2.02e-03, 7.36e-05, 6.42e-04, 1.90e-04, 8.76e-03, 5.66e-04, 3.18e-02, 4.08e-03, 4.49e-04, 1.47e-03, 1.58e-04]    [4.47e-02, 9.90e-02, 7.12e-02, 1.08e+01, 1.13e-01, 2.08e-01, 1.27e-01, 7.95e-02, 1.34e-01, 1.93e-02, 1.60e-02, 2.50e-05, 4.21e-05, 2.83e-01, 5.51e-04, 7.18e-04, 3.56e-03, 1.25e-03, 1.68e-06, 1.90e-05, 1.41e-06, 1.10e-05, 1.38e-04, 7.04e-04, 2.91e+00, 6.55e-02, 1.89e-01, 1.28e-01, 3.35e-04, 1.39e-03, 1.41e-02, 7.88e-03, 2.73e-05, 5.39e-07, 7.60e-10, 4.48e-03, 4.74e-04, 2.11e-02, 2.02e-03, 7.36e-05, 6.42e-04, 1.90e-04, 8.76e-03, 5.66e-04, 3.18e-02, 4.08e-03, 4.49e-04, 1.47e-03, 1.58e-04]    []  \n",
      "9000      [1.18e-01, 9.99e-02, 7.32e-02, 1.09e+01, 1.15e-01, 1.60e-01, 1.25e-01, 8.12e-02, 9.61e-02, 1.96e-02, 1.48e-02, 3.29e-05, 5.23e-05, 2.88e-01, 8.65e-04, 7.38e-04, 3.51e-03, 1.28e-03, 1.21e-06, 1.93e-05, 1.30e-06, 8.71e-06, 1.55e-04, 8.37e-04, 2.84e+00, 6.67e-02, 7.21e-02, 1.22e-01, 3.54e-04, 2.15e-03, 1.51e-02, 8.57e-03, 3.39e-05, 5.08e-09, 1.27e-09, 4.75e-03, 4.39e-04, 2.12e-02, 2.14e-03, 1.48e-04, 7.25e-04, 1.13e-04, 8.48e-03, 6.00e-04, 3.17e-02, 3.95e-03, 3.48e-04, 1.39e-03, 2.15e-04]    [1.18e-01, 9.99e-02, 7.32e-02, 1.09e+01, 1.15e-01, 1.60e-01, 1.25e-01, 8.12e-02, 9.61e-02, 1.96e-02, 1.48e-02, 3.29e-05, 5.23e-05, 2.88e-01, 8.65e-04, 7.38e-04, 3.51e-03, 1.28e-03, 1.21e-06, 1.93e-05, 1.30e-06, 8.71e-06, 1.55e-04, 8.37e-04, 2.84e+00, 6.67e-02, 7.21e-02, 1.22e-01, 3.54e-04, 2.15e-03, 1.51e-02, 8.57e-03, 3.39e-05, 5.08e-09, 1.27e-09, 4.75e-03, 4.39e-04, 2.12e-02, 2.14e-03, 1.48e-04, 7.25e-04, 1.13e-04, 8.48e-03, 6.00e-04, 3.17e-02, 3.95e-03, 3.48e-04, 1.39e-03, 2.15e-04]    []  \n",
      "10000     [1.55e+00, 3.90e-01, 1.57e+00, 1.09e+01, 1.15e-01, 2.38e-01, 1.63e-01, 2.48e-01, 1.50e+00, 6.17e-02, 9.28e-02, 3.70e-05, 7.10e-05, 2.91e-01, 6.96e-03, 1.58e-02, 4.58e-03, 3.91e-03, 1.89e-05, 6.08e-05, 8.15e-06, 1.06e-04, 4.26e-04, 5.84e-04, 2.81e+00, 6.67e-02, 6.20e-02, 1.05e-01, 7.66e-04, 1.41e-03, 1.60e-02, 1.04e-02, 4.90e-05, 8.38e-06, 2.35e-10, 4.71e-03, 3.25e-04, 2.60e-02, 3.52e-03, 1.99e-04, 8.42e-04, 1.07e-04, 8.52e-03, 7.21e-04, 2.74e-02, 2.91e-03, 3.06e-04, 1.28e-03, 2.19e-04]    [1.55e+00, 3.90e-01, 1.57e+00, 1.09e+01, 1.15e-01, 2.38e-01, 1.63e-01, 2.48e-01, 1.50e+00, 6.17e-02, 9.28e-02, 3.70e-05, 7.10e-05, 2.91e-01, 6.96e-03, 1.58e-02, 4.58e-03, 3.91e-03, 1.89e-05, 6.08e-05, 8.15e-06, 1.06e-04, 4.26e-04, 5.84e-04, 2.81e+00, 6.67e-02, 6.20e-02, 1.05e-01, 7.66e-04, 1.41e-03, 1.60e-02, 1.04e-02, 4.90e-05, 8.38e-06, 2.35e-10, 4.71e-03, 3.25e-04, 2.60e-02, 3.52e-03, 1.99e-04, 8.42e-04, 1.07e-04, 8.52e-03, 7.21e-04, 2.74e-02, 2.91e-03, 3.06e-04, 1.28e-03, 2.19e-04]    []  \n",
      "11000     [1.12e+01, 2.41e+00, 4.22e+00, 1.02e+01, 9.16e-02, 6.75e-01, 1.01e-02, 4.15e-01, 5.29e+00, 1.87e-01, 3.51e-01, 2.31e-04, 8.16e-05, 1.19e-01, 5.25e-02, 4.14e-02, 5.20e-04, 6.38e-03, 7.06e-05, 1.76e-04, 9.62e-05, 5.08e-04, 8.65e-04, 2.14e-03, 5.43e-05, 1.70e-05, 1.89e-02, 5.80e-03, 3.64e-04, 2.79e-04, 5.68e-05, 1.15e-03, 2.01e-04, 5.90e-05, 6.35e-05, 1.53e-03, 2.74e-05, 2.27e-04, 4.71e-04, 1.20e-05, 6.87e-05, 5.06e-05, 7.38e-03, 1.97e-04, 1.13e-02, 2.95e-03, 2.10e-04, 7.82e-04, 1.04e-04]    [1.12e+01, 2.41e+00, 4.22e+00, 1.02e+01, 9.16e-02, 6.75e-01, 1.01e-02, 4.15e-01, 5.29e+00, 1.87e-01, 3.51e-01, 2.31e-04, 8.16e-05, 1.19e-01, 5.25e-02, 4.14e-02, 5.20e-04, 6.38e-03, 7.06e-05, 1.76e-04, 9.62e-05, 5.08e-04, 8.65e-04, 2.14e-03, 5.43e-05, 1.70e-05, 1.89e-02, 5.80e-03, 3.64e-04, 2.79e-04, 5.68e-05, 1.15e-03, 2.01e-04, 5.90e-05, 6.35e-05, 1.53e-03, 2.74e-05, 2.27e-04, 4.71e-04, 1.20e-05, 6.87e-05, 5.06e-05, 7.38e-03, 1.97e-04, 1.13e-02, 2.95e-03, 2.10e-04, 7.82e-04, 1.04e-04]    []  \n",
      "12000     [4.31e-02, 4.45e-02, 4.40e-02, 1.03e+01, 9.70e-02, 1.57e-01, 4.74e-02, 4.38e-02, 4.66e-02, 4.01e-02, 3.35e-02, 7.71e-05, 6.07e-05, 1.03e-01, 4.27e-04, 4.42e-04, 1.17e-03, 7.13e-04, 7.18e-06, 4.59e-05, 7.42e-06, 1.60e-06, 2.56e-05, 3.66e-04, 1.97e-03, 7.59e-05, 2.55e-02, 2.55e-03, 1.83e-04, 1.10e-05, 5.58e-05, 2.40e-04, 1.47e-06, 3.49e-10, 3.74e-10, 1.26e-05, 1.47e-06, 1.08e-06, 3.73e-06, 5.75e-07, 6.75e-07, 6.57e-07, 3.76e-03, 1.64e-04, 1.05e-02, 1.82e-03, 1.99e-04, 6.54e-04, 1.03e-04]    [4.31e-02, 4.45e-02, 4.40e-02, 1.03e+01, 9.70e-02, 1.57e-01, 4.74e-02, 4.38e-02, 4.66e-02, 4.01e-02, 3.35e-02, 7.71e-05, 6.07e-05, 1.03e-01, 4.27e-04, 4.42e-04, 1.17e-03, 7.13e-04, 7.18e-06, 4.59e-05, 7.42e-06, 1.60e-06, 2.56e-05, 3.66e-04, 1.97e-03, 7.59e-05, 2.55e-02, 2.55e-03, 1.83e-04, 1.10e-05, 5.58e-05, 2.40e-04, 1.47e-06, 3.49e-10, 3.74e-10, 1.26e-05, 1.47e-06, 1.08e-06, 3.73e-06, 5.75e-07, 6.75e-07, 6.57e-07, 3.76e-03, 1.64e-04, 1.05e-02, 1.82e-03, 1.99e-04, 6.54e-04, 1.03e-04]    []  \n",
      "13000     [3.79e+00, 2.18e+00, 1.32e+00, 1.07e+01, 6.91e-02, 1.66e-01, 1.82e-01, 3.11e-03, 9.95e-01, 2.08e-03, 3.15e-03, 4.49e-03, 4.22e-03, 1.69e-01, 2.28e-02, 1.37e-02, 5.79e-03, 9.94e-05, 1.22e-05, 2.41e-06, 2.70e-07, 2.94e-07, 3.02e-04, 1.10e-05, 9.83e-02, 1.50e-04, 1.04e-01, 9.89e-04, 1.58e-03, 2.15e-03, 1.48e-02, 8.39e-05, 3.50e-03, 3.71e-03, 4.87e-05, 1.35e-03, 1.05e-04, 1.51e-03, 2.20e-04, 4.95e-05, 9.03e-04, 3.88e-03, 3.80e-03, 2.42e-04, 1.16e-02, 2.08e-03, 2.26e-04, 1.33e-03, 2.00e-03]    [3.79e+00, 2.18e+00, 1.32e+00, 1.07e+01, 6.91e-02, 1.66e-01, 1.82e-01, 3.11e-03, 9.95e-01, 2.08e-03, 3.15e-03, 4.49e-03, 4.22e-03, 1.69e-01, 2.28e-02, 1.37e-02, 5.79e-03, 9.94e-05, 1.22e-05, 2.41e-06, 2.70e-07, 2.94e-07, 3.02e-04, 1.10e-05, 9.83e-02, 1.50e-04, 1.04e-01, 9.89e-04, 1.58e-03, 2.15e-03, 1.48e-02, 8.39e-05, 3.50e-03, 3.71e-03, 4.87e-05, 1.35e-03, 1.05e-04, 1.51e-03, 2.20e-04, 4.95e-05, 9.03e-04, 3.88e-03, 3.80e-03, 2.42e-04, 1.16e-02, 2.08e-03, 2.26e-04, 1.33e-03, 2.00e-03]    []  \n",
      "14000     [4.61e-02, 4.14e-02, 4.11e-02, 1.07e+01, 9.88e-02, 1.63e-01, 5.72e-02, 3.96e-02, 3.93e-02, 4.08e-02, 4.13e-02, 2.08e-05, 5.48e-05, 1.29e-01, 3.42e-04, 4.07e-04, 2.32e-03, 6.09e-04, 4.86e-07, 3.91e-05, 3.54e-06, 7.46e-07, 6.50e-07, 2.72e-06, 3.14e-02, 7.50e-04, 3.24e-02, 4.20e-03, 4.57e-05, 2.21e-06, 1.67e-06, 9.34e-07, 6.43e-08, 6.84e-11, 5.68e-14, 1.89e-10, 1.45e-10, 2.19e-09, 1.10e-11, 4.75e-11, 6.31e-11, 2.06e-09, 3.75e-03, 1.63e-04, 1.05e-02, 1.81e-03, 1.98e-04, 6.54e-04, 1.02e-04]    [4.61e-02, 4.14e-02, 4.11e-02, 1.07e+01, 9.88e-02, 1.63e-01, 5.72e-02, 3.96e-02, 3.93e-02, 4.08e-02, 4.13e-02, 2.08e-05, 5.48e-05, 1.29e-01, 3.42e-04, 4.07e-04, 2.32e-03, 6.09e-04, 4.86e-07, 3.91e-05, 3.54e-06, 7.46e-07, 6.50e-07, 2.72e-06, 3.14e-02, 7.50e-04, 3.24e-02, 4.20e-03, 4.57e-05, 2.21e-06, 1.67e-06, 9.34e-07, 6.43e-08, 6.84e-11, 5.68e-14, 1.89e-10, 1.45e-10, 2.19e-09, 1.10e-11, 4.75e-11, 6.31e-11, 2.06e-09, 3.75e-03, 1.63e-04, 1.05e-02, 1.81e-03, 1.98e-04, 6.54e-04, 1.02e-04]    []  \n",
      "15000     [6.00e+00, 1.22e+00, 2.32e+00, 1.07e+01, 9.89e-02, 3.36e-01, 5.52e-02, 2.24e-01, 3.36e+00, 1.55e-01, 2.74e-01, 1.22e-04, 3.89e-05, 1.30e-01, 2.53e-02, 2.33e-02, 2.28e-03, 3.48e-03, 4.20e-05, 1.49e-04, 2.37e-05, 1.56e-04, 1.72e-04, 1.41e-04, 2.78e-02, 7.81e-04, 3.21e-02, 3.91e-03, 3.56e-04, 1.50e-04, 2.19e-04, 1.84e-04, 1.30e-04, 2.05e-05, 5.78e-08, 4.30e-07, 3.27e-05, 1.07e-05, 1.34e-05, 2.62e-05, 2.25e-05, 2.29e-05, 3.75e-03, 1.92e-04, 1.05e-02, 1.83e-03, 2.25e-04, 6.78e-04, 1.25e-04]    [6.00e+00, 1.22e+00, 2.32e+00, 1.07e+01, 9.89e-02, 3.36e-01, 5.52e-02, 2.24e-01, 3.36e+00, 1.55e-01, 2.74e-01, 1.22e-04, 3.89e-05, 1.30e-01, 2.53e-02, 2.33e-02, 2.28e-03, 3.48e-03, 4.20e-05, 1.49e-04, 2.37e-05, 1.56e-04, 1.72e-04, 1.41e-04, 2.78e-02, 7.81e-04, 3.21e-02, 3.91e-03, 3.56e-04, 1.50e-04, 2.19e-04, 1.84e-04, 1.30e-04, 2.05e-05, 5.78e-08, 4.30e-07, 3.27e-05, 1.07e-05, 1.34e-05, 2.62e-05, 2.25e-05, 2.29e-05, 3.75e-03, 1.92e-04, 1.05e-02, 1.83e-03, 2.25e-04, 6.78e-04, 1.25e-04]    []  \n",
      "16000     [3.71e-02, 3.87e-02, 4.38e-02, 1.07e+01, 9.89e-02, 1.67e-01, 5.76e-02, 4.03e-02, 4.47e-02, 4.12e-02, 4.23e-02, 2.02e-05, 5.61e-05, 1.29e-01, 2.96e-04, 4.33e-04, 2.36e-03, 6.19e-04, 5.50e-07, 3.95e-05, 3.63e-06, 6.25e-07, 4.56e-07, 8.13e-06, 3.16e-02, 7.68e-04, 3.31e-02, 3.66e-03, 4.49e-05, 1.62e-06, 1.02e-06, 5.81e-07, 7.23e-09, 8.14e-09, 2.82e-10, 2.00e-10, 2.08e-09, 9.41e-09, 4.26e-09, 1.50e-08, 5.09e-10, 7.70e-09, 3.75e-03, 1.63e-04, 1.05e-02, 1.81e-03, 1.98e-04, 6.54e-04, 1.02e-04]    [3.71e-02, 3.87e-02, 4.38e-02, 1.07e+01, 9.89e-02, 1.67e-01, 5.76e-02, 4.03e-02, 4.47e-02, 4.12e-02, 4.23e-02, 2.02e-05, 5.61e-05, 1.29e-01, 2.96e-04, 4.33e-04, 2.36e-03, 6.19e-04, 5.50e-07, 3.95e-05, 3.63e-06, 6.25e-07, 4.56e-07, 8.13e-06, 3.16e-02, 7.68e-04, 3.31e-02, 3.66e-03, 4.49e-05, 1.62e-06, 1.02e-06, 5.81e-07, 7.23e-09, 8.14e-09, 2.82e-10, 2.00e-10, 2.08e-09, 9.41e-09, 4.26e-09, 1.50e-08, 5.09e-10, 7.70e-09, 3.75e-03, 1.63e-04, 1.05e-02, 1.81e-03, 1.98e-04, 6.54e-04, 1.02e-04]    []  \n",
      "17000     [6.46e+01, 2.72e+00, 3.24e+00, 1.05e+01, 3.63e-03, 5.96e-01, 2.26e-02, 2.53e-01, 1.94e+01, 3.67e-01, 8.28e-01, 6.20e-03, 5.30e-03, 3.72e-01, 1.86e-01, 3.97e-02, 6.10e-04, 4.01e-03, 2.44e-04, 3.89e-04, 7.15e-05, 1.36e-03, 1.71e-03, 1.09e-02, 1.40e+00, 1.08e-02, 3.43e-01, 3.14e-02, 4.55e-03, 2.14e-01, 3.60e-01, 2.05e-02, 4.23e-03, 1.33e-02, 4.63e-02, 9.03e-04, 2.95e-02, 4.24e-02, 2.38e-02, 1.98e-03, 9.69e-04, 6.13e-03, 1.59e-02, 3.69e-02, 1.09e-01, 1.67e-02, 3.81e-03, 8.88e-03, 4.71e-03]    [6.46e+01, 2.72e+00, 3.24e+00, 1.05e+01, 3.63e-03, 5.96e-01, 2.26e-02, 2.53e-01, 1.94e+01, 3.67e-01, 8.28e-01, 6.20e-03, 5.30e-03, 3.72e-01, 1.86e-01, 3.97e-02, 6.10e-04, 4.01e-03, 2.44e-04, 3.89e-04, 7.15e-05, 1.36e-03, 1.71e-03, 1.09e-02, 1.40e+00, 1.08e-02, 3.43e-01, 3.14e-02, 4.55e-03, 2.14e-01, 3.60e-01, 2.05e-02, 4.23e-03, 1.33e-02, 4.63e-02, 9.03e-04, 2.95e-02, 4.24e-02, 2.38e-02, 1.98e-03, 9.69e-04, 6.13e-03, 1.59e-02, 3.69e-02, 1.09e-01, 1.67e-02, 3.81e-03, 8.88e-03, 4.71e-03]    []  \n",
      "18000     [4.12e-02, 4.15e-02, 4.09e-02, 1.03e+01, 1.01e-01, 2.60e-01, 4.84e-02, 3.99e-02, 4.42e-02, 4.19e-02, 4.23e-02, 1.84e-02, 6.37e-05, 1.00e-01, 2.68e-02, 1.35e-03, 2.51e-02, 6.16e-04, 1.70e-06, 1.57e-02, 3.42e-05, 6.35e-06, 1.06e-05, 1.80e-04, 1.16e-02, 1.69e-04, 2.30e-02, 4.83e-04, 1.31e-04, 9.63e-06, 4.59e-06, 1.55e-06, 4.17e-04, 3.09e-11, 7.68e-08, 1.91e-08, 4.67e-09, 1.30e-09, 4.01e-11, 1.95e-11, 1.86e-07, 5.76e-13, 3.75e-03, 1.63e-04, 1.05e-02, 1.81e-03, 1.98e-04, 6.55e-04, 1.02e-04]    [4.12e-02, 4.15e-02, 4.09e-02, 1.03e+01, 1.01e-01, 2.60e-01, 4.84e-02, 3.99e-02, 4.42e-02, 4.19e-02, 4.23e-02, 1.84e-02, 6.37e-05, 1.00e-01, 2.68e-02, 1.35e-03, 2.51e-02, 6.16e-04, 1.70e-06, 1.57e-02, 3.42e-05, 6.35e-06, 1.06e-05, 1.80e-04, 1.16e-02, 1.69e-04, 2.30e-02, 4.83e-04, 1.31e-04, 9.63e-06, 4.59e-06, 1.55e-06, 4.17e-04, 3.09e-11, 7.68e-08, 1.91e-08, 4.67e-09, 1.30e-09, 4.01e-11, 1.95e-11, 1.86e-07, 5.76e-13, 3.75e-03, 1.63e-04, 1.05e-02, 1.81e-03, 1.98e-04, 6.55e-04, 1.02e-04]    []  \n",
      "19000     [4.59e-02, 4.38e-02, 3.85e-02, 1.03e+01, 9.86e-02, 4.63e-02, 3.99e-02, 3.92e-02, 3.89e-02, 4.02e-02, 4.14e-02, 1.05e-05, 7.87e-05, 9.86e-02, 3.48e-04, 3.78e-04, 1.08e-03, 5.95e-04, 4.89e-07, 3.85e-05, 3.55e-06, 1.31e-05, 2.97e-05, 1.88e-04, 9.87e-06, 4.46e-09, 1.49e-04, 9.56e-05, 2.20e-04, 2.32e-08, 2.29e-06, 8.46e-10, 9.09e-08, 3.14e-12, 1.88e-10, 1.59e-11, 2.19e-12, 5.40e-12, 7.81e-14, 1.86e-13, 8.13e-13, 2.63e-14, 3.75e-03, 1.63e-04, 1.05e-02, 1.81e-03, 1.98e-04, 6.54e-04, 1.02e-04]    [4.59e-02, 4.38e-02, 3.85e-02, 1.03e+01, 9.86e-02, 4.63e-02, 3.99e-02, 3.92e-02, 3.89e-02, 4.02e-02, 4.14e-02, 1.05e-05, 7.87e-05, 9.86e-02, 3.48e-04, 3.78e-04, 1.08e-03, 5.95e-04, 4.89e-07, 3.85e-05, 3.55e-06, 1.31e-05, 2.97e-05, 1.88e-04, 9.87e-06, 4.46e-09, 1.49e-04, 9.56e-05, 2.20e-04, 2.32e-08, 2.29e-06, 8.46e-10, 9.09e-08, 3.14e-12, 1.88e-10, 1.59e-11, 2.19e-12, 5.40e-12, 7.81e-14, 1.86e-13, 8.13e-13, 2.63e-14, 3.75e-03, 1.63e-04, 1.05e-02, 1.81e-03, 1.98e-04, 6.54e-04, 1.02e-04]    []  \n",
      "20000     [1.11e-01, 7.42e-02, 1.79e-02, 1.03e+01, 9.86e-02, 4.04e-02, 3.93e-02, 3.47e-02, 1.55e-02, 3.69e-02, 3.53e-02, 1.88e-05, 8.23e-05, 9.87e-02, 7.09e-04, 1.79e-04, 1.07e-03, 5.25e-04, 3.35e-07, 3.54e-05, 3.11e-06, 5.70e-06, 1.42e-05, 2.23e-04, 1.54e-10, 1.13e-07, 4.09e-05, 1.01e-06, 8.88e-05, 3.15e-07, 1.73e-06, 4.13e-08, 7.13e-07, 4.78e-07, 1.61e-10, 3.14e-09, 2.75e-10, 1.56e-09, 2.17e-09, 1.01e-11, 2.29e-10, 5.37e-10, 3.75e-03, 1.63e-04, 1.05e-02, 1.81e-03, 1.98e-04, 6.54e-04, 1.02e-04]    [1.11e-01, 7.42e-02, 1.79e-02, 1.03e+01, 9.86e-02, 4.04e-02, 3.93e-02, 3.47e-02, 1.55e-02, 3.69e-02, 3.53e-02, 1.88e-05, 8.23e-05, 9.87e-02, 7.09e-04, 1.79e-04, 1.07e-03, 5.25e-04, 3.35e-07, 3.54e-05, 3.11e-06, 5.70e-06, 1.42e-05, 2.23e-04, 1.54e-10, 1.13e-07, 4.09e-05, 1.01e-06, 8.88e-05, 3.15e-07, 1.73e-06, 4.13e-08, 7.13e-07, 4.78e-07, 1.61e-10, 3.14e-09, 2.75e-10, 1.56e-09, 2.17e-09, 1.01e-11, 2.29e-10, 5.37e-10, 3.75e-03, 1.63e-04, 1.05e-02, 1.81e-03, 1.98e-04, 6.54e-04, 1.02e-04]    []  \n",
      "21000     [4.08e-02, 4.18e-02, 4.06e-02, 1.03e+01, 9.87e-02, 4.42e-02, 3.98e-02, 3.95e-02, 4.21e-02, 4.06e-02, 4.18e-02, 1.04e-05, 7.93e-05, 9.87e-02, 3.21e-04, 3.98e-04, 1.08e-03, 6.02e-04, 5.32e-07, 3.89e-05, 3.60e-06, 7.50e-06, 1.46e-05, 2.16e-04, 1.23e-07, 1.82e-09, 1.16e-05, 3.77e-08, 5.40e-05, 4.50e-08, 1.30e-06, 1.33e-08, 6.93e-08, 3.13e-09, 2.15e-12, 3.36e-11, 2.44e-12, 1.26e-11, 1.78e-11, 1.58e-12, 7.60e-12, 4.75e-12, 3.75e-03, 1.63e-04, 1.05e-02, 1.81e-03, 1.98e-04, 6.54e-04, 1.02e-04]    [4.08e-02, 4.18e-02, 4.06e-02, 1.03e+01, 9.87e-02, 4.42e-02, 3.98e-02, 3.95e-02, 4.21e-02, 4.06e-02, 4.18e-02, 1.04e-05, 7.93e-05, 9.87e-02, 3.21e-04, 3.98e-04, 1.08e-03, 6.02e-04, 5.32e-07, 3.89e-05, 3.60e-06, 7.50e-06, 1.46e-05, 2.16e-04, 1.23e-07, 1.82e-09, 1.16e-05, 3.77e-08, 5.40e-05, 4.50e-08, 1.30e-06, 1.33e-08, 6.93e-08, 3.13e-09, 2.15e-12, 3.36e-11, 2.44e-12, 1.26e-11, 1.78e-11, 1.58e-12, 7.60e-12, 4.75e-12, 3.75e-03, 1.63e-04, 1.05e-02, 1.81e-03, 1.98e-04, 6.54e-04, 1.02e-04]    []  \n",
      "22000     [2.47e+00, 2.86e-01, 2.34e-02, 1.03e+01, 1.01e-01, 1.14e-02, 4.37e-02, 7.50e-03, 4.42e-01, 1.10e-02, 2.23e-03, 9.92e-05, 2.29e-04, 9.55e-02, 8.90e-03, 2.75e-04, 1.19e-03, 1.18e-04, 5.73e-06, 1.12e-05, 5.77e-07, 2.18e-05, 2.56e-07, 5.14e-04, 1.55e-04, 1.21e-05, 7.15e-05, 1.74e-05, 3.19e-05, 3.49e-05, 2.12e-06, 4.62e-06, 2.44e-05, 2.71e-06, 4.16e-05, 4.13e-06, 7.67e-06, 8.18e-07, 2.14e-05, 2.11e-06, 7.17e-07, 3.54e-05, 3.76e-03, 1.66e-04, 1.05e-02, 1.82e-03, 2.00e-04, 6.54e-04, 1.24e-04]    [2.47e+00, 2.86e-01, 2.34e-02, 1.03e+01, 1.01e-01, 1.14e-02, 4.37e-02, 7.50e-03, 4.42e-01, 1.10e-02, 2.23e-03, 9.92e-05, 2.29e-04, 9.55e-02, 8.90e-03, 2.75e-04, 1.19e-03, 1.18e-04, 5.73e-06, 1.12e-05, 5.77e-07, 2.18e-05, 2.56e-07, 5.14e-04, 1.55e-04, 1.21e-05, 7.15e-05, 1.74e-05, 3.19e-05, 3.49e-05, 2.12e-06, 4.62e-06, 2.44e-05, 2.71e-06, 4.16e-05, 4.13e-06, 7.67e-06, 8.18e-07, 2.14e-05, 2.11e-06, 7.17e-07, 3.54e-05, 3.76e-03, 1.66e-04, 1.05e-02, 1.82e-03, 2.00e-04, 6.54e-04, 1.24e-04]    []  \n",
      "23000     [4.06e-02, 4.13e-02, 4.14e-02, 1.03e+01, 9.88e-02, 4.43e-02, 3.98e-02, 3.93e-02, 4.21e-02, 4.05e-02, 4.19e-02, 8.59e-06, 8.13e-05, 9.88e-02, 3.17e-04, 4.05e-04, 1.09e-03, 6.00e-04, 5.20e-07, 3.88e-05, 3.91e-06, 5.08e-06, 7.46e-06, 2.75e-04, 4.58e-08, 9.47e-10, 1.90e-06, 9.47e-07, 6.89e-07, 2.89e-09, 5.21e-07, 4.47e-08, 1.49e-08, 7.44e-04, 2.26e-10, 5.82e-11, 2.25e-10, 1.84e-12, 6.02e-10, 8.70e-11, 7.82e-07, 9.28e-04, 3.75e-03, 1.63e-04, 1.05e-02, 1.81e-03, 1.98e-04, 6.55e-04, 1.04e-03]    [4.06e-02, 4.13e-02, 4.14e-02, 1.03e+01, 9.88e-02, 4.43e-02, 3.98e-02, 3.93e-02, 4.21e-02, 4.05e-02, 4.19e-02, 8.59e-06, 8.13e-05, 9.88e-02, 3.17e-04, 4.05e-04, 1.09e-03, 6.00e-04, 5.20e-07, 3.88e-05, 3.91e-06, 5.08e-06, 7.46e-06, 2.75e-04, 4.58e-08, 9.47e-10, 1.90e-06, 9.47e-07, 6.89e-07, 2.89e-09, 5.21e-07, 4.47e-08, 1.49e-08, 7.44e-04, 2.26e-10, 5.82e-11, 2.25e-10, 1.84e-12, 6.02e-10, 8.70e-11, 7.82e-07, 9.28e-04, 3.75e-03, 1.63e-04, 1.05e-02, 1.81e-03, 1.98e-04, 6.55e-04, 1.04e-03]    []  \n",
      "24000     [4.12e-02, 4.16e-02, 4.11e-02, 1.03e+01, 9.88e-02, 4.43e-02, 3.98e-02, 3.92e-02, 4.17e-02, 4.04e-02, 4.18e-02, 8.38e-06, 8.43e-05, 9.88e-02, 3.21e-04, 4.03e-04, 1.09e-03, 5.99e-04, 5.12e-07, 3.87e-05, 3.58e-06, 4.37e-06, 5.93e-06, 2.95e-04, 4.01e-08, 5.31e-10, 1.30e-06, 1.25e-06, 1.75e-07, 1.23e-09, 2.69e-07, 4.61e-08, 2.08e-08, 5.11e-10, 1.13e-10, 1.38e-04, 1.45e-10, 1.29e-07, 7.48e-08, 1.51e-10, 2.34e-06, 1.74e-05, 3.89e-03, 1.63e-04, 1.05e-02, 1.81e-03, 1.98e-04, 6.56e-04, 1.20e-04]    [4.12e-02, 4.16e-02, 4.11e-02, 1.03e+01, 9.88e-02, 4.43e-02, 3.98e-02, 3.92e-02, 4.17e-02, 4.04e-02, 4.18e-02, 8.38e-06, 8.43e-05, 9.88e-02, 3.21e-04, 4.03e-04, 1.09e-03, 5.99e-04, 5.12e-07, 3.87e-05, 3.58e-06, 4.37e-06, 5.93e-06, 2.95e-04, 4.01e-08, 5.31e-10, 1.30e-06, 1.25e-06, 1.75e-07, 1.23e-09, 2.69e-07, 4.61e-08, 2.08e-08, 5.11e-10, 1.13e-10, 1.38e-04, 1.45e-10, 1.29e-07, 7.48e-08, 1.51e-10, 2.34e-06, 1.74e-05, 3.89e-03, 1.63e-04, 1.05e-02, 1.81e-03, 1.98e-04, 6.56e-04, 1.20e-04]    []  \n",
      "25000     [2.52e-01, 1.24e-01, 3.27e-03, 1.03e+01, 1.00e-01, 3.48e-02, 3.93e-02, 2.93e-02, 9.72e-04, 3.22e-02, 2.80e-02, 2.48e-05, 1.24e-04, 9.73e-02, 1.43e-03, 3.89e-05, 1.07e-03, 4.50e-04, 1.67e-08, 3.09e-05, 2.44e-06, 1.28e-07, 2.10e-07, 2.59e-04, 7.99e-07, 1.83e-06, 1.82e-07, 1.48e-08, 1.97e-06, 2.62e-06, 1.29e-06, 1.37e-06, 2.02e-06, 1.50e-10, 1.12e-06, 6.44e-04, 5.23e-07, 6.63e-04, 5.23e-04, 3.20e-09, 6.45e-08, 9.78e-09, 4.40e-03, 1.63e-04, 1.12e-02, 2.34e-03, 1.98e-04, 6.54e-04, 1.02e-04]    [2.52e-01, 1.24e-01, 3.27e-03, 1.03e+01, 1.00e-01, 3.48e-02, 3.93e-02, 2.93e-02, 9.72e-04, 3.22e-02, 2.80e-02, 2.48e-05, 1.24e-04, 9.73e-02, 1.43e-03, 3.89e-05, 1.07e-03, 4.50e-04, 1.67e-08, 3.09e-05, 2.44e-06, 1.28e-07, 2.10e-07, 2.59e-04, 7.99e-07, 1.83e-06, 1.82e-07, 1.48e-08, 1.97e-06, 2.62e-06, 1.29e-06, 1.37e-06, 2.02e-06, 1.50e-10, 1.12e-06, 6.44e-04, 5.23e-07, 6.63e-04, 5.23e-04, 3.20e-09, 6.45e-08, 9.78e-09, 4.40e-03, 1.63e-04, 1.12e-02, 2.34e-03, 1.98e-04, 6.54e-04, 1.02e-04]    []  \n"
     ]
    },
    {
     "ename": "KeyboardInterrupt",
     "evalue": "",
     "output_type": "error",
     "traceback": [
      "\u001b[0;31m---------------------------------------------------------------------------\u001b[0m",
      "\u001b[0;31mKeyboardInterrupt\u001b[0m                         Traceback (most recent call last)",
      "Cell \u001b[0;32mIn[28], line 1\u001b[0m\n\u001b[0;32m----> 1\u001b[0m losshistory, train_state \u001b[38;5;241m=\u001b[39m model\u001b[38;5;241m.\u001b[39mtrain(iterations\u001b[38;5;241m=\u001b[39m\u001b[38;5;241m100000\u001b[39m, callbacks\u001b[38;5;241m=\u001b[39m[variable])\n",
      "File \u001b[0;32m~/anaconda3/lib/python3.11/site-packages/deepxde/utils/internal.py:22\u001b[0m, in \u001b[0;36mtiming.<locals>.wrapper\u001b[0;34m(*args, **kwargs)\u001b[0m\n\u001b[1;32m     19\u001b[0m \u001b[38;5;129m@wraps\u001b[39m(f)\n\u001b[1;32m     20\u001b[0m \u001b[38;5;28;01mdef\u001b[39;00m \u001b[38;5;21mwrapper\u001b[39m(\u001b[38;5;241m*\u001b[39margs, \u001b[38;5;241m*\u001b[39m\u001b[38;5;241m*\u001b[39mkwargs):\n\u001b[1;32m     21\u001b[0m     ts \u001b[38;5;241m=\u001b[39m timeit\u001b[38;5;241m.\u001b[39mdefault_timer()\n\u001b[0;32m---> 22\u001b[0m     result \u001b[38;5;241m=\u001b[39m f(\u001b[38;5;241m*\u001b[39margs, \u001b[38;5;241m*\u001b[39m\u001b[38;5;241m*\u001b[39mkwargs)\n\u001b[1;32m     23\u001b[0m     te \u001b[38;5;241m=\u001b[39m timeit\u001b[38;5;241m.\u001b[39mdefault_timer()\n\u001b[1;32m     24\u001b[0m     \u001b[38;5;28;01mif\u001b[39;00m config\u001b[38;5;241m.\u001b[39mrank \u001b[38;5;241m==\u001b[39m \u001b[38;5;241m0\u001b[39m:\n",
      "File \u001b[0;32m~/anaconda3/lib/python3.11/site-packages/deepxde/model.py:642\u001b[0m, in \u001b[0;36mModel.train\u001b[0;34m(self, iterations, batch_size, display_every, disregard_previous_best, callbacks, model_restore_path, model_save_path, epochs)\u001b[0m\n\u001b[1;32m    640\u001b[0m     \u001b[38;5;28;01mif\u001b[39;00m iterations \u001b[38;5;129;01mis\u001b[39;00m \u001b[38;5;28;01mNone\u001b[39;00m:\n\u001b[1;32m    641\u001b[0m         \u001b[38;5;28;01mraise\u001b[39;00m \u001b[38;5;167;01mValueError\u001b[39;00m(\u001b[38;5;124m\"\u001b[39m\u001b[38;5;124mNo iterations for \u001b[39m\u001b[38;5;132;01m{}\u001b[39;00m\u001b[38;5;124m.\u001b[39m\u001b[38;5;124m\"\u001b[39m\u001b[38;5;241m.\u001b[39mformat(\u001b[38;5;28mself\u001b[39m\u001b[38;5;241m.\u001b[39mopt_name))\n\u001b[0;32m--> 642\u001b[0m     \u001b[38;5;28mself\u001b[39m\u001b[38;5;241m.\u001b[39m_train_sgd(iterations, display_every)\n\u001b[1;32m    643\u001b[0m \u001b[38;5;28mself\u001b[39m\u001b[38;5;241m.\u001b[39mcallbacks\u001b[38;5;241m.\u001b[39mon_train_end()\n\u001b[1;32m    645\u001b[0m \u001b[38;5;28;01mif\u001b[39;00m config\u001b[38;5;241m.\u001b[39mrank \u001b[38;5;241m==\u001b[39m \u001b[38;5;241m0\u001b[39m:\n",
      "File \u001b[0;32m~/anaconda3/lib/python3.11/site-packages/deepxde/model.py:660\u001b[0m, in \u001b[0;36mModel._train_sgd\u001b[0;34m(self, iterations, display_every)\u001b[0m\n\u001b[1;32m    655\u001b[0m \u001b[38;5;28mself\u001b[39m\u001b[38;5;241m.\u001b[39mcallbacks\u001b[38;5;241m.\u001b[39mon_batch_begin()\n\u001b[1;32m    657\u001b[0m \u001b[38;5;28mself\u001b[39m\u001b[38;5;241m.\u001b[39mtrain_state\u001b[38;5;241m.\u001b[39mset_data_train(\n\u001b[1;32m    658\u001b[0m     \u001b[38;5;241m*\u001b[39m\u001b[38;5;28mself\u001b[39m\u001b[38;5;241m.\u001b[39mdata\u001b[38;5;241m.\u001b[39mtrain_next_batch(\u001b[38;5;28mself\u001b[39m\u001b[38;5;241m.\u001b[39mbatch_size)\n\u001b[1;32m    659\u001b[0m )\n\u001b[0;32m--> 660\u001b[0m \u001b[38;5;28mself\u001b[39m\u001b[38;5;241m.\u001b[39m_train_step(\n\u001b[1;32m    661\u001b[0m     \u001b[38;5;28mself\u001b[39m\u001b[38;5;241m.\u001b[39mtrain_state\u001b[38;5;241m.\u001b[39mX_train,\n\u001b[1;32m    662\u001b[0m     \u001b[38;5;28mself\u001b[39m\u001b[38;5;241m.\u001b[39mtrain_state\u001b[38;5;241m.\u001b[39my_train,\n\u001b[1;32m    663\u001b[0m     \u001b[38;5;28mself\u001b[39m\u001b[38;5;241m.\u001b[39mtrain_state\u001b[38;5;241m.\u001b[39mtrain_aux_vars,\n\u001b[1;32m    664\u001b[0m )\n\u001b[1;32m    666\u001b[0m \u001b[38;5;28mself\u001b[39m\u001b[38;5;241m.\u001b[39mtrain_state\u001b[38;5;241m.\u001b[39mepoch \u001b[38;5;241m+\u001b[39m\u001b[38;5;241m=\u001b[39m \u001b[38;5;241m1\u001b[39m\n\u001b[1;32m    667\u001b[0m \u001b[38;5;28mself\u001b[39m\u001b[38;5;241m.\u001b[39mtrain_state\u001b[38;5;241m.\u001b[39mstep \u001b[38;5;241m+\u001b[39m\u001b[38;5;241m=\u001b[39m \u001b[38;5;241m1\u001b[39m\n",
      "File \u001b[0;32m~/anaconda3/lib/python3.11/site-packages/deepxde/model.py:552\u001b[0m, in \u001b[0;36mModel._train_step\u001b[0;34m(self, inputs, targets, auxiliary_vars)\u001b[0m\n\u001b[1;32m    550\u001b[0m     \u001b[38;5;28mself\u001b[39m\u001b[38;5;241m.\u001b[39msess\u001b[38;5;241m.\u001b[39mrun(\u001b[38;5;28mself\u001b[39m\u001b[38;5;241m.\u001b[39mtrain_step, feed_dict\u001b[38;5;241m=\u001b[39mfeed_dict)\n\u001b[1;32m    551\u001b[0m \u001b[38;5;28;01melif\u001b[39;00m backend_name \u001b[38;5;129;01min\u001b[39;00m [\u001b[38;5;124m\"\u001b[39m\u001b[38;5;124mtensorflow\u001b[39m\u001b[38;5;124m\"\u001b[39m, \u001b[38;5;124m\"\u001b[39m\u001b[38;5;124mpaddle\u001b[39m\u001b[38;5;124m\"\u001b[39m]:\n\u001b[0;32m--> 552\u001b[0m     \u001b[38;5;28mself\u001b[39m\u001b[38;5;241m.\u001b[39mtrain_step(inputs, targets, auxiliary_vars)\n\u001b[1;32m    553\u001b[0m \u001b[38;5;28;01melif\u001b[39;00m backend_name \u001b[38;5;241m==\u001b[39m \u001b[38;5;124m\"\u001b[39m\u001b[38;5;124mpytorch\u001b[39m\u001b[38;5;124m\"\u001b[39m:\n\u001b[1;32m    554\u001b[0m     \u001b[38;5;28mself\u001b[39m\u001b[38;5;241m.\u001b[39mtrain_step(inputs, targets, auxiliary_vars)\n",
      "File \u001b[0;32m~/anaconda3/lib/python3.11/site-packages/tensorflow/python/util/traceback_utils.py:150\u001b[0m, in \u001b[0;36mfilter_traceback.<locals>.error_handler\u001b[0;34m(*args, **kwargs)\u001b[0m\n\u001b[1;32m    148\u001b[0m filtered_tb \u001b[38;5;241m=\u001b[39m \u001b[38;5;28;01mNone\u001b[39;00m\n\u001b[1;32m    149\u001b[0m \u001b[38;5;28;01mtry\u001b[39;00m:\n\u001b[0;32m--> 150\u001b[0m   \u001b[38;5;28;01mreturn\u001b[39;00m fn(\u001b[38;5;241m*\u001b[39margs, \u001b[38;5;241m*\u001b[39m\u001b[38;5;241m*\u001b[39mkwargs)\n\u001b[1;32m    151\u001b[0m \u001b[38;5;28;01mexcept\u001b[39;00m \u001b[38;5;167;01mException\u001b[39;00m \u001b[38;5;28;01mas\u001b[39;00m e:\n\u001b[1;32m    152\u001b[0m   filtered_tb \u001b[38;5;241m=\u001b[39m _process_traceback_frames(e\u001b[38;5;241m.\u001b[39m__traceback__)\n",
      "File \u001b[0;32m~/anaconda3/lib/python3.11/site-packages/tensorflow/python/eager/polymorphic_function/polymorphic_function.py:894\u001b[0m, in \u001b[0;36mFunction.__call__\u001b[0;34m(self, *args, **kwds)\u001b[0m\n\u001b[1;32m    891\u001b[0m compiler \u001b[38;5;241m=\u001b[39m \u001b[38;5;124m\"\u001b[39m\u001b[38;5;124mxla\u001b[39m\u001b[38;5;124m\"\u001b[39m \u001b[38;5;28;01mif\u001b[39;00m \u001b[38;5;28mself\u001b[39m\u001b[38;5;241m.\u001b[39m_jit_compile \u001b[38;5;28;01melse\u001b[39;00m \u001b[38;5;124m\"\u001b[39m\u001b[38;5;124mnonXla\u001b[39m\u001b[38;5;124m\"\u001b[39m\n\u001b[1;32m    893\u001b[0m \u001b[38;5;28;01mwith\u001b[39;00m OptionalXlaContext(\u001b[38;5;28mself\u001b[39m\u001b[38;5;241m.\u001b[39m_jit_compile):\n\u001b[0;32m--> 894\u001b[0m   result \u001b[38;5;241m=\u001b[39m \u001b[38;5;28mself\u001b[39m\u001b[38;5;241m.\u001b[39m_call(\u001b[38;5;241m*\u001b[39margs, \u001b[38;5;241m*\u001b[39m\u001b[38;5;241m*\u001b[39mkwds)\n\u001b[1;32m    896\u001b[0m new_tracing_count \u001b[38;5;241m=\u001b[39m \u001b[38;5;28mself\u001b[39m\u001b[38;5;241m.\u001b[39mexperimental_get_tracing_count()\n\u001b[1;32m    897\u001b[0m without_tracing \u001b[38;5;241m=\u001b[39m (tracing_count \u001b[38;5;241m==\u001b[39m new_tracing_count)\n",
      "File \u001b[0;32m~/anaconda3/lib/python3.11/site-packages/tensorflow/python/eager/polymorphic_function/polymorphic_function.py:926\u001b[0m, in \u001b[0;36mFunction._call\u001b[0;34m(self, *args, **kwds)\u001b[0m\n\u001b[1;32m    923\u001b[0m   \u001b[38;5;28mself\u001b[39m\u001b[38;5;241m.\u001b[39m_lock\u001b[38;5;241m.\u001b[39mrelease()\n\u001b[1;32m    924\u001b[0m   \u001b[38;5;66;03m# In this case we have created variables on the first call, so we run the\u001b[39;00m\n\u001b[1;32m    925\u001b[0m   \u001b[38;5;66;03m# defunned version which is guaranteed to never create variables.\u001b[39;00m\n\u001b[0;32m--> 926\u001b[0m   \u001b[38;5;28;01mreturn\u001b[39;00m \u001b[38;5;28mself\u001b[39m\u001b[38;5;241m.\u001b[39m_no_variable_creation_fn(\u001b[38;5;241m*\u001b[39margs, \u001b[38;5;241m*\u001b[39m\u001b[38;5;241m*\u001b[39mkwds)  \u001b[38;5;66;03m# pylint: disable=not-callable\u001b[39;00m\n\u001b[1;32m    927\u001b[0m \u001b[38;5;28;01melif\u001b[39;00m \u001b[38;5;28mself\u001b[39m\u001b[38;5;241m.\u001b[39m_variable_creation_fn \u001b[38;5;129;01mis\u001b[39;00m \u001b[38;5;129;01mnot\u001b[39;00m \u001b[38;5;28;01mNone\u001b[39;00m:\n\u001b[1;32m    928\u001b[0m   \u001b[38;5;66;03m# Release the lock early so that multiple threads can perform the call\u001b[39;00m\n\u001b[1;32m    929\u001b[0m   \u001b[38;5;66;03m# in parallel.\u001b[39;00m\n\u001b[1;32m    930\u001b[0m   \u001b[38;5;28mself\u001b[39m\u001b[38;5;241m.\u001b[39m_lock\u001b[38;5;241m.\u001b[39mrelease()\n",
      "File \u001b[0;32m~/anaconda3/lib/python3.11/site-packages/tensorflow/python/eager/polymorphic_function/tracing_compiler.py:143\u001b[0m, in \u001b[0;36mTracingCompiler.__call__\u001b[0;34m(self, *args, **kwargs)\u001b[0m\n\u001b[1;32m    140\u001b[0m \u001b[38;5;28;01mwith\u001b[39;00m \u001b[38;5;28mself\u001b[39m\u001b[38;5;241m.\u001b[39m_lock:\n\u001b[1;32m    141\u001b[0m   (concrete_function,\n\u001b[1;32m    142\u001b[0m    filtered_flat_args) \u001b[38;5;241m=\u001b[39m \u001b[38;5;28mself\u001b[39m\u001b[38;5;241m.\u001b[39m_maybe_define_function(args, kwargs)\n\u001b[0;32m--> 143\u001b[0m \u001b[38;5;28;01mreturn\u001b[39;00m concrete_function\u001b[38;5;241m.\u001b[39m_call_flat(\n\u001b[1;32m    144\u001b[0m     filtered_flat_args, captured_inputs\u001b[38;5;241m=\u001b[39mconcrete_function\u001b[38;5;241m.\u001b[39mcaptured_inputs)\n",
      "File \u001b[0;32m~/anaconda3/lib/python3.11/site-packages/tensorflow/python/eager/polymorphic_function/monomorphic_function.py:1757\u001b[0m, in \u001b[0;36mConcreteFunction._call_flat\u001b[0;34m(self, args, captured_inputs, cancellation_manager)\u001b[0m\n\u001b[1;32m   1753\u001b[0m possible_gradient_type \u001b[38;5;241m=\u001b[39m gradients_util\u001b[38;5;241m.\u001b[39mPossibleTapeGradientTypes(args)\n\u001b[1;32m   1754\u001b[0m \u001b[38;5;28;01mif\u001b[39;00m (possible_gradient_type \u001b[38;5;241m==\u001b[39m gradients_util\u001b[38;5;241m.\u001b[39mPOSSIBLE_GRADIENT_TYPES_NONE\n\u001b[1;32m   1755\u001b[0m     \u001b[38;5;129;01mand\u001b[39;00m executing_eagerly):\n\u001b[1;32m   1756\u001b[0m   \u001b[38;5;66;03m# No tape is watching; skip to running the function.\u001b[39;00m\n\u001b[0;32m-> 1757\u001b[0m   \u001b[38;5;28;01mreturn\u001b[39;00m \u001b[38;5;28mself\u001b[39m\u001b[38;5;241m.\u001b[39m_build_call_outputs(\u001b[38;5;28mself\u001b[39m\u001b[38;5;241m.\u001b[39m_inference_function\u001b[38;5;241m.\u001b[39mcall(\n\u001b[1;32m   1758\u001b[0m       ctx, args, cancellation_manager\u001b[38;5;241m=\u001b[39mcancellation_manager))\n\u001b[1;32m   1759\u001b[0m forward_backward \u001b[38;5;241m=\u001b[39m \u001b[38;5;28mself\u001b[39m\u001b[38;5;241m.\u001b[39m_select_forward_and_backward_functions(\n\u001b[1;32m   1760\u001b[0m     args,\n\u001b[1;32m   1761\u001b[0m     possible_gradient_type,\n\u001b[1;32m   1762\u001b[0m     executing_eagerly)\n\u001b[1;32m   1763\u001b[0m forward_function, args_with_tangents \u001b[38;5;241m=\u001b[39m forward_backward\u001b[38;5;241m.\u001b[39mforward()\n",
      "File \u001b[0;32m~/anaconda3/lib/python3.11/site-packages/tensorflow/python/eager/polymorphic_function/monomorphic_function.py:381\u001b[0m, in \u001b[0;36m_EagerDefinedFunction.call\u001b[0;34m(self, ctx, args, cancellation_manager)\u001b[0m\n\u001b[1;32m    379\u001b[0m \u001b[38;5;28;01mwith\u001b[39;00m _InterpolateFunctionError(\u001b[38;5;28mself\u001b[39m):\n\u001b[1;32m    380\u001b[0m   \u001b[38;5;28;01mif\u001b[39;00m cancellation_manager \u001b[38;5;129;01mis\u001b[39;00m \u001b[38;5;28;01mNone\u001b[39;00m:\n\u001b[0;32m--> 381\u001b[0m     outputs \u001b[38;5;241m=\u001b[39m execute\u001b[38;5;241m.\u001b[39mexecute(\n\u001b[1;32m    382\u001b[0m         \u001b[38;5;28mstr\u001b[39m(\u001b[38;5;28mself\u001b[39m\u001b[38;5;241m.\u001b[39msignature\u001b[38;5;241m.\u001b[39mname),\n\u001b[1;32m    383\u001b[0m         num_outputs\u001b[38;5;241m=\u001b[39m\u001b[38;5;28mself\u001b[39m\u001b[38;5;241m.\u001b[39m_num_outputs,\n\u001b[1;32m    384\u001b[0m         inputs\u001b[38;5;241m=\u001b[39margs,\n\u001b[1;32m    385\u001b[0m         attrs\u001b[38;5;241m=\u001b[39mattrs,\n\u001b[1;32m    386\u001b[0m         ctx\u001b[38;5;241m=\u001b[39mctx)\n\u001b[1;32m    387\u001b[0m   \u001b[38;5;28;01melse\u001b[39;00m:\n\u001b[1;32m    388\u001b[0m     outputs \u001b[38;5;241m=\u001b[39m execute\u001b[38;5;241m.\u001b[39mexecute_with_cancellation(\n\u001b[1;32m    389\u001b[0m         \u001b[38;5;28mstr\u001b[39m(\u001b[38;5;28mself\u001b[39m\u001b[38;5;241m.\u001b[39msignature\u001b[38;5;241m.\u001b[39mname),\n\u001b[1;32m    390\u001b[0m         num_outputs\u001b[38;5;241m=\u001b[39m\u001b[38;5;28mself\u001b[39m\u001b[38;5;241m.\u001b[39m_num_outputs,\n\u001b[0;32m   (...)\u001b[0m\n\u001b[1;32m    393\u001b[0m         ctx\u001b[38;5;241m=\u001b[39mctx,\n\u001b[1;32m    394\u001b[0m         cancellation_manager\u001b[38;5;241m=\u001b[39mcancellation_manager)\n",
      "File \u001b[0;32m~/anaconda3/lib/python3.11/site-packages/tensorflow/python/eager/execute.py:52\u001b[0m, in \u001b[0;36mquick_execute\u001b[0;34m(op_name, num_outputs, inputs, attrs, ctx, name)\u001b[0m\n\u001b[1;32m     50\u001b[0m \u001b[38;5;28;01mtry\u001b[39;00m:\n\u001b[1;32m     51\u001b[0m   ctx\u001b[38;5;241m.\u001b[39mensure_initialized()\n\u001b[0;32m---> 52\u001b[0m   tensors \u001b[38;5;241m=\u001b[39m pywrap_tfe\u001b[38;5;241m.\u001b[39mTFE_Py_Execute(ctx\u001b[38;5;241m.\u001b[39m_handle, device_name, op_name,\n\u001b[1;32m     53\u001b[0m                                       inputs, attrs, num_outputs)\n\u001b[1;32m     54\u001b[0m \u001b[38;5;28;01mexcept\u001b[39;00m core\u001b[38;5;241m.\u001b[39m_NotOkStatusException \u001b[38;5;28;01mas\u001b[39;00m e:\n\u001b[1;32m     55\u001b[0m   \u001b[38;5;28;01mif\u001b[39;00m name \u001b[38;5;129;01mis\u001b[39;00m \u001b[38;5;129;01mnot\u001b[39;00m \u001b[38;5;28;01mNone\u001b[39;00m:\n",
      "\u001b[0;31mKeyboardInterrupt\u001b[0m: "
     ]
    }
   ],
   "source": [
    "losshistory, train_state = model.train(iterations=100000, callbacks=[variable])"
   ]
  },
  {
   "cell_type": "code",
   "execution_count": null,
   "id": "507f16d7-662f-4c17-9cab-d5b90796561b",
   "metadata": {
    "tags": []
   },
   "outputs": [],
   "source": [
    "dde.saveplot(losshistory, train_state, issave=True, isplot=True)"
   ]
  },
  {
   "cell_type": "code",
   "execution_count": null,
   "id": "6510477c-b539-4f77-a00b-c97a3d16b103",
   "metadata": {
    "tags": []
   },
   "outputs": [],
   "source": [
    "model.state_dict()"
   ]
  },
  {
   "cell_type": "code",
   "execution_count": null,
   "id": "008820ca-7eca-43c6-a65c-ccbca845f22b",
   "metadata": {
    "tags": []
   },
   "outputs": [],
   "source": [
    "# train lbfgs\n",
    "#model.compile(\"L-BFGS\", external_trainable_variables=external_trainable_variables)"
   ]
  },
  {
   "cell_type": "code",
   "execution_count": null,
   "id": "5916c263-fe9f-4ffd-bcaa-99e0badd7bff",
   "metadata": {
    "tags": []
   },
   "outputs": [],
   "source": [
    "#losshistory, train_state = model.train(callbacks=[variable])\n"
   ]
  },
  {
   "cell_type": "code",
   "execution_count": null,
   "id": "7bae1538-232e-4ae3-9c0a-06e99efcf07d",
   "metadata": {
    "tags": []
   },
   "outputs": [],
   "source": [
    "#dde.saveplot(losshistory, train_state, issave=True, isplot=True)"
   ]
  },
  {
   "cell_type": "code",
   "execution_count": null,
   "id": "8978138a-059f-44f0-8eb5-ca0ea4669802",
   "metadata": {
    "tags": []
   },
   "outputs": [],
   "source": [
    "#model.state_dict()"
   ]
  }
 ],
 "metadata": {
  "kernelspec": {
   "display_name": "Python 3 (ipykernel)",
   "language": "python",
   "name": "python3"
  },
  "language_info": {
   "codemirror_mode": {
    "name": "ipython",
    "version": 3
   },
   "file_extension": ".py",
   "mimetype": "text/x-python",
   "name": "python",
   "nbconvert_exporter": "python",
   "pygments_lexer": "ipython3",
   "version": "3.11.3"
  }
 },
 "nbformat": 4,
 "nbformat_minor": 5
}
