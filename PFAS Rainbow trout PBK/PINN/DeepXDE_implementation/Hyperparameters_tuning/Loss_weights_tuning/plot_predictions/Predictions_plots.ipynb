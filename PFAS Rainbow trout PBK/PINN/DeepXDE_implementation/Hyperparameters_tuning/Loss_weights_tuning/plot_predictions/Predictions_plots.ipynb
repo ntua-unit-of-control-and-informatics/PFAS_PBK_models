{
 "cells": [
  {
   "cell_type": "code",
   "execution_count": 1,
   "id": "f72d8059-3b62-468d-a8b4-9d0563afcd66",
   "metadata": {
    "tags": []
   },
   "outputs": [
    {
     "name": "stderr",
     "output_type": "stream",
     "text": [
      "Using backend: tensorflow\n",
      "Other supported backends: tensorflow.compat.v1, pytorch, jax, paddle.\n",
      "paddle supports more examples now and is recommended.\n"
     ]
    }
   ],
   "source": [
    "import deepxde as dde\n",
    "import numpy as np\n",
    "import pandas as pd\n",
    "import scipy as sp\n",
    "from math import exp\n",
    "#import tensorflow as tf\n",
    "from deepxde.backend import tf\n",
    "import tensorflow_probability as tfp\n",
    "import matplotlib.pyplot as plt\n",
    "import os\n",
    "import time"
   ]
  },
  {
   "cell_type": "code",
   "execution_count": 2,
   "id": "4ac98cf0-b52f-450a-89e8-91ab4b0a0d2a",
   "metadata": {
    "tags": []
   },
   "outputs": [
    {
     "data": {
      "text/plain": [
       "'/Users/vassilis/Documents/GitHub/PFAS_PBK_models/PFAS Rainbow trout PBK/PINN/DeepXDE_implementation/Hyperparameters_tuning/Loss_weights_tuning/plot_predictions'"
      ]
     },
     "execution_count": 2,
     "metadata": {},
     "output_type": "execute_result"
    }
   ],
   "source": [
    "os.getcwd()"
   ]
  },
  {
   "cell_type": "markdown",
   "id": "484ffbf1-4c79-4ee9-b1cd-741d83190781",
   "metadata": {},
   "source": [
    "Here we define the parameters that we want to estimate."
   ]
  },
  {
   "cell_type": "markdown",
   "id": "3866df2b-85d7-48e1-8ed3-7e9bc914593d",
   "metadata": {},
   "source": [
    "Now we can begin by creating a TimeDomain class."
   ]
  },
  {
   "cell_type": "code",
   "execution_count": 3,
   "id": "0bd5dc4b-08aa-4bd9-9d83-0703ca8ded57",
   "metadata": {
    "tags": []
   },
   "outputs": [],
   "source": [
    "geom = dde.geometry.TimeDomain(0, 56*24)"
   ]
  },
  {
   "cell_type": "code",
   "execution_count": 4,
   "id": "b8e654ed-de34-4783-8141-f1b4cb28acaa",
   "metadata": {
    "tags": []
   },
   "outputs": [],
   "source": [
    "# Function to estimate the constant parameters of the model\n",
    "def create_params(substance, Texp):\n",
    "    # Transform input temperature into Kelvin scale\n",
    "    Texp = 273 + Texp  # K\n",
    "\n",
    "    Tref = 273 + np.array([6, 12, 18])  # Reference Temperature K - Grech et al. 2018\n",
    "    keep_ref_value = np.argmin(np.abs(Tref - Texp))\n",
    "\n",
    "    # Cardiac output reference value at T = 6 C (Barron et al. 1987, Table II)\n",
    "    F_card_ref_6 = 1.188  # ml/h/g\n",
    "    # Cardiac output reference value at T = 12 C (Barron et al. 1987, Table II)\n",
    "    F_card_ref_12 = 2.322  # ml/h/g\n",
    "    # Cardiac output reference value at T = 18 C (Barron et al. 1987, Table II)\n",
    "    F_card_ref_18 = 3.75  # ml/h/g\n",
    "    F_card_ref_values = [F_card_ref_6, F_card_ref_12, F_card_ref_18]\n",
    "    F_card_ref = F_card_ref_values[keep_ref_value]\n",
    "\n",
    "    # Body weight reference value at T = 6 C (Barron et al. 1987, Table II)\n",
    "    BW_ref_6 = 270.1  # g\n",
    "    # Body weight reference value at T = 12 C (Barron et al. 1987, Table II)\n",
    "    BW_ref_12 = 296.4  # g\n",
    "    # Body weight reference value at T = 18 C (Barron et al. 1987, Table II)\n",
    "    BW_ref_18 = 414.5  # g\n",
    "    BW_ref_values = [BW_ref_6, BW_ref_12, BW_ref_18]\n",
    "    BW_ref = BW_ref_values[keep_ref_value]\n",
    "\n",
    "    # Arrhenius Temperature function\n",
    "    TA = 6930  # Arrhenius Temperature K - Grech et al. 2018\n",
    "    Tr = Tref[np.argmin(np.abs(Tref - Texp))]\n",
    "    KT = exp(TA / Tr - TA / Texp)\n",
    "\n",
    "    # Load the xlsx file with the physiological params of rainbow trout\n",
    "    phys_params_sheet1 = pd.read_excel('/Users/vassilis/Documents/GitHub/PFAS_PBK_models/PFAS Rainbow trout PBK/Rainbow trout Physiological parameters/Rainbow trout Physiological parameters.xlsx', sheet_name=0)\n",
    "\n",
    "    # Keep only the physiological parameters from the paper of Vidal et al. 2019\n",
    "    fw = phys_params_sheet1.loc[phys_params_sheet1['Source'] == 'Vidal et al. 2019', ['Liver', 'Blood', 'Skin', 'Muscle', 'Gills', 'Kidney', 'Viscera']]\n",
    "    fw_Liver = fw['Liver'].values[0]\n",
    "    fw_Blood = fw['Blood'].values[0]\n",
    "    fw_Skin = fw['Skin'].values[0]\n",
    "    fw_Muscle = fw['Muscle'].values[0]\n",
    "    fw_Gills = fw['Gills'].values[0]\n",
    "    fw_Kidney = fw['Kidney'].values[0]\n",
    "    fw_Viscera = fw['Viscera'].values[0]\n",
    "    fw_lumen = 0.012\n",
    "\n",
    "    # Load the xlsx file with the physiological params of rainbow trout\n",
    "    phys_params_sheet2 = pd.read_excel('/Users/vassilis/Documents/GitHub/PFAS_PBK_models/PFAS Rainbow trout PBK/Rainbow trout Physiological parameters/Rainbow trout Physiological parameters.xlsx', sheet_name=1)\n",
    "\n",
    "    # Keep only the physiological parameters from the paper of Vidal et al. 2019\n",
    "    fb = phys_params_sheet2.loc[phys_params_sheet2['Source'] == 'Vidal et al. 2019', ['Liver', 'Skin', 'Muscle', 'Gills', 'Kidney', 'Viscera']]\n",
    "    fb_Liver = fb['Liver'].values[0]\n",
    "    fb_Skin = fb['Skin'].values[0]\n",
    "    fb_Muscle = fb['Muscle'].values[0]\n",
    "    fb_Gills = fb['Gills'].values[0]\n",
    "    fb_Kidney = fb['Kidney'].values[0]\n",
    "    fb_Viscera = fb['Viscera'].values[0]\n",
    "\n",
    "    # Reabsorption coefficients from bile to intestine\n",
    "    # estimated by Cao et al., 2022\n",
    "    # K_urine = Cl_urine / f_reab_urine estimated by Ng et al., 2013 (unitless)\n",
    "    if substance == 'PFOA':\n",
    "        a = 0.138  # Sun et al., 2022, Goeritz et al. 2013\n",
    "        f_reab_hep = 0.30  # Cao et al., 2022\n",
    "        K_urine = 2.08\n",
    "        Cl_urine = 0.029 * 3600  # 1/h (Sun et al., 2022)\n",
    "    elif substance == 'PFNA':\n",
    "        a = 0.522  # Sun et al., 2022, Goeritz et al. 2013\n",
    "        f_reab_hep = 0.34  # Cao et al., 2022\n",
    "        K_urine = 1.35\n",
    "        Cl_urine = 0.050 * 3600  # 1/h (Sun et al., 2022)\n",
    "    elif substance == 'PFBS':\n",
    "        a = 0.0598  # Goeritz et al. 2013\n",
    "        f_reab_hep = 0.23  # Cao et al., 2022\n",
    "        K_urine = 5.88\n",
    "        Cl_urine = 0.023 * 3600  # 1/h (Sun et al., 2022) # Assumed equal to PFHxS\n",
    "    elif substance == 'PFHxS':\n",
    "        a = 0.558  # Sun et al., 2022, Goeritz et al. 2013\n",
    "        f_reab_hep = 0.30  # Cao et al., 2022\n",
    "        K_urine = 5.88\n",
    "        Cl_urine = 0.023 * 3600  # 1/h (Sun et al., 2022)\n",
    "    elif substance == 'PFOS':\n",
    "        a = 0.721  # Sun et al., 2022, Goeritz et al. 2013\n",
    "        f_reab_hep = 0.42  # Cao et al., 2022\n",
    "        K_urine = 1.35\n",
    "        Cl_urine = 0.050 * 3600  # 1/h (Sun et al., 2022)\n",
    "\n",
    "    # Bile flow coefficient\n",
    "    Q_bile_coef = 7.5e-05  # ml/g BW/h Grosell et al., 2000\n",
    "    Q_urine_coef = 2.755e-03  # ml/h/g of BW Urinary flow rate (Curtis et al., 1981)\n",
    "    V_urine_coef = 2.2e-03  # ml/g of BW Urine volume inside urinary bladder (Curtis et al., 1981)\n",
    "\n",
    "    a_skin = 0.9  # 90% of venous blood of skin was assumed to flow directly to kidney (Nichols et al. 1996)\n",
    "    a_muscle = 0.6  # 60% of venous blood of muscle was assumed to flow directly to kidney (Nichols et al. 1996)\n",
    "\n",
    "    plasma = 0.7\n",
    "    \n",
    "    return[F_card_ref, BW_ref, KT, fw_Liver, fw_Blood, fw_Skin, fw_Muscle, fw_Gills, fw_Kidney,\n",
    "          fw_Viscera, fw_lumen, fb_Liver, fb_Skin, fb_Muscle, fb_Gills, fb_Kidney, fb_Viscera,\n",
    "          a_skin, a_muscle, Q_bile_coef, Q_urine_coef, V_urine_coef, \n",
    "          K_urine, Cl_urine, f_reab_hep,plasma,a]"
   ]
  },
  {
   "cell_type": "code",
   "execution_count": 5,
   "id": "71f0bf46-5016-43b5-925e-94201549e611",
   "metadata": {
    "tags": []
   },
   "outputs": [],
   "source": [
    "def fish_weight(time):\n",
    "    x = tf.constant([0, 28 * 24, 56 * 24], dtype=tf.float32)\n",
    "    y = tf.constant([314, 655, 808], dtype=tf.float32)\n",
    "\n",
    "    w = tf.zeros([1,1])\n",
    "\n",
    "    for time_i in tf.unstack(time):\n",
    "        time_i = tf.cast(time_i, 'float32')\n",
    "        condition_1 = tf.math.less_equal(time_i, tf.cast(x[0], 'float32'))\n",
    "        condition_2 = tf.math.greater_equal(time_i, tf.cast(x[2], 'float32'))\n",
    "        condition_3 = tf.math.logical_and(tf.math.greater_equal(time_i, tf.cast(x[0], 'float32')), tf.math.less(time_i, tf.cast(x[1], 'float32')))\n",
    "        condition_4 = tf.math.logical_and(tf.math.greater_equal(time_i, tf.cast(x[1], 'float32')), tf.math.less(time_i, tf.cast(x[2], 'float32')))\n",
    "        \n",
    "        w_new = tf.cond(condition_1, lambda: y[0], \n",
    "                         lambda: tf.cond(condition_2, lambda: y[2], \n",
    "                                         lambda: tf.cond(condition_3, \n",
    "                                                         lambda: tfp.math.interp_regular_1d_grid(tf.cast(time_i, 'float32'), tf.cast(x[0], 'float32'),  \n",
    "                                                                 tf.cast(x[1], 'float32'), tf.cast(y[0:2], 'float32')), \n",
    "                                                         lambda: tfp.math.interp_regular_1d_grid(tf.cast(time_i, 'float32'), tf.cast(x[1], 'float32'), \n",
    "                                                                    tf.cast(x[2], 'float32'), tf.cast(y[1:3], 'float32')) ))) \n",
    "        \n",
    "        w_new = tf.reshape(w_new, [-1,1])\n",
    "        w = tf.concat([w, w_new], axis=0)   \n",
    "    w = w[1:]\n",
    "    return (w)"
   ]
  },
  {
   "cell_type": "markdown",
   "id": "5a312505-e76d-47c7-9436-53820e756ae8",
   "metadata": {},
   "source": [
    "Next, we create the PBK model to solve using the dde.grad.jacobian function."
   ]
  },
  {
   "cell_type": "code",
   "execution_count": 6,
   "id": "a52d6b3c-d85c-4ab0-814c-4ab936b5a331",
   "metadata": {
    "tags": []
   },
   "outputs": [],
   "source": [
    "def PBK_model(t, net_out, ex):\n",
    "    # At this point we estimate the derivatives of the networks outputs to time    \n",
    "    M_art, M_venous, M_gills, M_lumen, M_lumen_2, M_viscera, M_liver, M_kidney, \\\n",
    "    M_muscle, M_skin, M_carcass, M_storage, M_urine, M_feces, M_blood = net_out[:, 0:1], net_out[:, 1:2], \\\n",
    "    net_out[:, 2:3], net_out[:, 3:4], net_out[:, 4:5], net_out[:, 5:6], net_out[:, 6:7], net_out[:, 7:8], \\\n",
    "    net_out[:, 8:9], net_out[:, 9:10], net_out[:, 10:11], net_out[:, 11:12], net_out[:, 12:13], net_out[:, 13:14], net_out[:, 14:15]\n",
    "    \n",
    "    dM_art_ls = dde.gradients.jacobian(net_out, t, i=0)\n",
    "    dM_venous_ls = dde.gradients.jacobian(net_out, t, i=1)\n",
    "    dM_gills_ls = dde.gradients.jacobian(net_out, t, i=2)\n",
    "    dM_lumen_ls = dde.gradients.jacobian(net_out, t, i=3)\n",
    "    dM_lumen_2_ls = dde.gradients.jacobian(net_out, t, i=4)\n",
    "    dM_viscera_ls = dde.gradients.jacobian(net_out, t, i=5)\n",
    "    dM_liver_ls = dde.gradients.jacobian(net_out, t, i=6)\n",
    "    dM_kidney_ls = dde.gradients.jacobian(net_out, t, i=7)\n",
    "    dM_muscle_ls = dde.gradients.jacobian(net_out, t, i=8)\n",
    "    dM_skin_ls = dde.gradients.jacobian(net_out, t, i=9)\n",
    "    dM_carcass_ls = dde.gradients.jacobian(net_out, t, i=10)\n",
    "    dM_storage_ls = dde.gradients.jacobian(net_out, t, i=11)\n",
    "    dM_urine_ls = dde.gradients.jacobian(net_out, t, i=12)\n",
    "    dM_feces_ls = dde.gradients.jacobian(net_out, t, i=13)\n",
    "    dM_blood_ls = dde.gradients.jacobian(net_out, t, i=14)\n",
    "\n",
    "    \n",
    "    #------------------------------------------------------------\n",
    "    # Estimate the derivatives based on the ODEs.\n",
    "    \n",
    "    # Estimation of constant parameters \n",
    "    (F_card_ref,BW_ref,KT,fw_Liver,fw_Blood,fw_Skin,fw_Muscle,fw_Gills,\n",
    "     fw_Kidney, fw_Viscera, fw_lumen,fb_Liver,fb_Skin,fb_Muscle,fb_Gills,\n",
    "     fb_Kidney,fb_Viscera,a_skin,a_muscle,Q_bile_coef,\n",
    "     Q_urine_coef,V_urine_coef,K_urine,Cl_urine,f_reab_hep,plasma, a) = create_params('PFOS', 15)\n",
    "    \n",
    "    CLU_coef = 0.0005719031\n",
    "    Ku = 1.4668919575\n",
    "    Cl_feces = 1.3064647362\n",
    "    \n",
    "    # Body weight - g\n",
    "    BW = fish_weight(t)\n",
    "        \n",
    "    # Total cardiac output ml/h considered as plasma flow\n",
    "    Q_total = F_card_ref*KT*(BW/BW_ref)**(-0.1)*BW*plasma  \n",
    "    \n",
    "    # Calculate the mass of each tissue - g\n",
    "    w_blood = fw_Blood*BW*plasma     # Blood mass - g\n",
    "    w_liver = fw_Liver*BW     # Liver mass - g\n",
    "    w_skin = fw_Skin*BW       # Skin weight - g\n",
    "    w_muscle = fw_Muscle*BW   # Muscle weight - g\n",
    "    w_gills = fw_Gills*BW     # Gills weight - g\n",
    "    w_kidney = fw_Kidney*BW   # Kidney weight - g\n",
    "    w_viscera = fw_Viscera*BW # Viscera weight - g\n",
    "    w_lumen = fw_lumen*BW\n",
    "    w_art = 1/3*w_blood\n",
    "    w_venous = 2/3*w_blood\n",
    "    w_carcass = BW - (w_blood/plasma + w_liver + w_skin + w_muscle +\n",
    "                         w_gills + w_kidney + w_viscera + w_lumen)\n",
    "    \n",
    "    # Calculate the regional blood flows - ml/h\n",
    "    Q_liver = fb_Liver*Q_total     # Liver blood flow - ml/h\n",
    "    Q_skin = fb_Skin*Q_total       # Skin blood flow - ml/h\n",
    "    Q_muscle = fb_Muscle*Q_total   # Muscle blood flow - ml/h\n",
    "    Q_gills = Q_total              # Gills blood flow - ml/h\n",
    "    Q_kidney = fb_Kidney*Q_total   # Kidney blood flow - ml/h\n",
    "    Q_viscera = fb_Viscera*Q_total # Viscera blood flow - ml/h\n",
    "    Q_carcass = Q_total - (Q_liver + Q_skin + Q_muscle + \n",
    "                              Q_kidney + Q_viscera)\n",
    "    \n",
    "    # Calculate the absolute bile flow rate - ml/h\n",
    "    Q_bile = Q_bile_coef*BW\n",
    "    # Calculate Urinary flow rate - ml/h\n",
    "    Q_urine = Q_urine_coef*BW\n",
    "    \n",
    "    # Calculate urine volume  - ml \n",
    "    v_urine = V_urine_coef*BW\n",
    "    \n",
    "    # Calculate f_reab_urine based on Cl_urine and K_urine - 1/h\n",
    "    f_reab_urine = Cl_urine*CLU_coef/K_urine\n",
    "    \n",
    "    # Tissue concentrations ug PFAS/g tissue\n",
    "    C_gills = M_gills/w_gills\n",
    "    C_viscera = M_viscera/w_viscera\n",
    "    C_liver = M_liver/w_liver\n",
    "    C_kidney = M_kidney/w_kidney\n",
    "    C_muscle = M_muscle/w_muscle \n",
    "    C_skin = M_skin/w_skin\n",
    "    C_carcass = M_carcass/w_carcass\n",
    "    C_lumen = (M_lumen+M_lumen_2)/w_lumen\n",
    "    C_art = M_art/w_art\n",
    "    C_venous = M_venous/w_venous\n",
    "    C_blood = (M_art + M_venous)/w_blood\n",
    "    C_storage = M_storage/v_urine\n",
    "    \n",
    "    # Arterial Blood\n",
    "    dM_art_rs = Q_gills*C_gills/P_gills - \\\n",
    "                (Q_viscera + Q_liver + Q_kidney + \n",
    "                 Q_muscle + Q_skin + Q_carcass)*C_art\n",
    "        \n",
    "    # Venous blood    \n",
    "    dM_venous_rs = - Q_total*C_venous + \\\n",
    "                    (Q_liver + Q_viscera)*C_liver/P_liver + \\\n",
    "                    (Q_kidney + a_muscle*Q_muscle + a_skin*Q_skin)*C_kidney/P_kidney + \\\n",
    "                    (1-a_muscle)*Q_muscle*C_muscle/P_muscle + \\\n",
    "                    (1-a_skin)*Q_skin*C_skin/P_skin + Q_carcass*C_carcass/P_carcass\n",
    "    \n",
    "    dM_blood_rs = (dM_art_rs + dM_venous_rs)*plasma\n",
    "    \n",
    "    # Gills \n",
    "    dM_gills_rs = Q_gills*(C_venous - C_gills/P_gills) \n",
    "    \n",
    "    # Viscera Lumen - Available PFAS for absorption and elimination\n",
    "    dM_lumen_rs = - Ku*a*M_lumen - Cl_feces*(1-a)*M_lumen + ex\n",
    "    \n",
    "    # Viscera Lumen 2 - Unavailable PFAS for absorption. Can be only eliminated.\n",
    "    dM_lumen_2_rs = (1-f_reab_hep)*Q_bile*C_liver - Cl_feces*M_lumen_2 \n",
    "    \n",
    "    \n",
    "    # Viscera Tissue\n",
    "    dM_viscera_rs = Q_viscera*(C_art - C_viscera/P_viscera) + Ku*a*M_lumen + \\\n",
    "                      f_reab_hep*Q_bile*C_liver\n",
    "    \n",
    "    # Liver\n",
    "    dM_liver_rs = Q_liver*C_art + Q_viscera*C_viscera/P_viscera -    \\\n",
    "                      (Q_liver + Q_viscera)*C_liver/P_liver - Q_bile*C_liver\n",
    "        \n",
    "    # Kidney\n",
    "    dM_kidney_rs = Q_kidney*C_art -   \\\n",
    "                  (Q_kidney + a_muscle*Q_muscle + a_skin*Q_skin)*C_kidney/P_kidney + \\\n",
    "                  a_muscle*Q_muscle*C_muscle/P_muscle +   \\\n",
    "                  a_skin*Q_skin*C_skin/P_skin - Cl_urine*CLU_coef*M_kidney + f_reab_urine*M_storage\n",
    "    \n",
    "                \n",
    "    # Muscle \n",
    "    dM_muscle_rs = Q_muscle*(C_art - C_muscle/P_muscle)\n",
    "\n",
    "    # Skin\n",
    "    dM_skin_rs = Q_skin*(C_art - C_skin/P_skin)\n",
    "    \n",
    "    # Carcass \n",
    "    dM_carcass_rs = Q_carcass*(C_art - C_carcass/P_carcass)\n",
    "    \n",
    "    # Urine Storage\n",
    "    dM_storage_rs = Cl_urine*CLU_coef*M_kidney - f_reab_urine*M_storage - Q_urine*C_storage\n",
    "    \n",
    "    # Urine\n",
    "    dM_urine_rs = Q_urine*C_storage\n",
    "    \n",
    "    # Feces\n",
    "    dM_feces_rs = Cl_feces*((1-a)*M_lumen + M_lumen_2)\n",
    "    \n",
    "    return [\n",
    "        dM_art_ls - dM_art_rs,\n",
    "        dM_venous_ls - dM_venous_rs,\n",
    "        dM_gills_ls - dM_gills_rs,\n",
    "        dM_lumen_ls - dM_lumen_rs,\n",
    "        dM_lumen_2_ls - dM_lumen_2_rs,\n",
    "        dM_viscera_ls - dM_viscera_rs,\n",
    "        dM_liver_ls - dM_liver_rs,\n",
    "        dM_kidney_ls - dM_kidney_rs,\n",
    "        dM_muscle_ls - dM_muscle_rs,\n",
    "        dM_skin_ls - dM_skin_rs,\n",
    "        dM_carcass_ls - dM_carcass_rs,\n",
    "        dM_storage_ls - dM_storage_rs,\n",
    "        dM_urine_ls - dM_urine_rs,\n",
    "        dM_feces_ls - dM_feces_rs,\n",
    "        dM_blood_ls - dM_blood_rs,\n",
    "        M_blood - (M_art + M_venous),\n",
    "        M_lumen - abs(M_lumen),\n",
    "        M_lumen_2 - abs(M_lumen_2),\n",
    "        M_urine - abs(M_urine),\n",
    "        M_feces - abs(M_feces),\n",
    "        M_storage - abs(M_storage)\n",
    "    ]"
   ]
  },
  {
   "cell_type": "markdown",
   "id": "a57d4851-5573-4925-9a13-62cb0c1ab72c",
   "metadata": {},
   "source": [
    "Next, we consider the initial conditions. We need to implement a function, which should return True for points inside the subdomain and False for the points outside."
   ]
  },
  {
   "cell_type": "code",
   "execution_count": 7,
   "id": "cbe3c470-b809-47ec-97ab-8e24ebf31d2d",
   "metadata": {
    "tags": []
   },
   "outputs": [],
   "source": [
    "def boundary(_, on_initial):\n",
    "    return on_initial"
   ]
  },
  {
   "cell_type": "code",
   "execution_count": 8,
   "id": "46731458-1b88-49e1-a62e-0d0087e5d05f",
   "metadata": {
    "tags": []
   },
   "outputs": [],
   "source": [
    "def gen_traindata(data_path):\n",
    "    #data = np.load('PFOS_dataset.npy')\n",
    "    data = pd.read_csv(data_path)\n",
    "    return np.vstack(data[\"Time\"]), np.vstack(data[\"Liver\"]), np.vstack(data[\"Blood\"]), np.vstack(data[\"Skin\"]), \\\n",
    "            np.vstack(data[\"Muscle\"]), np.vstack(data[\"Gills\"]), np.vstack(data[\"Kidney\"]), np.vstack(data[\"Carcass\"])"
   ]
  },
  {
   "cell_type": "code",
   "execution_count": 9,
   "id": "42425c06-93be-4796-ba88-b2a7724a7fc0",
   "metadata": {
    "tags": []
   },
   "outputs": [
    {
     "data": {
      "text/html": [
       "<div>\n",
       "<style scoped>\n",
       "    .dataframe tbody tr th:only-of-type {\n",
       "        vertical-align: middle;\n",
       "    }\n",
       "\n",
       "    .dataframe tbody tr th {\n",
       "        vertical-align: top;\n",
       "    }\n",
       "\n",
       "    .dataframe thead th {\n",
       "        text-align: right;\n",
       "    }\n",
       "</style>\n",
       "<table border=\"1\" class=\"dataframe\">\n",
       "  <thead>\n",
       "    <tr style=\"text-align: right;\">\n",
       "      <th></th>\n",
       "      <th>Unnamed: 0</th>\n",
       "      <th>Substance</th>\n",
       "      <th>Time</th>\n",
       "      <th>Cumulative_added_PFAS</th>\n",
       "      <th>Feeding_period</th>\n",
       "      <th>Depuration_period</th>\n",
       "      <th>Liver</th>\n",
       "      <th>Blood</th>\n",
       "      <th>Skin</th>\n",
       "      <th>Muscle</th>\n",
       "      <th>Gills</th>\n",
       "      <th>Kidney</th>\n",
       "      <th>Carcass</th>\n",
       "    </tr>\n",
       "  </thead>\n",
       "  <tbody>\n",
       "    <tr>\n",
       "      <th>0</th>\n",
       "      <td>2</td>\n",
       "      <td>PFOS</td>\n",
       "      <td>168</td>\n",
       "      <td>31.89875</td>\n",
       "      <td>168</td>\n",
       "      <td>0</td>\n",
       "      <td>0.830824</td>\n",
       "      <td>1.387634</td>\n",
       "      <td>0.902924</td>\n",
       "      <td>6.333805</td>\n",
       "      <td>0.282163</td>\n",
       "      <td>0.387887</td>\n",
       "      <td>1.211752</td>\n",
       "    </tr>\n",
       "    <tr>\n",
       "      <th>1</th>\n",
       "      <td>3</td>\n",
       "      <td>PFOS</td>\n",
       "      <td>336</td>\n",
       "      <td>71.55525</td>\n",
       "      <td>336</td>\n",
       "      <td>0</td>\n",
       "      <td>1.774949</td>\n",
       "      <td>2.223234</td>\n",
       "      <td>1.642856</td>\n",
       "      <td>7.884101</td>\n",
       "      <td>0.405304</td>\n",
       "      <td>0.828127</td>\n",
       "      <td>2.063702</td>\n",
       "    </tr>\n",
       "    <tr>\n",
       "      <th>2</th>\n",
       "      <td>4</td>\n",
       "      <td>PFOS</td>\n",
       "      <td>672</td>\n",
       "      <td>174.14150</td>\n",
       "      <td>672</td>\n",
       "      <td>0</td>\n",
       "      <td>3.641293</td>\n",
       "      <td>4.908156</td>\n",
       "      <td>3.974353</td>\n",
       "      <td>19.320693</td>\n",
       "      <td>0.773400</td>\n",
       "      <td>1.674786</td>\n",
       "      <td>5.364159</td>\n",
       "    </tr>\n",
       "    <tr>\n",
       "      <th>3</th>\n",
       "      <td>5</td>\n",
       "      <td>PFOS</td>\n",
       "      <td>744</td>\n",
       "      <td>174.14150</td>\n",
       "      <td>0</td>\n",
       "      <td>72</td>\n",
       "      <td>3.044344</td>\n",
       "      <td>4.249679</td>\n",
       "      <td>3.064818</td>\n",
       "      <td>10.004054</td>\n",
       "      <td>0.678865</td>\n",
       "      <td>1.419006</td>\n",
       "      <td>3.782428</td>\n",
       "    </tr>\n",
       "    <tr>\n",
       "      <th>4</th>\n",
       "      <td>6</td>\n",
       "      <td>PFOS</td>\n",
       "      <td>840</td>\n",
       "      <td>174.14150</td>\n",
       "      <td>0</td>\n",
       "      <td>168</td>\n",
       "      <td>2.810464</td>\n",
       "      <td>2.984789</td>\n",
       "      <td>3.299889</td>\n",
       "      <td>7.602470</td>\n",
       "      <td>0.759248</td>\n",
       "      <td>1.136403</td>\n",
       "      <td>4.472106</td>\n",
       "    </tr>\n",
       "    <tr>\n",
       "      <th>5</th>\n",
       "      <td>7</td>\n",
       "      <td>PFOS</td>\n",
       "      <td>1008</td>\n",
       "      <td>174.14150</td>\n",
       "      <td>0</td>\n",
       "      <td>336</td>\n",
       "      <td>1.702425</td>\n",
       "      <td>2.084880</td>\n",
       "      <td>1.480999</td>\n",
       "      <td>4.976324</td>\n",
       "      <td>0.445934</td>\n",
       "      <td>0.649347</td>\n",
       "      <td>2.062184</td>\n",
       "    </tr>\n",
       "    <tr>\n",
       "      <th>6</th>\n",
       "      <td>8</td>\n",
       "      <td>PFOS</td>\n",
       "      <td>1344</td>\n",
       "      <td>174.14150</td>\n",
       "      <td>0</td>\n",
       "      <td>672</td>\n",
       "      <td>1.812408</td>\n",
       "      <td>1.067025</td>\n",
       "      <td>0.895023</td>\n",
       "      <td>1.934924</td>\n",
       "      <td>0.341851</td>\n",
       "      <td>0.387848</td>\n",
       "      <td>1.197082</td>\n",
       "    </tr>\n",
       "  </tbody>\n",
       "</table>\n",
       "</div>"
      ],
      "text/plain": [
       "   Unnamed: 0 Substance  Time  Cumulative_added_PFAS  Feeding_period  \\\n",
       "0           2      PFOS   168               31.89875             168   \n",
       "1           3      PFOS   336               71.55525             336   \n",
       "2           4      PFOS   672              174.14150             672   \n",
       "3           5      PFOS   744              174.14150               0   \n",
       "4           6      PFOS   840              174.14150               0   \n",
       "5           7      PFOS  1008              174.14150               0   \n",
       "6           8      PFOS  1344              174.14150               0   \n",
       "\n",
       "   Depuration_period     Liver     Blood      Skin     Muscle     Gills  \\\n",
       "0                  0  0.830824  1.387634  0.902924   6.333805  0.282163   \n",
       "1                  0  1.774949  2.223234  1.642856   7.884101  0.405304   \n",
       "2                  0  3.641293  4.908156  3.974353  19.320693  0.773400   \n",
       "3                 72  3.044344  4.249679  3.064818  10.004054  0.678865   \n",
       "4                168  2.810464  2.984789  3.299889   7.602470  0.759248   \n",
       "5                336  1.702425  2.084880  1.480999   4.976324  0.445934   \n",
       "6                672  1.812408  1.067025  0.895023   1.934924  0.341851   \n",
       "\n",
       "     Kidney   Carcass  \n",
       "0  0.387887  1.211752  \n",
       "1  0.828127  2.063702  \n",
       "2  1.674786  5.364159  \n",
       "3  1.419006  3.782428  \n",
       "4  1.136403  4.472106  \n",
       "5  0.649347  2.062184  \n",
       "6  0.387848  1.197082  "
      ]
     },
     "execution_count": 9,
     "metadata": {},
     "output_type": "execute_result"
    }
   ],
   "source": [
    "data_path = '/Users/vassilis/Documents/GitHub/PFAS_PBK_models/PFAS Rainbow trout PBK/PINN/DeepXDE_implementation/Hyperparameters_tuning/PFOS_Mass_dataset.csv'\n",
    "pd.read_csv(data_path)"
   ]
  },
  {
   "cell_type": "code",
   "execution_count": 10,
   "id": "da58cd94-b491-4ea9-b65d-afe975cab4bb",
   "metadata": {
    "tags": []
   },
   "outputs": [],
   "source": [
    "observe_t, Obs_liver, Obs_blood, Obs_skin, Obs_muscle, Obs_gills, Obs_kidney, Obs_carcass = gen_traindata(data_path)\n",
    "\n",
    "observe_Blood = dde.icbc.PointSetBC(observe_t, Obs_blood, component=14, shuffle=False) \n",
    "observe_Gills = dde.icbc.PointSetBC(observe_t, Obs_gills, component=2, shuffle=False)\n",
    "observe_Liver = dde.icbc.PointSetBC(observe_t, Obs_liver, component=6, shuffle=False)\n",
    "observe_Kidney = dde.icbc.PointSetBC(observe_t, Obs_kidney, component=7, shuffle=False)\n",
    "observe_Muscle = dde.icbc.PointSetBC(observe_t, Obs_muscle, component=8, shuffle=False)\n",
    "observe_Skin = dde.icbc.PointSetBC(observe_t, Obs_skin, component=9, shuffle=False)\n",
    "observe_Carcass = dde.icbc.PointSetBC(observe_t, Obs_carcass, component=10,shuffle=False)"
   ]
  },
  {
   "cell_type": "markdown",
   "id": "d95fc5df-ed5c-4faa-b271-a5c33bac691c",
   "metadata": {},
   "source": [
    "## Events data. Define Auxiliary function to model the added amount of PFAS."
   ]
  },
  {
   "cell_type": "code",
   "execution_count": 11,
   "id": "c0b932e7-447e-4348-bae4-e33d5cfc7c78",
   "metadata": {
    "tags": []
   },
   "outputs": [],
   "source": [
    "events_data = pd.read_csv('/Users/vassilis/Documents/GitHub/PFAS_PBK_models/PFAS Rainbow trout PBK/PINN/DeepXDE_implementation/Hyperparameters_tuning/events_simplified.csv')\n",
    "time_points = np.vstack(events_data['time'])\n",
    "added_amount = np.vstack(events_data['value'])\n",
    "\n",
    "def ex_func(t): \n",
    "    added_pfas = []\n",
    "    for time_i in t:\n",
    "        if np.isin(time_i, time_points):\n",
    "            index = np.where(np.isin(time_points, time_i))\n",
    "            added_pfas.append(added_amount[index])\n",
    "        else:\n",
    "            added_pfas.append(0)\n",
    "    return(np.vstack(added_pfas))\n",
    "\n",
    "# def ex_func(t): \n",
    "#     added_pfas = []\n",
    "#     for time_i in t:\n",
    "#         if time_i <= 648:\n",
    "#             added_pfas.append(6.449685/24)\n",
    "#         else:\n",
    "#             added_pfas.append(0)\n",
    "#     return(np.vstack(added_pfas))"
   ]
  },
  {
   "cell_type": "code",
   "execution_count": 12,
   "id": "0b62b70f-cc2d-4135-b39d-b4cae1b95535",
   "metadata": {
    "tags": []
   },
   "outputs": [
    {
     "name": "stdout",
     "output_type": "stream",
     "text": [
      "(28, 2)\n",
      "(28, 1)\n",
      "(28, 1)\n"
     ]
    }
   ],
   "source": [
    "print(events_data.shape)\n",
    "print(time_points.shape)\n",
    "print(added_amount.shape)"
   ]
  },
  {
   "cell_type": "code",
   "execution_count": 13,
   "id": "911a5998-908c-4511-9001-ffed51f78b82",
   "metadata": {
    "tags": []
   },
   "outputs": [],
   "source": [
    "anchors = observe_t\n",
    "anchors = np.sort(anchors, axis=0)\n",
    "anchors = np.vstack(np.unique(anchors))"
   ]
  },
  {
   "cell_type": "markdown",
   "id": "16c5ec2b-f3af-4c4b-928e-8f608975c456",
   "metadata": {
    "tags": []
   },
   "source": [
    "## Output transform function."
   ]
  },
  {
   "cell_type": "code",
   "execution_count": 14,
   "id": "2c94d72e-1037-4f2f-bd1a-c52bc2f8852e",
   "metadata": {
    "tags": []
   },
   "outputs": [],
   "source": [
    "def output_transform(t, netout):\n",
    "    netout1 = netout[:, 0:1]\n",
    "    netout2 = netout[:, 1:2]\n",
    "    netout3 = netout[:, 2:3]\n",
    "    netout4 = netout[:, 3:4]\n",
    "    netout5 = netout[:, 4:5]\n",
    "    netout6 = netout[:, 5:6]\n",
    "    netout7 = netout[:, 6:7]\n",
    "    netout8 = netout[:, 7:8]\n",
    "    netout9 = netout[:, 8:9]\n",
    "    netout10 = netout[:, 9:10]\n",
    "    netout11 = netout[:, 10:11]\n",
    "    netout12 = netout[:, 11:12]\n",
    "    netout13 = netout[:, 12:13]\n",
    "    netout14 = netout[:, 13:14]\n",
    "    netout15 = netout[:, 14:15]\n",
    "    \n",
    "    return tf.concat(\n",
    "        [netout1 * tf.tanh(t) , netout2 * tf.tanh(t), netout3 * tf.tanh(t),\n",
    "         netout4 * tf.tanh(t), \n",
    "         netout5 * tf.tanh(t), netout6 * tf.tanh(t),\n",
    "         netout7 * tf.tanh(t) , netout8 * tf.tanh(t), netout9 * tf.tanh(t),\n",
    "         netout10 * tf.tanh(t), netout11 * tf.tanh(t), netout12 * tf.tanh(t),\n",
    "         netout13 * tf.tanh(t), netout14 * tf.tanh(t), netout15 * tf.tanh(t)\n",
    "        ], axis=1\n",
    "    )"
   ]
  },
  {
   "cell_type": "code",
   "execution_count": 15,
   "id": "7b35b306-d0b0-4213-9cdd-d73994743826",
   "metadata": {
    "tags": []
   },
   "outputs": [
    {
     "name": "stderr",
     "output_type": "stream",
     "text": [
      "WARNING:absl:At this time, the v2.11+ optimizer `tf.keras.optimizers.Adam` runs slowly on M1/M2 Macs, please use the legacy Keras optimizer instead, located at `tf.keras.optimizers.legacy.Adam`.\n"
     ]
    }
   ],
   "source": [
    "\"\"\"\n",
    "Initialize the parameters values\n",
    "\n",
    "\"\"\"\n",
    "def initialize_params():\n",
    "    P_liver = dde.Variable(2.52)\n",
    "    P_muscle = dde.Variable(0.216)\n",
    "    P_kidney = dde.Variable(0.774)\n",
    "    P_skin = dde.Variable(0.487)\n",
    "    P_gills = dde.Variable(0.362)\n",
    "    P_carcass = dde.Variable(0.190)\n",
    "    P_viscera = dde.Variable(0.570)\n",
    "    external_trainable_variables = [P_liver,P_muscle,P_kidney,P_skin,P_gills,P_carcass,P_viscera]\n",
    "    return(external_trainable_variables)\n",
    "\n",
    "\n",
    "    \n",
    "# path to save new results\n",
    "path_save = '/Users/vassilis/Documents/GitHub/PFAS_PBK_models/PFAS Rainbow trout PBK/PINN/DeepXDE_implementation/Hyperparameters_tuning/Loss_weights_tuning/plot_predictions'\n",
    "os.chdir(path_save)\n",
    "\n",
    "data = dde.data.PDE(\n",
    "    geometry = geom, # Instance of Geometry\n",
    "    pde = PBK_model, # A global PDE or a list of PDEs. None if no global PDE.\n",
    "    bcs = [observe_Blood, observe_Gills, observe_Liver, observe_Kidney,\n",
    "           observe_Muscle, observe_Skin, observe_Carcass], #A boundary condition or a list of boundary conditions. Use [] if no boundary condition.\n",
    "    num_domain=500, # The number of training points sampled inside the domain.\n",
    "    #num_test= 10, \n",
    "    num_boundary=7, # The number of training points sampled on the boundary.\n",
    "    #train_distribution = 'uniform', # The distribution to sample training points.\n",
    "    anchors=anchors, # A Numpy array of training points, in addition to the num_domain and num_boundary sampled points.\n",
    "    auxiliary_var_function = ex_func)\n",
    "\n",
    "\"\"\"\n",
    "Feed-Forward Neural Network.\n",
    "Initilize the neural network constant parameters (initializer, activation function,\n",
    "learning rate, optimizer, loss function, external trainable parameters and loss weights)\n",
    "\"\"\"\n",
    "\n",
    "initializer = tf.keras.initializers.GlorotUniform(seed = None)\n",
    "loss_weights = np.concatenate((np.repeat([1.0], 21), np.repeat([100],7)) )\n",
    "optimizer = tf.keras.optimizers.Adam()\n",
    "lr=0.001\n",
    "loss = dde.losses.mean_squared_error\n",
    "iterations = 200000\n",
    "external_trainable_variables = initialize_params()\n",
    "\n"
   ]
  },
  {
   "cell_type": "code",
   "execution_count": 93,
   "id": "e13697c2-c48c-4c60-b27a-7f1c21da19af",
   "metadata": {
    "tags": []
   },
   "outputs": [],
   "source": [
    "time_points = np.arange(0,1345,1.0)\n",
    "time_points = np.vstack(time_points)"
   ]
  },
  {
   "cell_type": "markdown",
   "id": "d317d30c-a174-4f4a-b357-ccefdfd5f019",
   "metadata": {},
   "source": [
    "# w = 0.01"
   ]
  },
  {
   "cell_type": "code",
   "execution_count": 94,
   "id": "83241afe-892d-45bd-926c-09a323cb7ff5",
   "metadata": {
    "tags": []
   },
   "outputs": [
    {
     "name": "stdout",
     "output_type": "stream",
     "text": [
      "Compiling model...\n",
      "'compile' took 0.000491 s\n",
      "\n",
      "Restoring model from /Users/vassilis/Documents/GitHub/PFAS_PBK_models/PFAS Rainbow trout PBK/PINN/DeepXDE_implementation/Hyperparameters_tuning/Loss_weights_tuning/w_data_0.01/model.ckp-33000.ckpt ...\n",
      "\n"
     ]
    }
   ],
   "source": [
    "net = dde.nn.FNN([1] + [30] * 5 + [15], \"tanh\", initializer)\n",
    "net.apply_output_transform(output_transform)\n",
    "model = dde.Model(data, net)\n",
    "model.compile(optimizer = optimizer, lr=lr, loss = loss, external_trainable_variables=external_trainable_variables)\n",
    "# path to load weights\n",
    "path_weights = '/Users/vassilis/Documents/GitHub/PFAS_PBK_models/PFAS Rainbow trout PBK/PINN/DeepXDE_implementation/Hyperparameters_tuning/Loss_weights_tuning/w_data_0.01/model.ckp-33000.ckpt'\n",
    "model.restore(save_path=path_weights, verbose=1)\n",
    "\n",
    "preds = model.predict(time_points)\n",
    "preds=np.hstack((time_points, preds))\n",
    "columns_names=['Time','M_art', 'M_venous', 'M_gills', 'M_lumen', 'M_lumen_2', 'M_viscera', 'M_liver', 'M_kidney', \\\n",
    "                    'M_muscle', 'M_skin', 'M_carcass', 'M_storage', 'M_urine', 'M_feces', 'M_blood']\n",
    "preds_df = pd.DataFrame(preds, columns = columns_names)\n",
    "preds_df.to_csv('0.01_predictions.csv', sep=',', index=False)"
   ]
  },
  {
   "cell_type": "markdown",
   "id": "689b9cdf-d758-40f1-a549-9e3123332e2f",
   "metadata": {},
   "source": [
    "# w = 0.1"
   ]
  },
  {
   "cell_type": "code",
   "execution_count": 95,
   "id": "cdd91d22-a860-4741-826c-7ad136ce4f55",
   "metadata": {
    "tags": []
   },
   "outputs": [
    {
     "name": "stdout",
     "output_type": "stream",
     "text": [
      "Compiling model...\n",
      "'compile' took 0.008802 s\n",
      "\n",
      "Restoring model from /Users/vassilis/Documents/GitHub/PFAS_PBK_models/PFAS Rainbow trout PBK/PINN/DeepXDE_implementation/Hyperparameters_tuning/Loss_weights_tuning/w_data_0.1/model.ckp-61000.ckpt ...\n",
      "\n"
     ]
    }
   ],
   "source": [
    "net = dde.nn.FNN([1] + [30] * 5 + [15], \"tanh\", initializer)\n",
    "net.apply_output_transform(output_transform)\n",
    "model = dde.Model(data, net)\n",
    "model.compile(optimizer = optimizer, lr=lr, loss = loss, external_trainable_variables=external_trainable_variables)\n",
    "# path to load weights\n",
    "path_weights = '/Users/vassilis/Documents/GitHub/PFAS_PBK_models/PFAS Rainbow trout PBK/PINN/DeepXDE_implementation/Hyperparameters_tuning/Loss_weights_tuning/w_data_0.1/model.ckp-61000.ckpt'\n",
    "model.restore(save_path=path_weights, verbose=1)\n",
    "\n",
    "preds = model.predict(time_points)\n",
    "preds=np.hstack((time_points, preds))\n",
    "columns_names=['Time','M_art', 'M_venous', 'M_gills', 'M_lumen', 'M_lumen_2', 'M_viscera', 'M_liver', 'M_kidney', \\\n",
    "                    'M_muscle', 'M_skin', 'M_carcass', 'M_storage', 'M_urine', 'M_feces', 'M_blood']\n",
    "preds_df = pd.DataFrame(preds, columns = columns_names)\n",
    "preds_df.to_csv('0.1_predictions.csv', sep=',', index=False)"
   ]
  },
  {
   "cell_type": "markdown",
   "id": "5e4ab338-165c-4d48-8fb3-a4faf85fa7d2",
   "metadata": {},
   "source": [
    "# w = 1.0"
   ]
  },
  {
   "cell_type": "code",
   "execution_count": 96,
   "id": "3bc85410-8fb2-4462-8986-dacc15a1c80d",
   "metadata": {
    "tags": []
   },
   "outputs": [
    {
     "name": "stdout",
     "output_type": "stream",
     "text": [
      "Compiling model...\n",
      "'compile' took 0.000453 s\n",
      "\n",
      "Restoring model from /Users/vassilis/Documents/GitHub/PFAS_PBK_models/PFAS Rainbow trout PBK/PINN/DeepXDE_implementation/Hyperparameters_tuning/Loss_weights_tuning/w_data_1/model.ckp-5000.ckpt ...\n",
      "\n"
     ]
    }
   ],
   "source": [
    "net = dde.nn.FNN([1] + [30] * 5 + [15], \"tanh\", initializer)\n",
    "net.apply_output_transform(output_transform)\n",
    "model = dde.Model(data, net)\n",
    "model.compile(optimizer = optimizer, lr=lr, loss = loss, external_trainable_variables=external_trainable_variables)\n",
    "# path to load weights\n",
    "path_weights = '/Users/vassilis/Documents/GitHub/PFAS_PBK_models/PFAS Rainbow trout PBK/PINN/DeepXDE_implementation/Hyperparameters_tuning/Loss_weights_tuning/w_data_1/model.ckp-5000.ckpt'\n",
    "model.restore(save_path=path_weights, verbose=1)\n",
    "\n",
    "preds = model.predict(time_points)\n",
    "preds=np.hstack((time_points, preds))\n",
    "columns_names=['Time','M_art', 'M_venous', 'M_gills', 'M_lumen', 'M_lumen_2', 'M_viscera', 'M_liver', 'M_kidney', \\\n",
    "                    'M_muscle', 'M_skin', 'M_carcass', 'M_storage', 'M_urine', 'M_feces', 'M_blood']\n",
    "preds_df = pd.DataFrame(preds, columns = columns_names)\n",
    "preds_df.to_csv('1.0_predictions.csv', sep=',', index=False)"
   ]
  },
  {
   "cell_type": "markdown",
   "id": "309cdcfd-5156-47d8-a541-2af2d6cc6be4",
   "metadata": {},
   "source": [
    "# w = 2.0"
   ]
  },
  {
   "cell_type": "code",
   "execution_count": 97,
   "id": "7948b6b2-ffc7-45d9-a168-512fe28bf528",
   "metadata": {
    "tags": []
   },
   "outputs": [
    {
     "name": "stdout",
     "output_type": "stream",
     "text": [
      "Compiling model...\n",
      "'compile' took 0.000232 s\n",
      "\n",
      "Restoring model from /Users/vassilis/Documents/GitHub/PFAS_PBK_models/PFAS Rainbow trout PBK/PINN/DeepXDE_implementation/Hyperparameters_tuning/Loss_weights_tuning/w_data_2/model.ckp-9000.ckpt ...\n",
      "\n"
     ]
    }
   ],
   "source": [
    "net = dde.nn.FNN([1] + [30] * 5 + [15], \"tanh\", initializer)\n",
    "net.apply_output_transform(output_transform)\n",
    "model = dde.Model(data, net)\n",
    "model.compile(optimizer = optimizer, lr=lr, loss = loss, external_trainable_variables=external_trainable_variables)\n",
    "# path to load weights\n",
    "path_weights = '/Users/vassilis/Documents/GitHub/PFAS_PBK_models/PFAS Rainbow trout PBK/PINN/DeepXDE_implementation/Hyperparameters_tuning/Loss_weights_tuning/w_data_2/model.ckp-9000.ckpt'\n",
    "model.restore(save_path=path_weights, verbose=1)\n",
    "\n",
    "preds = model.predict(time_points)\n",
    "preds=np.hstack((time_points, preds))\n",
    "columns_names=['Time','M_art', 'M_venous', 'M_gills', 'M_lumen', 'M_lumen_2', 'M_viscera', 'M_liver', 'M_kidney', \\\n",
    "                    'M_muscle', 'M_skin', 'M_carcass', 'M_storage', 'M_urine', 'M_feces', 'M_blood']\n",
    "preds_df = pd.DataFrame(preds, columns = columns_names)\n",
    "preds_df.to_csv('2.0_predictions.csv', sep=',', index=False)"
   ]
  },
  {
   "cell_type": "markdown",
   "id": "9d88177f-4c91-48ce-8023-fefe3095e7d0",
   "metadata": {},
   "source": [
    "# w = 5.0"
   ]
  },
  {
   "cell_type": "code",
   "execution_count": 98,
   "id": "782fb64e-4c9e-4070-afd4-a750edaa21ea",
   "metadata": {
    "tags": []
   },
   "outputs": [
    {
     "name": "stdout",
     "output_type": "stream",
     "text": [
      "Compiling model...\n",
      "'compile' took 0.000603 s\n",
      "\n",
      "Restoring model from /Users/vassilis/Documents/GitHub/PFAS_PBK_models/PFAS Rainbow trout PBK/PINN/DeepXDE_implementation/Hyperparameters_tuning/Loss_weights_tuning/w_data_5/model.ckp-4000.ckpt ...\n",
      "\n"
     ]
    }
   ],
   "source": [
    "net = dde.nn.FNN([1] + [30] * 5 + [15], \"tanh\", initializer)\n",
    "net.apply_output_transform(output_transform)\n",
    "model = dde.Model(data, net)\n",
    "model.compile(optimizer = optimizer, lr=lr, loss = loss, external_trainable_variables=external_trainable_variables)\n",
    "# path to load weights\n",
    "path_weights = '/Users/vassilis/Documents/GitHub/PFAS_PBK_models/PFAS Rainbow trout PBK/PINN/DeepXDE_implementation/Hyperparameters_tuning/Loss_weights_tuning/w_data_5/model.ckp-4000.ckpt'\n",
    "model.restore(save_path=path_weights, verbose=1)\n",
    "\n",
    "preds = model.predict(time_points)\n",
    "preds=np.hstack((time_points, preds))\n",
    "columns_names=['Time','M_art', 'M_venous', 'M_gills', 'M_lumen', 'M_lumen_2', 'M_viscera', 'M_liver', 'M_kidney', \\\n",
    "                    'M_muscle', 'M_skin', 'M_carcass', 'M_storage', 'M_urine', 'M_feces', 'M_blood']\n",
    "preds_df = pd.DataFrame(preds, columns = columns_names)\n",
    "preds_df.to_csv('5.0_predictions.csv', sep=',', index=False)"
   ]
  },
  {
   "cell_type": "markdown",
   "id": "3d19c35a-5e78-4cd8-91e4-9325276a1eee",
   "metadata": {},
   "source": [
    "# w = 10.0"
   ]
  },
  {
   "cell_type": "code",
   "execution_count": 99,
   "id": "a56bbf0f-0c7b-4256-aade-ca5e05581d78",
   "metadata": {
    "tags": []
   },
   "outputs": [
    {
     "name": "stdout",
     "output_type": "stream",
     "text": [
      "Compiling model...\n",
      "'compile' took 0.000273 s\n",
      "\n",
      "Restoring model from /Users/vassilis/Documents/GitHub/PFAS_PBK_models/PFAS Rainbow trout PBK/PINN/DeepXDE_implementation/Hyperparameters_tuning/Loss_weights_tuning/w_data_10/model.ckp-37000.ckpt ...\n",
      "\n"
     ]
    }
   ],
   "source": [
    "net = dde.nn.FNN([1] + [30] * 5 + [15], \"tanh\", initializer)\n",
    "net.apply_output_transform(output_transform)\n",
    "model = dde.Model(data, net)\n",
    "model.compile(optimizer = optimizer, lr=lr, loss = loss, external_trainable_variables=external_trainable_variables)\n",
    "# path to load weights\n",
    "path_weights = '/Users/vassilis/Documents/GitHub/PFAS_PBK_models/PFAS Rainbow trout PBK/PINN/DeepXDE_implementation/Hyperparameters_tuning/Loss_weights_tuning/w_data_10/model.ckp-37000.ckpt'\n",
    "model.restore(save_path=path_weights, verbose=1)\n",
    "\n",
    "preds = model.predict(time_points)\n",
    "preds=np.hstack((time_points, preds))\n",
    "columns_names=['Time','M_art', 'M_venous', 'M_gills', 'M_lumen', 'M_lumen_2', 'M_viscera', 'M_liver', 'M_kidney', \\\n",
    "                    'M_muscle', 'M_skin', 'M_carcass', 'M_storage', 'M_urine', 'M_feces', 'M_blood']\n",
    "preds_df = pd.DataFrame(preds, columns = columns_names)\n",
    "preds_df.to_csv('10.0_predictions.csv', sep=',', index=False)"
   ]
  },
  {
   "cell_type": "markdown",
   "id": "49723baf-64fb-4caf-94e2-5f52e6869092",
   "metadata": {},
   "source": [
    "# w = 100"
   ]
  },
  {
   "cell_type": "code",
   "execution_count": 100,
   "id": "227ef857-971b-47b8-a6e5-b60e3b8a0987",
   "metadata": {
    "tags": []
   },
   "outputs": [
    {
     "name": "stdout",
     "output_type": "stream",
     "text": [
      "Compiling model...\n",
      "'compile' took 0.000281 s\n",
      "\n",
      "Restoring model from /Users/vassilis/Documents/GitHub/PFAS_PBK_models/PFAS Rainbow trout PBK/PINN/DeepXDE_implementation/Hyperparameters_tuning/Loss_weights_tuning/w_data_100/model.ckp-119000.ckpt ...\n",
      "\n"
     ]
    }
   ],
   "source": [
    "net = dde.nn.FNN([1] + [30] * 5 + [15], \"tanh\", initializer)\n",
    "net.apply_output_transform(output_transform)\n",
    "model = dde.Model(data, net)\n",
    "model.compile(optimizer = optimizer, lr=lr, loss = loss, external_trainable_variables=external_trainable_variables)\n",
    "# path to load weights\n",
    "path_weights = '/Users/vassilis/Documents/GitHub/PFAS_PBK_models/PFAS Rainbow trout PBK/PINN/DeepXDE_implementation/Hyperparameters_tuning/Loss_weights_tuning/w_data_100/model.ckp-119000.ckpt'\n",
    "model.restore(save_path=path_weights, verbose=1)\n",
    "\n",
    "preds = model.predict(time_points)\n",
    "preds=np.hstack((time_points, preds))\n",
    "columns_names=['Time','M_art', 'M_venous', 'M_gills', 'M_lumen', 'M_lumen_2', 'M_viscera', 'M_liver', 'M_kidney', \\\n",
    "                    'M_muscle', 'M_skin', 'M_carcass', 'M_storage', 'M_urine', 'M_feces', 'M_blood']\n",
    "preds_df = pd.DataFrame(preds, columns = columns_names)\n",
    "preds_df.to_csv('100.0_predictions.csv', sep=',', index=False)"
   ]
  }
 ],
 "metadata": {
  "kernelspec": {
   "display_name": "Python 3 (ipykernel)",
   "language": "python",
   "name": "python3"
  },
  "language_info": {
   "codemirror_mode": {
    "name": "ipython",
    "version": 3
   },
   "file_extension": ".py",
   "mimetype": "text/x-python",
   "name": "python",
   "nbconvert_exporter": "python",
   "pygments_lexer": "ipython3",
   "version": "3.11.3"
  }
 },
 "nbformat": 4,
 "nbformat_minor": 5
}
