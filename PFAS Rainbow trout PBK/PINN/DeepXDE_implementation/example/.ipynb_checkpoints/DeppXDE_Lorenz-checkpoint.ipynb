{
 "cells": [
  {
   "cell_type": "markdown",
   "metadata": {
    "id": "-VByrndNqP28"
   },
   "source": [
    "Inverse problem for the Lorenz system with exogenous input\n",
    "\n",
    "Example Source: https://deepxde.readthedocs.io/en/latest/demos/pinn_inverse/lorenz.inverse.forced.html"
   ]
  },
  {
   "cell_type": "code",
   "execution_count": 53,
   "metadata": {
    "colab": {
     "base_uri": "https://localhost:8080/"
    },
    "id": "7hpAt0Tvlf2W",
    "outputId": "b4b24a37-92fb-4c8a-f08f-f297d1d57724",
    "tags": []
   },
   "outputs": [],
   "source": [
    "import deepxde as dde\n",
    "import numpy as np\n",
    "import tensorflow as tf\n"
   ]
  },
  {
   "cell_type": "code",
   "execution_count": 54,
   "metadata": {
    "id": "qyjX8J-blkng",
    "tags": []
   },
   "outputs": [],
   "source": [
    "# We also want to define our three unknown variables, 𝜎, 𝜌 and 𝛽\n",
    "# which will now be called C1, C2, and C3, respectivly. These variables are given an initial guess of 1.0.\n",
    "\n",
    "C1 = dde.Variable(1.0)\n",
    "C2 = dde.Variable(1.0)\n",
    "C3 = dde.Variable(1.0)"
   ]
  },
  {
   "cell_type": "code",
   "execution_count": 55,
   "metadata": {
    "id": "sK0_c-Ofl9e1",
    "tags": []
   },
   "outputs": [],
   "source": [
    "# Now we can begin by creating a TimeDomain class.\n",
    "\n",
    "geom = dde.geometry.TimeDomain(0, 3)"
   ]
  },
  {
   "cell_type": "code",
   "execution_count": 56,
   "metadata": {
    "tags": []
   },
   "outputs": [],
   "source": [
    "def Lorenz_system(x, y):\n",
    "    y1, y2, y3 = y[:, 0:1], y[:, 1:2], y[:, 2:]\n",
    "    dy1_x = dde.grad.jacobian(y, x, i=0)\n",
    "    dy2_x = dde.grad.jacobian(y, x, i=1)\n",
    "    dy3_x = dde.grad.jacobian(y, x, i=2)\n",
    "    return [\n",
    "        dy1_x - C1 * (y2 - y1),\n",
    "        dy2_x - y1 * (C2 - y3) + y2,\n",
    "        dy3_x - y1 * y2 + C3 * y3,\n",
    "    ]"
   ]
  },
  {
   "cell_type": "code",
   "execution_count": 57,
   "metadata": {
    "id": "3bV5A_XCmM6k",
    "tags": []
   },
   "outputs": [],
   "source": [
    "def boundary(_, on_initial):\n",
    "    return on_initial"
   ]
  },
  {
   "cell_type": "code",
   "execution_count": 58,
   "metadata": {
    "id": "NXCRW4f0mRo8",
    "tags": []
   },
   "outputs": [],
   "source": [
    "ic1 = dde.icbc.IC(geom, lambda X: -8, boundary, component=0)\n",
    "ic2 = dde.icbc.IC(geom, lambda X: 7, boundary, component=1)\n",
    "ic3 = dde.icbc.IC(geom, lambda X: 27, boundary, component=2)"
   ]
  },
  {
   "cell_type": "code",
   "execution_count": 59,
   "metadata": {
    "id": "Qr0GyctTmmVB",
    "tags": []
   },
   "outputs": [],
   "source": [
    "def gen_traindata():\n",
    "    data = np.load(\"/Users/vassilis/Documents/GitHub/PFAS_PBK_models/PFAS Rainbow trout PBK/PINN/DeepXDE_implementation/example/Lorenz.npz\")\n",
    "    return data[\"t\"], data[\"y\"]"
   ]
  },
  {
   "cell_type": "code",
   "execution_count": 60,
   "metadata": {
    "id": "s2PIhPoLpANy",
    "tags": []
   },
   "outputs": [],
   "source": [
    "observe_t, ob_y = gen_traindata()\n",
    "observe_y0 = dde.icbc.PointSetBC(observe_t, ob_y[:, 0:1], component=0)\n",
    "observe_y1 = dde.icbc.PointSetBC(observe_t, ob_y[:, 1:2], component=1)\n",
    "observe_y2 = dde.icbc.PointSetBC(observe_t, ob_y[:, 2:3], component=2)"
   ]
  },
  {
   "cell_type": "code",
   "execution_count": 61,
   "metadata": {
    "tags": []
   },
   "outputs": [
    {
     "data": {
      "text/plain": [
       "array([[0.        ],\n",
       "       [0.01071738],\n",
       "       [0.06430429],\n",
       "       [0.1226244 ],\n",
       "       [0.20389738],\n",
       "       [0.2774039 ],\n",
       "       [0.36605932],\n",
       "       [0.46484636],\n",
       "       [0.57747023],\n",
       "       [0.74410941],\n",
       "       [0.87815709],\n",
       "       [1.01220478],\n",
       "       [1.15004686],\n",
       "       [1.28280759],\n",
       "       [1.42510765],\n",
       "       [1.58172756],\n",
       "       [1.75397377],\n",
       "       [1.89764233],\n",
       "       [2.04923335],\n",
       "       [2.18795955],\n",
       "       [2.37650218],\n",
       "       [2.53747737],\n",
       "       [2.69922368],\n",
       "       [2.86424061],\n",
       "       [3.        ]])"
      ]
     },
     "execution_count": 61,
     "metadata": {},
     "output_type": "execute_result"
    }
   ],
   "source": [
    "observe_t"
   ]
  },
  {
   "cell_type": "code",
   "execution_count": 62,
   "metadata": {
    "id": "1sFHG_1mpgtV"
   },
   "outputs": [],
   "source": [
    "# Now that the problem is fully setup, we define the PDE as:\n",
    "\n",
    "data = dde.data.PDE(\n",
    "    geom,\n",
    "    Lorenz_system,\n",
    "    [ic1, ic2, ic3, observe_y0, observe_y1, observe_y2],\n",
    "    num_domain=400,\n",
    "    num_boundary=2,\n",
    "    anchors=observe_t,\n",
    ")\n",
    "\n",
    "# Where num_domain is the number of points inside the domain, and num_boundary is\n",
    "# the number of points on the boundary. anchors are extra points beyond num_domain\n",
    "# and num_boundary used for training. auxiliary_var_function is the interpolation\n",
    "# function of 𝑓(𝑡)\n",
    "# we defined above."
   ]
  },
  {
   "cell_type": "code",
   "execution_count": 63,
   "metadata": {
    "id": "kJa61LByqplq"
   },
   "outputs": [],
   "source": [
    "# Next, we choose the network. Here, we use a fully connected neural network of\n",
    "# depth 4 (i.e., 3 hidden layers) and width 40:\n",
    "net = dde.nn.FNN([1] + [40] * 3 + [3], \"tanh\", \"Glorot uniform\")\n",
    "model = dde.Model(data, net)"
   ]
  },
  {
   "cell_type": "code",
   "execution_count": 64,
   "metadata": {
    "tags": []
   },
   "outputs": [
    {
     "name": "stderr",
     "output_type": "stream",
     "text": [
      "WARNING:absl:At this time, the v2.11+ optimizer `tf.keras.optimizers.Adam` runs slowly on M1/M2 Macs, please use the legacy Keras optimizer instead, located at `tf.keras.optimizers.legacy.Adam`.\n"
     ]
    },
    {
     "name": "stdout",
     "output_type": "stream",
     "text": [
      "Compiling model...\n",
      "'compile' took 0.002480 s\n",
      "\n"
     ]
    }
   ],
   "source": [
    "external_trainable_variables =[C1, C2, C3]\n",
    "# train adam\n",
    "model.compile(\n",
    "    \"adam\", lr=0.001, external_trainable_variables=external_trainable_variables\n",
    ")\n"
   ]
  },
  {
   "cell_type": "code",
   "execution_count": 65,
   "metadata": {
    "tags": []
   },
   "outputs": [],
   "source": [
    "variable = dde.callbacks.VariableValue(\n",
    "    external_trainable_variables, period=600, filename=\"variables.dat\"\n",
    ")\n",
    "checkpointer = dde.callbacks.ModelCheckpoint(\n",
    "    filepath= '/Users/vassilis/Documents/GitHub/PFAS_PBK_models/PFAS Rainbow trout PBK/PINN/DeepXDE_implementation/example/model.ckpt',\n",
    "    verbose=1, save_better_only=True, period=1, monitor='train loss')"
   ]
  },
  {
   "cell_type": "code",
   "execution_count": 66,
   "metadata": {
    "tags": []
   },
   "outputs": [
    {
     "name": "stdout",
     "output_type": "stream",
     "text": [
      "Training model...\n",
      "\n",
      "WARNING:tensorflow:AutoGraph could not transform <function <lambda> at 0x289b06160> and will run it as-is.\n",
      "Cause: could not parse the source code of <function <lambda> at 0x289b06160>: no matching AST found among candidates:\n",
      "# coding=utf-8\n",
      "lambda x, on: np.array([on_boundary(x[i], on[i]) for i in range(len(x))])\n",
      "To silence this warning, decorate the function with @tf.autograph.experimental.do_not_convert\n"
     ]
    },
    {
     "name": "stderr",
     "output_type": "stream",
     "text": [
      "WARNING:tensorflow:AutoGraph could not transform <function <lambda> at 0x289b06160> and will run it as-is.\n",
      "Cause: could not parse the source code of <function <lambda> at 0x289b06160>: no matching AST found among candidates:\n",
      "# coding=utf-8\n",
      "lambda x, on: np.array([on_boundary(x[i], on[i]) for i in range(len(x))])\n",
      "To silence this warning, decorate the function with @tf.autograph.experimental.do_not_convert\n"
     ]
    },
    {
     "name": "stdout",
     "output_type": "stream",
     "text": [
      "WARNING: AutoGraph could not transform <function <lambda> at 0x289b06160> and will run it as-is.\n",
      "Cause: could not parse the source code of <function <lambda> at 0x289b06160>: no matching AST found among candidates:\n",
      "# coding=utf-8\n",
      "lambda x, on: np.array([on_boundary(x[i], on[i]) for i in range(len(x))])\n",
      "To silence this warning, decorate the function with @tf.autograph.experimental.do_not_convert\n",
      "WARNING:tensorflow:AutoGraph could not transform <function <lambda> at 0x289b06520> and will run it as-is.\n",
      "Cause: could not parse the source code of <function <lambda> at 0x289b06520>: no matching AST found among candidates:\n",
      "# coding=utf-8\n",
      "lambda x, on: np.array([on_boundary(x[i], on[i]) for i in range(len(x))])\n",
      "To silence this warning, decorate the function with @tf.autograph.experimental.do_not_convert\n"
     ]
    },
    {
     "name": "stderr",
     "output_type": "stream",
     "text": [
      "WARNING:tensorflow:AutoGraph could not transform <function <lambda> at 0x289b06520> and will run it as-is.\n",
      "Cause: could not parse the source code of <function <lambda> at 0x289b06520>: no matching AST found among candidates:\n",
      "# coding=utf-8\n",
      "lambda x, on: np.array([on_boundary(x[i], on[i]) for i in range(len(x))])\n",
      "To silence this warning, decorate the function with @tf.autograph.experimental.do_not_convert\n"
     ]
    },
    {
     "name": "stdout",
     "output_type": "stream",
     "text": [
      "WARNING: AutoGraph could not transform <function <lambda> at 0x289b06520> and will run it as-is.\n",
      "Cause: could not parse the source code of <function <lambda> at 0x289b06520>: no matching AST found among candidates:\n",
      "# coding=utf-8\n",
      "lambda x, on: np.array([on_boundary(x[i], on[i]) for i in range(len(x))])\n",
      "To silence this warning, decorate the function with @tf.autograph.experimental.do_not_convert\n",
      "WARNING:tensorflow:AutoGraph could not transform <function <lambda> at 0x289b067a0> and will run it as-is.\n",
      "Cause: could not parse the source code of <function <lambda> at 0x289b067a0>: no matching AST found among candidates:\n",
      "# coding=utf-8\n",
      "lambda x, on: np.array([on_boundary(x[i], on[i]) for i in range(len(x))])\n",
      "To silence this warning, decorate the function with @tf.autograph.experimental.do_not_convert\n"
     ]
    },
    {
     "name": "stderr",
     "output_type": "stream",
     "text": [
      "WARNING:tensorflow:AutoGraph could not transform <function <lambda> at 0x289b067a0> and will run it as-is.\n",
      "Cause: could not parse the source code of <function <lambda> at 0x289b067a0>: no matching AST found among candidates:\n",
      "# coding=utf-8\n",
      "lambda x, on: np.array([on_boundary(x[i], on[i]) for i in range(len(x))])\n",
      "To silence this warning, decorate the function with @tf.autograph.experimental.do_not_convert\n"
     ]
    },
    {
     "name": "stdout",
     "output_type": "stream",
     "text": [
      "WARNING: AutoGraph could not transform <function <lambda> at 0x289b067a0> and will run it as-is.\n",
      "Cause: could not parse the source code of <function <lambda> at 0x289b067a0>: no matching AST found among candidates:\n",
      "# coding=utf-8\n",
      "lambda x, on: np.array([on_boundary(x[i], on[i]) for i in range(len(x))])\n",
      "To silence this warning, decorate the function with @tf.autograph.experimental.do_not_convert\n",
      "Step      Train loss                                                                                    Test loss                                                                                     Test metric\n",
      "0         [4.00e-01, 1.19e-01, 1.32e-01, 6.40e+01, 4.90e+01, 7.29e+02, 3.84e+01, 3.94e+01, 2.52e+02]    [4.00e-01, 1.19e-01, 1.32e-01, 6.40e+01, 4.90e+01, 7.29e+02, 3.84e+01, 3.94e+01, 2.52e+02]    []  \n",
      "Epoch 1: train loss improved from inf to 1.17e+03, saving model to /Users/vassilis/Documents/GitHub/PFAS_PBK_models/PFAS Rainbow trout PBK/PINN/DeepXDE_implementation/example/model.ckpt-1.ckpt ...\n",
      "\n",
      "1000      [5.23e+00, 2.97e+00, 3.09e+00, 3.30e+01, 1.34e-04, 1.71e+00, 3.32e+01, 7.16e+00, 1.05e+01]    [5.23e+00, 2.97e+00, 3.09e+00, 3.30e+01, 1.34e-04, 1.71e+00, 3.32e+01, 7.16e+00, 1.05e+01]    []  \n",
      "Epoch 1000: train loss improved from 1.17e+03 to 9.68e+01, saving model to /Users/vassilis/Documents/GitHub/PFAS_PBK_models/PFAS Rainbow trout PBK/PINN/DeepXDE_implementation/example/model.ckpt-1000.ckpt ...\n",
      "\n",
      "2000      [8.82e+00, 1.96e+00, 1.13e+00, 1.53e+01, 3.51e-01, 1.52e+00, 3.29e+01, 1.74e+01, 3.50e+00]    [8.82e+00, 1.96e+00, 1.13e+00, 1.53e+01, 3.51e-01, 1.52e+00, 3.29e+01, 1.74e+01, 3.50e+00]    []  \n",
      "Epoch 2000: train loss improved from 9.68e+01 to 8.28e+01, saving model to /Users/vassilis/Documents/GitHub/PFAS_PBK_models/PFAS Rainbow trout PBK/PINN/DeepXDE_implementation/example/model.ckpt-2000.ckpt ...\n",
      "\n",
      "3000      [8.49e+00, 1.97e+00, 8.31e-01, 1.28e+01, 3.87e-01, 1.43e+00, 3.29e+01, 1.92e+01, 2.51e+00]    [8.49e+00, 1.97e+00, 8.31e-01, 1.28e+01, 3.87e-01, 1.43e+00, 3.29e+01, 1.92e+01, 2.51e+00]    []  \n",
      "Epoch 3000: train loss improved from 8.28e+01 to 8.05e+01, saving model to /Users/vassilis/Documents/GitHub/PFAS_PBK_models/PFAS Rainbow trout PBK/PINN/DeepXDE_implementation/example/model.ckpt-3000.ckpt ...\n",
      "\n",
      "4000      [8.14e+00, 2.12e+00, 6.75e-01, 1.09e+01, 3.83e-01, 1.30e+00, 3.26e+01, 1.99e+01, 2.12e+00]    [8.14e+00, 2.12e+00, 6.75e-01, 1.09e+01, 3.83e-01, 1.30e+00, 3.26e+01, 1.99e+01, 2.12e+00]    []  \n",
      "Epoch 4000: train loss improved from 8.05e+01 to 7.82e+01, saving model to /Users/vassilis/Documents/GitHub/PFAS_PBK_models/PFAS Rainbow trout PBK/PINN/DeepXDE_implementation/example/model.ckpt-4000.ckpt ...\n",
      "\n",
      "5000      [7.91e+00, 2.28e+00, 5.22e-01, 9.37e+00, 3.71e-01, 1.22e+00, 3.24e+01, 2.00e+01, 1.87e+00]    [7.91e+00, 2.28e+00, 5.22e-01, 9.37e+00, 3.71e-01, 1.22e+00, 3.24e+01, 2.00e+01, 1.87e+00]    []  \n",
      "Epoch 5000: train loss improved from 7.82e+01 to 7.60e+01, saving model to /Users/vassilis/Documents/GitHub/PFAS_PBK_models/PFAS Rainbow trout PBK/PINN/DeepXDE_implementation/example/model.ckpt-5000.ckpt ...\n",
      "\n",
      "6000      [7.53e+00, 2.50e+00, 4.34e-01, 8.02e+00, 3.55e-01, 1.11e+00, 3.20e+01, 2.01e+01, 1.72e+00]    [7.53e+00, 2.50e+00, 4.34e-01, 8.02e+00, 3.55e-01, 1.11e+00, 3.20e+01, 2.01e+01, 1.72e+00]    []  \n",
      "Epoch 6000: train loss improved from 7.60e+01 to 7.37e+01, saving model to /Users/vassilis/Documents/GitHub/PFAS_PBK_models/PFAS Rainbow trout PBK/PINN/DeepXDE_implementation/example/model.ckpt-6000.ckpt ...\n",
      "\n",
      "7000      [6.84e+00, 2.99e+00, 3.28e-01, 6.65e+00, 3.35e-01, 9.57e-01, 3.10e+01, 2.01e+01, 1.80e+00]    [6.84e+00, 2.99e+00, 3.28e-01, 6.65e+00, 3.35e-01, 9.57e-01, 3.10e+01, 2.01e+01, 1.80e+00]    []  \n",
      "Epoch 7000: train loss improved from 7.37e+01 to 7.10e+01, saving model to /Users/vassilis/Documents/GitHub/PFAS_PBK_models/PFAS Rainbow trout PBK/PINN/DeepXDE_implementation/example/model.ckpt-7000.ckpt ...\n",
      "\n",
      "8000      [1.64e+00, 2.72e+00, 6.94e-01, 3.14e+00, 4.38e-01, 2.71e-01, 1.04e+01, 1.01e+01, 1.34e+01]    [1.64e+00, 2.72e+00, 6.94e-01, 3.14e+00, 4.38e-01, 2.71e-01, 1.04e+01, 1.01e+01, 1.34e+01]    []  \n",
      "Epoch 8000: train loss improved from 7.10e+01 to 4.28e+01, saving model to /Users/vassilis/Documents/GitHub/PFAS_PBK_models/PFAS Rainbow trout PBK/PINN/DeepXDE_implementation/example/model.ckpt-8000.ckpt ...\n",
      "\n",
      "9000      [5.50e-01, 1.23e+00, 3.82e-01, 1.33e+00, 1.92e-01, 1.04e-02, 3.82e+00, 3.62e+00, 1.01e+01]    [5.50e-01, 1.23e+00, 3.82e-01, 1.33e+00, 1.92e-01, 1.04e-02, 3.82e+00, 3.62e+00, 1.01e+01]    []  \n",
      "Epoch 9000: train loss improved from 4.28e+01 to 2.12e+01, saving model to /Users/vassilis/Documents/GitHub/PFAS_PBK_models/PFAS Rainbow trout PBK/PINN/DeepXDE_implementation/example/model.ckpt-9000.ckpt ...\n",
      "\n",
      "10000     [3.11e-01, 7.00e-01, 2.84e-01, 7.03e-01, 7.19e-02, 7.01e-03, 1.89e+00, 1.81e+00, 6.53e+00]    [3.11e-01, 7.00e-01, 2.84e-01, 7.03e-01, 7.19e-02, 7.01e-03, 1.89e+00, 1.81e+00, 6.53e+00]    []  \n",
      "Epoch 10000: train loss improved from 2.12e+01 to 1.23e+01, saving model to /Users/vassilis/Documents/GitHub/PFAS_PBK_models/PFAS Rainbow trout PBK/PINN/DeepXDE_implementation/example/model.ckpt-10000.ckpt ...\n",
      "\n",
      "\n",
      "Best model at step 10000:\n",
      "  train loss: 1.23e+01\n",
      "  test loss: 1.23e+01\n",
      "  test metric: []\n",
      "\n",
      "'train' took 13.673952 s\n",
      "\n"
     ]
    }
   ],
   "source": [
    "losshistory, train_state = model.train(iterations=10000, callbacks=[variable, checkpointer])"
   ]
  },
  {
   "cell_type": "code",
   "execution_count": 27,
   "metadata": {
    "collapsed": true,
    "jupyter": {
     "outputs_hidden": true
    },
    "tags": []
   },
   "outputs": [
    {
     "name": "stdout",
     "output_type": "stream",
     "text": [
      "Saving loss history to /Users/vassilis/Documents/GitHub/PFAS_PBK_models/PFAS Rainbow trout PBK/PINN/DeepXDE_implementation/example/loss.dat ...\n",
      "Saving training data to /Users/vassilis/Documents/GitHub/PFAS_PBK_models/PFAS Rainbow trout PBK/PINN/DeepXDE_implementation/example/train.dat ...\n",
      "Saving test data to /Users/vassilis/Documents/GitHub/PFAS_PBK_models/PFAS Rainbow trout PBK/PINN/DeepXDE_implementation/example/test.dat ...\n"
     ]
    },
    {
     "data": {
      "image/png": "[encoded data removed]",
      "text/plain": [
       "<Figure size 640x480 with 1 Axes>"
      ]
     },
     "metadata": {},
     "output_type": "display_data"
    },
    {
     "data": {
      "image/png": "[encoded data removed]",
      "text/plain": [
       "<Figure size 640x480 with 1 Axes>"
      ]
     },
     "metadata": {},
     "output_type": "display_data"
    }
   ],
   "source": [
    "dde.saveplot(losshistory, train_state, issave=True, isplot=True)"
   ]
  },
  {
   "cell_type": "code",
   "execution_count": 31,
   "metadata": {
    "collapsed": true,
    "jupyter": {
     "outputs_hidden": true
    },
    "tags": []
   },
   "outputs": [
    {
     "data": {
      "text/plain": [
       "{'external_trainable_variable:0': <tf.Variable 'Variable:0' shape=() dtype=float32, numpy=10.01215>,\n",
       " 'external_trainable_variable:1': <tf.Variable 'Variable:0' shape=() dtype=float32, numpy=14.999887>,\n",
       " 'external_trainable_variable:2': <tf.Variable 'Variable:0' shape=() dtype=float32, numpy=2.6676342>,\n",
       " 'denses.0.kernel': <tf.Variable 'fnn/dense/kernel:0' shape=(1, 40) dtype=float32, numpy=\n",
       " array([[ 0.62236774, -0.54023147,  0.92039114, -0.573312  , -0.4966742 ,\n",
       "         -1.075558  ,  0.6040905 , -0.32251447,  1.3476703 , -0.88957566,\n",
       "          1.580879  , -0.77059036, -0.3496533 ,  0.47907916,  0.7737956 ,\n",
       "          0.33052757,  0.31312045, -0.3228225 , -0.3751157 ,  0.4415894 ,\n",
       "          1.1147166 , -1.1168442 ,  0.61873764, -0.37807676, -0.25307655,\n",
       "         -0.49188936, -0.989157  ,  1.1759607 ,  0.3887165 ,  0.6232528 ,\n",
       "         -1.2080246 , -0.29233944,  0.07319437, -0.35678306, -0.32288244,\n",
       "         -0.32675427,  1.0684747 , -0.3286898 , -0.26992536,  0.31620488]],\n",
       "       dtype=float32)>,\n",
       " 'denses.0.bias': <tf.Variable 'fnn/dense/bias:0' shape=(40,) dtype=float32, numpy=\n",
       " array([ 0.12379614,  0.19209944,  0.2655994 ,  0.10636395,  0.30481294,\n",
       "        -0.22186269, -0.15134993,  0.20882912,  0.18891628, -0.05592169,\n",
       "         0.24609286, -0.174925  ,  0.24671827, -0.25755104,  0.03049028,\n",
       "        -0.25028905, -0.29156   ,  0.2241372 ,  0.23126991, -0.20118767,\n",
       "         0.19704586, -0.22936042,  0.29979417,  0.2683348 ,  0.3287266 ,\n",
       "        -0.19404969, -0.36352307,  0.21261524, -0.17956538, -0.2214236 ,\n",
       "        -0.16360025, -0.16289678, -0.14166294,  0.26023394,  0.39139998,\n",
       "         0.52039695,  0.24346796,  0.26694056,  0.20286016, -0.19250698],\n",
       "       dtype=float32)>,\n",
       " 'denses.1.kernel': <tf.Variable 'fnn/dense_1/kernel:0' shape=(40, 40) dtype=float32, numpy=\n",
       " array([[ 0.5600595 , -0.10316265,  0.32783872, ..., -0.12818654,\n",
       "         -0.03459452, -0.02744943],\n",
       "        [-0.4227617 ,  0.40546504,  0.0075879 , ..., -0.22030962,\n",
       "         -0.23508325, -0.11887444],\n",
       "        [ 0.51239145,  0.33182058,  0.3139596 , ..., -0.19867907,\n",
       "         -0.15617302, -0.08753747],\n",
       "        ...,\n",
       "        [-0.29552305,  0.57054394, -0.16778758, ..., -0.7221325 ,\n",
       "         -0.47914848, -0.6649627 ],\n",
       "        [-0.20797877,  0.7557933 ,  0.03800098, ..., -0.44071296,\n",
       "         -0.56014407, -0.35756645],\n",
       "        [-0.03444927, -0.49121884, -0.14273651, ...,  0.8646525 ,\n",
       "          0.52937275,  0.42481124]], dtype=float32)>,\n",
       " 'denses.1.bias': <tf.Variable 'fnn/dense_1/bias:0' shape=(40,) dtype=float32, numpy=\n",
       " array([ 0.06985121,  0.1949311 ,  0.13785087, -0.10954024, -0.12353466,\n",
       "        -0.02453887, -0.05712267, -0.16257516,  0.26569322, -0.1860102 ,\n",
       "        -0.11762708,  0.07761457, -0.09264223,  0.11474559,  0.18202808,\n",
       "         0.11045749, -0.16193214,  0.06198097, -0.1488591 ,  0.16101436,\n",
       "        -0.04504969,  0.15544084, -0.09315186,  0.1002177 , -0.11730871,\n",
       "        -0.03422853, -0.29379818,  0.28792426, -0.1887309 ,  0.09244314,\n",
       "         0.11297376, -0.15775876, -0.05291597, -0.01411853,  0.07530497,\n",
       "        -0.03874059,  0.03198855, -0.20680152, -0.14072482, -0.08416011],\n",
       "       dtype=float32)>,\n",
       " 'denses.2.kernel': <tf.Variable 'fnn/dense_2/kernel:0' shape=(40, 40) dtype=float32, numpy=\n",
       " array([[ 0.28804874, -0.509423  ,  0.36647013, ..., -0.2144688 ,\n",
       "          0.07536411, -0.39046985],\n",
       "        [ 0.78053236, -0.01129651,  0.4076297 , ...,  0.09379144,\n",
       "         -0.21761668,  0.10759879],\n",
       "        [ 0.31270105, -0.27078146,  0.3654546 , ..., -0.09383876,\n",
       "          0.04321845, -0.56244   ],\n",
       "        ...,\n",
       "        [ 0.11202942,  0.17510058, -0.19924653, ..., -0.3047913 ,\n",
       "          0.15292059, -0.30800122],\n",
       "        [-0.30388853,  0.16570678, -1.193848  , ...,  0.23655576,\n",
       "         -0.03050296,  0.05090896],\n",
       "        [-0.6016901 , -0.05746413, -0.18370786, ...,  0.22435062,\n",
       "          0.48541495,  0.18100677]], dtype=float32)>,\n",
       " 'denses.2.bias': <tf.Variable 'fnn/dense_2/bias:0' shape=(40,) dtype=float32, numpy=\n",
       " array([ 0.15855624, -0.22080588,  0.12797259, -0.02457759,  0.22816171,\n",
       "         0.04186712,  0.00232491, -0.13986193, -0.09550814,  0.27596298,\n",
       "        -0.09627652, -0.29779723,  0.18586816,  0.19458933, -0.04472736,\n",
       "         0.13116974, -0.06190494, -0.08964531, -0.13333328,  0.05131819,\n",
       "         0.1582677 , -0.12035567,  0.01000422, -0.13227749, -0.28517497,\n",
       "        -0.00472755,  0.05979488,  0.06441312,  0.2882018 ,  0.26471457,\n",
       "        -0.05390582, -0.07688361,  0.06716045, -0.07686449,  0.03549108,\n",
       "         0.30806097, -0.0107645 ,  0.03854446, -0.02958655, -0.26635018],\n",
       "       dtype=float32)>,\n",
       " 'denses.3.kernel': <tf.Variable 'fnn/dense_3/kernel:0' shape=(40, 3) dtype=float32, numpy=\n",
       " array([[-0.8167361 , -0.8266341 ,  1.3769348 ],\n",
       "        [-0.0290437 , -0.6194452 , -0.9938829 ],\n",
       "        [ 0.6100288 ,  0.35615638,  0.7541893 ],\n",
       "        [-0.19975583,  0.24172531, -1.0728885 ],\n",
       "        [-0.4339811 ,  0.3924078 ,  1.0932617 ],\n",
       "        [-0.46514463, -1.57123   ,  0.30932993],\n",
       "        [-1.0044304 ,  0.53887546,  0.63351965],\n",
       "        [-0.63943136,  0.3583689 , -1.1323264 ],\n",
       "        [ 0.14210887, -1.0579004 , -1.0371696 ],\n",
       "        [ 0.04569718,  0.1912866 ,  1.1473767 ],\n",
       "        [-0.4791353 , -0.6574085 , -1.0733716 ],\n",
       "        [ 0.22896232, -0.1389918 , -0.9204936 ],\n",
       "        [ 0.44580895, -0.25821412,  1.4578208 ],\n",
       "        [-0.38118064,  0.4758432 ,  0.9095036 ],\n",
       "        [ 0.4654153 , -0.05806811, -0.9900705 ],\n",
       "        [-0.2334392 , -0.58126104,  1.535584  ],\n",
       "        [ 0.96295923,  1.1113542 , -0.89534545],\n",
       "        [ 0.45818603,  0.35846716, -0.6557411 ],\n",
       "        [ 0.93863773,  1.4653562 , -0.8692799 ],\n",
       "        [-0.5524969 , -0.41625026,  0.7798116 ],\n",
       "        [-0.50975424, -0.4415173 ,  0.9183879 ],\n",
       "        [-0.11505295, -1.382366  ,  0.33247724],\n",
       "        [ 1.0418208 , -1.1189512 , -0.12040174],\n",
       "        [ 1.3166001 , -0.35105443, -1.8131171 ],\n",
       "        [ 0.23072152, -0.17013298, -1.0077168 ],\n",
       "        [-1.0117764 ,  0.69158345,  0.5096858 ],\n",
       "        [-1.0605211 , -0.5900991 ,  0.85126066],\n",
       "        [ 0.45543584,  2.8578167 ,  0.8283326 ],\n",
       "        [-0.00319378,  0.20582107,  0.9156693 ],\n",
       "        [-0.24919681,  0.27642274,  0.8167106 ],\n",
       "        [-2.5341597 , -1.0843354 , -2.2969038 ],\n",
       "        [-0.23417476, -0.2021837 , -1.0616653 ],\n",
       "        [-0.25056994,  0.30747247,  1.1542327 ],\n",
       "        [ 1.5273322 ,  1.0551974 ,  0.4721551 ],\n",
       "        [ 0.32276705, -0.96029824, -0.23163466],\n",
       "        [-0.08766308, -0.0152792 ,  0.9780995 ],\n",
       "        [ 0.6591658 ,  0.61625034,  0.7212138 ],\n",
       "        [-0.64251876,  0.18655612,  0.5398408 ],\n",
       "        [ 0.251391  ,  0.6373414 , -0.79530007],\n",
       "        [ 0.20358762, -0.13631074, -0.9273722 ]], dtype=float32)>,\n",
       " 'denses.3.bias': <tf.Variable 'fnn/dense_3/bias:0' shape=(3,) dtype=float32, numpy=array([-0.16804032,  0.16350539,  0.5498063 ], dtype=float32)>}"
      ]
     },
     "execution_count": 31,
     "metadata": {},
     "output_type": "execute_result"
    }
   ],
   "source": [
    "model.state_dict()"
   ]
  },
  {
   "cell_type": "code",
   "execution_count": 68,
   "metadata": {
    "tags": []
   },
   "outputs": [
    {
     "name": "stderr",
     "output_type": "stream",
     "text": [
      "WARNING:absl:At this time, the v2.11+ optimizer `tf.keras.optimizers.Adam` runs slowly on M1/M2 Macs, please use the legacy Keras optimizer instead, located at `tf.keras.optimizers.legacy.Adam`.\n"
     ]
    },
    {
     "name": "stdout",
     "output_type": "stream",
     "text": [
      "Compiling model...\n",
      "'compile' took 0.002849 s\n",
      "\n"
     ]
    }
   ],
   "source": [
    "net = dde.nn.FNN([1] + [40] * 3 + [3], \"tanh\", \"Glorot uniform\")\n",
    "model = dde.Model(data, net)\n",
    "\n",
    "external_trainable_variables =[C1, C2, C3]\n",
    "\n",
    "# train adam\n",
    "model.compile(\n",
    "    \"adam\", lr=0.001, external_trainable_variables=external_trainable_variables\n",
    ")\n",
    "model.restore('/Users/vassilis/Documents/GitHub/PFAS_PBK_models/PFAS Rainbow trout PBK/PINN/DeepXDE_implementation/example/model.ckpt-10000.ckpt')"
   ]
  },
  {
   "cell_type": "code",
   "execution_count": 77,
   "metadata": {
    "tags": []
   },
   "outputs": [
    {
     "name": "stdout",
     "output_type": "stream",
     "text": [
      "Restoring model from /Users/vassilis/Documents/GitHub/PFAS_PBK_models/PFAS Rainbow trout PBK/PINN/DeepXDE_implementation/example/model.ckpt-10000.ckpt ...\n",
      "\n"
     ]
    }
   ],
   "source": [
    "model.restore('/Users/vassilis/Documents/GitHub/PFAS_PBK_models/PFAS Rainbow trout PBK/PINN/DeepXDE_implementation/example/model.ckpt-10000.ckpt', verbose=1)"
   ]
  },
  {
   "cell_type": "code",
   "execution_count": 78,
   "metadata": {
    "tags": []
   },
   "outputs": [
    {
     "data": {
      "text/plain": [
       "{'external_trainable_variable:0': <tf.Variable 'Variable:0' shape=() dtype=float32, numpy=4.384874>,\n",
       " 'external_trainable_variable:1': <tf.Variable 'Variable:0' shape=() dtype=float32, numpy=12.20205>,\n",
       " 'external_trainable_variable:2': <tf.Variable 'Variable:0' shape=() dtype=float32, numpy=2.62768>}"
      ]
     },
     "execution_count": 78,
     "metadata": {},
     "output_type": "execute_result"
    }
   ],
   "source": [
    "model.state_dict()"
   ]
  }
 ],
 "metadata": {
  "colab": {
   "provenance": []
  },
  "kernelspec": {
   "display_name": "Python 3 (ipykernel)",
   "language": "python",
   "name": "python3"
  },
  "language_info": {
   "codemirror_mode": {
    "name": "ipython",
    "version": 3
   },
   "file_extension": ".py",
   "mimetype": "text/x-python",
   "name": "python",
   "nbconvert_exporter": "python",
   "pygments_lexer": "ipython3",
   "version": "3.11.3"
  }
 },
 "nbformat": 4,
 "nbformat_minor": 4
}
