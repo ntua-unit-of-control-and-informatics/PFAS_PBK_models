{
 "cells": [
  {
   "cell_type": "markdown",
   "metadata": {
    "id": "-VByrndNqP28"
   },
   "source": [
    "Inverse problem for the Lorenz system with exogenous input\n",
    "\n",
    "Example Source: https://deepxde.readthedocs.io/en/latest/demos/pinn_inverse/lorenz.inverse.forced.html"
   ]
  },
  {
   "cell_type": "code",
   "execution_count": 1,
   "metadata": {
    "colab": {
     "base_uri": "https://localhost:8080/"
    },
    "id": "7hpAt0Tvlf2W",
    "outputId": "b4b24a37-92fb-4c8a-f08f-f297d1d57724",
    "tags": []
   },
   "outputs": [
    {
     "name": "stderr",
     "output_type": "stream",
     "text": [
      "Using backend: tensorflow\n",
      "Other supported backends: tensorflow.compat.v1, pytorch, jax, paddle.\n",
      "paddle supports more examples now and is recommended.\n"
     ]
    }
   ],
   "source": [
    "import deepxde as dde\n",
    "import numpy as np"
   ]
  },
  {
   "cell_type": "code",
   "execution_count": 2,
   "metadata": {
    "id": "qyjX8J-blkng",
    "tags": []
   },
   "outputs": [],
   "source": [
    "# We also want to define our three unknown variables, 𝜎, 𝜌 and 𝛽\n",
    "# which will now be called C1, C2, and C3, respectivly. These variables are given an initial guess of 1.0.\n",
    "\n",
    "C1 = dde.Variable(1.0)\n",
    "C2 = dde.Variable(1.0)\n",
    "C3 = dde.Variable(1.0)"
   ]
  },
  {
   "cell_type": "code",
   "execution_count": 3,
   "metadata": {
    "id": "sK0_c-Ofl9e1",
    "tags": []
   },
   "outputs": [],
   "source": [
    "# Now we can begin by creating a TimeDomain class.\n",
    "\n",
    "geom = dde.geometry.TimeDomain(0, 3)"
   ]
  },
  {
   "cell_type": "code",
   "execution_count": 4,
   "metadata": {
    "tags": []
   },
   "outputs": [],
   "source": [
    "def Lorenz_system(x, y):\n",
    "    y1, y2, y3 = y[:, 0:1], y[:, 1:2], y[:, 2:]\n",
    "    dy1_x = dde.grad.jacobian(y, x, i=0)\n",
    "    dy2_x = dde.grad.jacobian(y, x, i=1)\n",
    "    dy3_x = dde.grad.jacobian(y, x, i=2)\n",
    "    return [\n",
    "        dy1_x - C1 * (y2 - y1),\n",
    "        dy2_x - y1 * (C2 - y3) + y2,\n",
    "        dy3_x - y1 * y2 + C3 * y3,\n",
    "    ]"
   ]
  },
  {
   "cell_type": "code",
   "execution_count": 5,
   "metadata": {
    "id": "3bV5A_XCmM6k",
    "tags": []
   },
   "outputs": [],
   "source": [
    "def boundary(_, on_initial):\n",
    "    return on_initial"
   ]
  },
  {
   "cell_type": "code",
   "execution_count": 6,
   "metadata": {
    "id": "NXCRW4f0mRo8",
    "tags": []
   },
   "outputs": [],
   "source": [
    "ic1 = dde.icbc.IC(geom, lambda X: -8, boundary, component=0)\n",
    "ic2 = dde.icbc.IC(geom, lambda X: 7, boundary, component=1)\n",
    "ic3 = dde.icbc.IC(geom, lambda X: 27, boundary, component=2)"
   ]
  },
  {
   "cell_type": "code",
   "execution_count": 7,
   "metadata": {
    "id": "Qr0GyctTmmVB",
    "tags": []
   },
   "outputs": [],
   "source": [
    "def gen_traindata():\n",
    "    data = np.load(\"/Users/vassilis/Documents/GitHub/PFAS_PBK_models/PFAS Rainbow trout PBK/PINN/DeepXDE_implementation/example/Lorenz.npz\")\n",
    "    return data[\"t\"], data[\"y\"]"
   ]
  },
  {
   "cell_type": "code",
   "execution_count": 8,
   "metadata": {
    "id": "s2PIhPoLpANy",
    "tags": []
   },
   "outputs": [],
   "source": [
    "observe_t, ob_y = gen_traindata()\n",
    "observe_y0 = dde.icbc.PointSetBC(observe_t, ob_y[:, 0:1], component=0)\n",
    "observe_y1 = dde.icbc.PointSetBC(observe_t, ob_y[:, 1:2], component=1)\n",
    "observe_y2 = dde.icbc.PointSetBC(observe_t, ob_y[:, 2:3], component=2)"
   ]
  },
  {
   "cell_type": "code",
   "execution_count": 9,
   "metadata": {
    "id": "1sFHG_1mpgtV"
   },
   "outputs": [],
   "source": [
    "# Now that the problem is fully setup, we define the PDE as:\n",
    "\n",
    "data = dde.data.PDE(\n",
    "    geom,\n",
    "    Lorenz_system,\n",
    "    [ic1, ic2, ic3, observe_y0, observe_y1, observe_y2],\n",
    "    num_domain=400,\n",
    "    num_boundary=2,\n",
    "    anchors=observe_t,\n",
    ")\n",
    "\n",
    "# Where num_domain is the number of points inside the domain, and num_boundary is\n",
    "# the number of points on the boundary. anchors are extra points beyond num_domain\n",
    "# and num_boundary used for training. auxiliary_var_function is the interpolation\n",
    "# function of 𝑓(𝑡)\n",
    "# we defined above."
   ]
  },
  {
   "cell_type": "code",
   "execution_count": 10,
   "metadata": {
    "id": "kJa61LByqplq"
   },
   "outputs": [],
   "source": [
    "# Next, we choose the network. Here, we use a fully connected neural network of\n",
    "# depth 4 (i.e., 3 hidden layers) and width 40:\n",
    "\n",
    "net = dde.nn.FNN([1] + [40] * 3 + [3], \"tanh\", \"Glorot uniform\")"
   ]
  },
  {
   "cell_type": "code",
   "execution_count": 12,
   "metadata": {
    "id": "OH0JnK7dqtPh"
   },
   "outputs": [
    {
     "name": "stderr",
     "output_type": "stream",
     "text": [
      "WARNING:absl:At this time, the v2.11+ optimizer `tf.keras.optimizers.Adam` runs slowly on M1/M2 Macs, please use the legacy Keras optimizer instead, located at `tf.keras.optimizers.legacy.Adam`.\n"
     ]
    },
    {
     "name": "stdout",
     "output_type": "stream",
     "text": [
      "Compiling model...\n",
      "'compile' took 0.004669 s\n",
      "\n"
     ]
    }
   ],
   "source": [
    "model = dde.Model(data, net)\n",
    "model.compile(\"adam\", lr=0.0001, loss = 'MSE' , external_trainable_variables=[C1, C2, C3])\n",
    "variable = dde.callbacks.VariableValue([C1, C2, C3], period=600, filename=\"variables.dat\")"
   ]
  },
  {
   "cell_type": "code",
   "execution_count": 13,
   "metadata": {
    "id": "FS5Ea1dWq3tU",
    "tags": []
   },
   "outputs": [
    {
     "name": "stdout",
     "output_type": "stream",
     "text": [
      "Training model...\n",
      "\n"
     ]
    },
    {
     "name": "stderr",
     "output_type": "stream",
     "text": [
      "/Users/vassilis/anaconda3/lib/python3.11/site-packages/keras/initializers/initializers.py:120: UserWarning: The initializer GlorotUniform is unseeded and being called multiple times, which will return identical values each time (even if the initializer is unseeded). Please update your code to provide a seed to the initializer, or avoid using the same initalizer instance more than once.\n",
      "  warnings.warn(\n"
     ]
    },
    {
     "name": "stdout",
     "output_type": "stream",
     "text": [
      "WARNING:tensorflow:AutoGraph could not transform <function <lambda> at 0x1745ea7a0> and will run it as-is.\n",
      "Cause: could not parse the source code of <function <lambda> at 0x1745ea7a0>: no matching AST found among candidates:\n",
      "# coding=utf-8\n",
      "lambda x, on: np.array([on_boundary(x[i], on[i]) for i in range(len(x))])\n",
      "To silence this warning, decorate the function with @tf.autograph.experimental.do_not_convert\n"
     ]
    },
    {
     "name": "stderr",
     "output_type": "stream",
     "text": [
      "WARNING:tensorflow:AutoGraph could not transform <function <lambda> at 0x1745ea7a0> and will run it as-is.\n",
      "Cause: could not parse the source code of <function <lambda> at 0x1745ea7a0>: no matching AST found among candidates:\n",
      "# coding=utf-8\n",
      "lambda x, on: np.array([on_boundary(x[i], on[i]) for i in range(len(x))])\n",
      "To silence this warning, decorate the function with @tf.autograph.experimental.do_not_convert\n"
     ]
    },
    {
     "name": "stdout",
     "output_type": "stream",
     "text": [
      "WARNING: AutoGraph could not transform <function <lambda> at 0x1745ea7a0> and will run it as-is.\n",
      "Cause: could not parse the source code of <function <lambda> at 0x1745ea7a0>: no matching AST found among candidates:\n",
      "# coding=utf-8\n",
      "lambda x, on: np.array([on_boundary(x[i], on[i]) for i in range(len(x))])\n",
      "To silence this warning, decorate the function with @tf.autograph.experimental.do_not_convert\n",
      "WARNING:tensorflow:AutoGraph could not transform <function <lambda> at 0x1745eab60> and will run it as-is.\n",
      "Cause: could not parse the source code of <function <lambda> at 0x1745eab60>: no matching AST found among candidates:\n",
      "# coding=utf-8\n",
      "lambda x, on: np.array([on_boundary(x[i], on[i]) for i in range(len(x))])\n",
      "To silence this warning, decorate the function with @tf.autograph.experimental.do_not_convert\n"
     ]
    },
    {
     "name": "stderr",
     "output_type": "stream",
     "text": [
      "WARNING:tensorflow:AutoGraph could not transform <function <lambda> at 0x1745eab60> and will run it as-is.\n",
      "Cause: could not parse the source code of <function <lambda> at 0x1745eab60>: no matching AST found among candidates:\n",
      "# coding=utf-8\n",
      "lambda x, on: np.array([on_boundary(x[i], on[i]) for i in range(len(x))])\n",
      "To silence this warning, decorate the function with @tf.autograph.experimental.do_not_convert\n"
     ]
    },
    {
     "name": "stdout",
     "output_type": "stream",
     "text": [
      "WARNING: AutoGraph could not transform <function <lambda> at 0x1745eab60> and will run it as-is.\n",
      "Cause: could not parse the source code of <function <lambda> at 0x1745eab60>: no matching AST found among candidates:\n",
      "# coding=utf-8\n",
      "lambda x, on: np.array([on_boundary(x[i], on[i]) for i in range(len(x))])\n",
      "To silence this warning, decorate the function with @tf.autograph.experimental.do_not_convert\n",
      "WARNING:tensorflow:AutoGraph could not transform <function <lambda> at 0x1745eade0> and will run it as-is.\n",
      "Cause: could not parse the source code of <function <lambda> at 0x1745eade0>: no matching AST found among candidates:\n",
      "# coding=utf-8\n",
      "lambda x, on: np.array([on_boundary(x[i], on[i]) for i in range(len(x))])\n",
      "To silence this warning, decorate the function with @tf.autograph.experimental.do_not_convert\n"
     ]
    },
    {
     "name": "stderr",
     "output_type": "stream",
     "text": [
      "WARNING:tensorflow:AutoGraph could not transform <function <lambda> at 0x1745eade0> and will run it as-is.\n",
      "Cause: could not parse the source code of <function <lambda> at 0x1745eade0>: no matching AST found among candidates:\n",
      "# coding=utf-8\n",
      "lambda x, on: np.array([on_boundary(x[i], on[i]) for i in range(len(x))])\n",
      "To silence this warning, decorate the function with @tf.autograph.experimental.do_not_convert\n"
     ]
    },
    {
     "name": "stdout",
     "output_type": "stream",
     "text": [
      "WARNING: AutoGraph could not transform <function <lambda> at 0x1745eade0> and will run it as-is.\n",
      "Cause: could not parse the source code of <function <lambda> at 0x1745eade0>: no matching AST found among candidates:\n",
      "# coding=utf-8\n",
      "lambda x, on: np.array([on_boundary(x[i], on[i]) for i in range(len(x))])\n",
      "To silence this warning, decorate the function with @tf.autograph.experimental.do_not_convert\n"
     ]
    },
    {
     "name": "stderr",
     "output_type": "stream",
     "text": [
      "2023-09-12 19:46:30.577564: W tensorflow/tsl/platform/profile_utils/cpu_utils.cc:128] Failed to get CPU frequency: 0 Hz\n"
     ]
    },
    {
     "name": "stdout",
     "output_type": "stream",
     "text": [
      "Step      Train loss                                                                                    Test loss                                                                                     Test metric\n",
      "0         [5.20e-02, 4.07e-01, 3.28e-02, 6.40e+01, 4.90e+01, 7.29e+02, 3.64e+01, 4.54e+01, 2.57e+02]    [5.20e-02, 4.07e-01, 3.28e-02, 6.40e+01, 4.90e+01, 7.29e+02, 3.64e+01, 4.54e+01, 2.57e+02]    []  \n",
      "1000      [4.44e+00, 6.09e+00, 3.33e+01, 5.75e+01, 1.08e+01, 2.47e+02, 3.27e+01, 1.18e+01, 5.58e+01]    [4.44e+00, 6.09e+00, 3.33e+01, 5.75e+01, 1.08e+01, 2.47e+02, 3.27e+01, 1.18e+01, 5.58e+01]    []  \n",
      "2000      [4.21e+00, 3.80e+00, 2.30e+01, 5.64e+01, 5.90e-01, 1.21e+02, 3.22e+01, 1.09e+01, 3.23e+01]    [4.21e+00, 3.80e+00, 2.30e+01, 5.64e+01, 5.90e-01, 1.21e+02, 3.22e+01, 1.09e+01, 3.23e+01]    []  \n",
      "3000      [3.47e+00, 4.43e+00, 1.44e+01, 5.35e+01, 1.74e-04, 5.83e+01, 3.24e+01, 9.74e+00, 1.96e+01]    [3.47e+00, 4.43e+00, 1.44e+01, 5.35e+01, 1.74e-04, 5.83e+01, 3.24e+01, 9.74e+00, 1.96e+01]    []  \n",
      "4000      [3.47e+00, 4.87e+00, 8.67e+00, 5.11e+01, 3.80e-02, 2.45e+01, 3.28e+01, 8.29e+00, 1.46e+01]    [3.47e+00, 4.87e+00, 8.67e+00, 5.11e+01, 3.80e-02, 2.45e+01, 3.28e+01, 8.29e+00, 1.46e+01]    []  \n",
      "5000      [3.59e+00, 5.00e+00, 5.16e+00, 4.84e+01, 7.65e-02, 8.84e+00, 3.32e+01, 6.89e+00, 1.33e+01]    [3.59e+00, 5.00e+00, 5.16e+00, 4.84e+01, 7.65e-02, 8.84e+00, 3.32e+01, 6.89e+00, 1.33e+01]    []  \n",
      "6000      [3.45e+00, 4.55e+00, 3.70e+00, 4.59e+01, 1.02e-01, 3.29e+00, 3.34e+01, 5.89e+00, 1.33e+01]    [3.45e+00, 4.55e+00, 3.70e+00, 4.59e+01, 1.02e-01, 3.29e+00, 3.34e+01, 5.89e+00, 1.33e+01]    []  \n",
      "7000      [3.30e+00, 3.96e+00, 3.43e+00, 4.29e+01, 1.09e-01, 2.06e+00, 3.36e+01, 5.54e+00, 1.27e+01]    [3.30e+00, 3.96e+00, 3.43e+00, 4.29e+01, 1.09e-01, 2.06e+00, 3.36e+01, 5.54e+00, 1.27e+01]    []  \n",
      "8000      [3.73e+00, 3.43e+00, 3.33e+00, 3.90e+01, 9.68e-02, 2.13e+00, 3.36e+01, 5.81e+00, 1.12e+01]    [3.73e+00, 3.43e+00, 3.33e+00, 3.90e+01, 9.68e-02, 2.13e+00, 3.36e+01, 5.81e+00, 1.12e+01]    []  \n",
      "9000      [6.65e+00, 2.49e+00, 2.22e+00, 3.05e+01, 3.31e-03, 3.85e+00, 3.33e+01, 6.78e+00, 8.92e+00]    [6.65e+00, 2.49e+00, 2.22e+00, 3.05e+01, 3.31e-03, 3.85e+00, 3.33e+01, 6.78e+00, 8.92e+00]    []  \n",
      "10000     [8.34e+00, 2.14e+00, 1.69e+00, 2.24e+01, 9.90e-02, 2.02e+00, 3.30e+01, 1.09e+01, 6.69e+00]    [8.34e+00, 2.14e+00, 1.69e+00, 2.24e+01, 9.90e-02, 2.02e+00, 3.30e+01, 1.09e+01, 6.69e+00]    []  \n",
      "11000     [8.68e+00, 1.98e+00, 1.40e+00, 1.79e+01, 2.28e-01, 1.76e+00, 3.29e+01, 1.50e+01, 4.51e+00]    [8.68e+00, 1.98e+00, 1.40e+00, 1.79e+01, 2.28e-01, 1.76e+00, 3.29e+01, 1.50e+01, 4.51e+00]    []  \n",
      "12000     [9.05e+00, 1.87e+00, 1.20e+00, 1.57e+01, 3.52e-01, 1.65e+00, 3.29e+01, 1.70e+01, 3.79e+00]    [9.05e+00, 1.87e+00, 1.20e+00, 1.57e+01, 3.52e-01, 1.65e+00, 3.29e+01, 1.70e+01, 3.79e+00]    []  \n",
      "13000     [9.01e+00, 1.84e+00, 1.13e+00, 1.45e+01, 3.90e-01, 1.56e+00, 3.28e+01, 1.83e+01, 3.42e+00]    [9.01e+00, 1.84e+00, 1.13e+00, 1.45e+01, 3.90e-01, 1.56e+00, 3.28e+01, 1.83e+01, 3.42e+00]    []  \n",
      "14000     [8.94e+00, 1.87e+00, 1.07e+00, 1.39e+01, 4.03e-01, 1.52e+00, 3.27e+01, 1.88e+01, 3.33e+00]    [8.94e+00, 1.87e+00, 1.07e+00, 1.39e+01, 4.03e-01, 1.52e+00, 3.27e+01, 1.88e+01, 3.33e+00]    []  \n",
      "15000     [8.87e+00, 1.88e+00, 1.04e+00, 1.36e+01, 4.10e-01, 1.51e+00, 3.26e+01, 1.91e+01, 3.20e+00]    [8.87e+00, 1.88e+00, 1.04e+00, 1.36e+01, 4.10e-01, 1.51e+00, 3.26e+01, 1.91e+01, 3.20e+00]    []  \n",
      "16000     [8.86e+00, 1.91e+00, 1.03e+00, 1.33e+01, 4.13e-01, 1.51e+00, 3.25e+01, 1.92e+01, 3.15e+00]    [8.86e+00, 1.91e+00, 1.03e+00, 1.33e+01, 4.13e-01, 1.51e+00, 3.25e+01, 1.92e+01, 3.15e+00]    []  \n",
      "17000     [8.83e+00, 1.93e+00, 1.06e+00, 1.31e+01, 4.22e-01, 1.50e+00, 3.25e+01, 1.92e+01, 3.08e+00]    [8.83e+00, 1.93e+00, 1.06e+00, 1.31e+01, 4.22e-01, 1.50e+00, 3.25e+01, 1.92e+01, 3.08e+00]    []  \n",
      "18000     [8.05e+00, 1.95e+00, 1.22e+00, 1.23e+01, 3.99e-01, 1.39e+00, 3.25e+01, 1.75e+01, 3.08e+00]    [8.05e+00, 1.95e+00, 1.22e+00, 1.23e+01, 3.99e-01, 1.39e+00, 3.25e+01, 1.75e+01, 3.08e+00]    []  \n",
      "19000     [5.95e+00, 1.70e+00, 9.24e-01, 1.04e+01, 3.72e-01, 1.15e+00, 3.24e+01, 1.44e+01, 2.88e+00]    [5.95e+00, 1.70e+00, 9.24e-01, 1.04e+01, 3.72e-01, 1.15e+00, 3.24e+01, 1.44e+01, 2.88e+00]    []  \n",
      "20000     [5.36e+00, 1.38e+00, 7.77e-01, 8.71e+00, 3.40e-01, 9.58e-01, 3.24e+01, 1.34e+01, 2.66e+00]    [5.36e+00, 1.38e+00, 7.77e-01, 8.71e+00, 3.40e-01, 9.58e-01, 3.24e+01, 1.34e+01, 2.66e+00]    []  \n",
      "21000     [4.94e+00, 1.27e+00, 8.18e-01, 7.68e+00, 3.02e-01, 8.37e-01, 3.23e+01, 1.22e+01, 2.58e+00]    [4.94e+00, 1.27e+00, 8.18e-01, 7.68e+00, 3.02e-01, 8.37e-01, 3.23e+01, 1.22e+01, 2.58e+00]    []  \n",
      "22000     [3.13e+00, 1.01e+00, 6.37e-01, 5.67e+00, 2.58e-01, 5.96e-01, 3.23e+01, 9.22e+00, 2.57e+00]    [3.13e+00, 1.01e+00, 6.37e-01, 5.67e+00, 2.58e-01, 5.96e-01, 3.23e+01, 9.22e+00, 2.57e+00]    []  \n",
      "23000     [2.33e+00, 8.21e-01, 5.19e-01, 4.31e+00, 2.11e-01, 4.44e-01, 3.23e+01, 7.65e+00, 2.54e+00]    [2.33e+00, 8.21e-01, 5.19e-01, 4.31e+00, 2.11e-01, 4.44e-01, 3.23e+01, 7.65e+00, 2.54e+00]    []  \n",
      "24000     [1.83e+00, 7.01e-01, 4.72e-01, 3.31e+00, 1.83e-01, 3.32e-01, 3.23e+01, 6.52e+00, 2.54e+00]    [1.83e+00, 7.01e-01, 4.72e-01, 3.31e+00, 1.83e-01, 3.32e-01, 3.23e+01, 6.52e+00, 2.54e+00]    []  \n",
      "25000     [3.86e-01, 4.38e-01, 2.19e-01, 9.01e-01, 6.76e-02, 1.86e-02, 3.27e+01, 2.84e+00, 2.88e+00]    [3.86e-01, 4.38e-01, 2.19e-01, 9.01e-01, 6.76e-02, 1.86e-02, 3.27e+01, 2.84e+00, 2.88e+00]    []  \n",
      "26000     [1.70e-01, 3.00e-01, 1.53e-01, 1.36e-01, 1.29e-02, 1.10e-05, 3.27e+01, 2.03e+00, 3.31e+00]    [1.70e-01, 3.00e-01, 1.53e-01, 1.36e-01, 1.29e-02, 1.10e-05, 3.27e+01, 2.03e+00, 3.31e+00]    []  \n",
      "27000     [1.82e-01, 2.85e-01, 1.64e-01, 2.25e-02, 3.85e-03, 3.18e-04, 3.27e+01, 1.96e+00, 3.31e+00]    [1.82e-01, 2.85e-01, 1.64e-01, 2.25e-02, 3.85e-03, 3.18e-04, 3.27e+01, 1.96e+00, 3.31e+00]    []  \n",
      "28000     [1.84e-01, 2.84e-01, 1.70e-01, 7.04e-03, 2.04e-03, 7.80e-04, 3.27e+01, 1.94e+00, 3.30e+00]    [1.84e-01, 2.84e-01, 1.70e-01, 7.04e-03, 2.04e-03, 7.80e-04, 3.27e+01, 1.94e+00, 3.30e+00]    []  \n",
      "29000     [1.81e-01, 2.77e-01, 1.71e-01, 5.19e-03, 1.69e-03, 8.38e-04, 3.26e+01, 1.93e+00, 3.30e+00]    [1.81e-01, 2.77e-01, 1.71e-01, 5.19e-03, 1.69e-03, 8.38e-04, 3.26e+01, 1.93e+00, 3.30e+00]    []  \n",
      "30000     [1.80e-01, 2.81e-01, 1.71e-01, 4.87e-03, 1.64e-03, 8.30e-04, 3.26e+01, 1.92e+00, 3.30e+00]    [1.80e-01, 2.81e-01, 1.71e-01, 4.87e-03, 1.64e-03, 8.30e-04, 3.26e+01, 1.92e+00, 3.30e+00]    []  \n",
      "31000     [1.80e-01, 2.68e-01, 1.72e-01, 4.71e-03, 1.71e-03, 7.94e-04, 3.26e+01, 1.90e+00, 3.30e+00]    [1.80e-01, 2.68e-01, 1.72e-01, 4.71e-03, 1.71e-03, 7.94e-04, 3.26e+01, 1.90e+00, 3.30e+00]    []  \n",
      "32000     [1.79e-01, 2.45e-01, 1.73e-01, 4.64e-03, 1.62e-03, 8.13e-04, 3.26e+01, 1.89e+00, 3.30e+00]    [1.79e-01, 2.45e-01, 1.73e-01, 4.64e-03, 1.62e-03, 8.13e-04, 3.26e+01, 1.89e+00, 3.30e+00]    []  \n",
      "33000     [1.79e-01, 2.60e-01, 1.73e-01, 4.60e-03, 1.69e-03, 7.97e-04, 3.26e+01, 1.87e+00, 3.30e+00]    [1.79e-01, 2.60e-01, 1.73e-01, 4.60e-03, 1.69e-03, 7.97e-04, 3.26e+01, 1.87e+00, 3.30e+00]    []  \n",
      "34000     [1.79e-01, 2.57e-01, 1.73e-01, 4.58e-03, 1.70e-03, 7.99e-04, 3.26e+01, 1.86e+00, 3.30e+00]    [1.79e-01, 2.57e-01, 1.73e-01, 4.58e-03, 1.70e-03, 7.99e-04, 3.26e+01, 1.86e+00, 3.30e+00]    []  \n",
      "35000     [1.80e-01, 2.53e-01, 1.74e-01, 4.58e-03, 1.73e-03, 7.97e-04, 3.26e+01, 1.84e+00, 3.30e+00]    [1.80e-01, 2.53e-01, 1.74e-01, 4.58e-03, 1.73e-03, 7.97e-04, 3.26e+01, 1.84e+00, 3.30e+00]    []  \n",
      "36000     [1.80e-01, 2.38e-01, 1.75e-01, 4.58e-03, 1.74e-03, 7.99e-04, 3.26e+01, 1.83e+00, 3.31e+00]    [1.80e-01, 2.38e-01, 1.75e-01, 4.58e-03, 1.74e-03, 7.99e-04, 3.26e+01, 1.83e+00, 3.31e+00]    []  \n",
      "37000     [1.81e-01, 2.52e-01, 1.74e-01, 4.60e-03, 1.75e-03, 7.99e-04, 3.25e+01, 1.82e+00, 3.31e+00]    [1.81e-01, 2.52e-01, 1.74e-01, 4.60e-03, 1.75e-03, 7.99e-04, 3.25e+01, 1.82e+00, 3.31e+00]    []  \n",
      "38000     [1.82e-01, 2.41e-01, 1.74e-01, 4.62e-03, 1.80e-03, 7.98e-04, 3.25e+01, 1.80e+00, 3.31e+00]    [1.82e-01, 2.41e-01, 1.74e-01, 4.62e-03, 1.80e-03, 7.98e-04, 3.25e+01, 1.80e+00, 3.31e+00]    []  \n",
      "39000     [1.83e-01, 2.42e-01, 1.75e-01, 4.63e-03, 1.83e-03, 7.96e-04, 3.25e+01, 1.79e+00, 3.31e+00]    [1.83e-01, 2.42e-01, 1.75e-01, 4.63e-03, 1.83e-03, 7.96e-04, 3.25e+01, 1.79e+00, 3.31e+00]    []  \n",
      "40000     [1.84e-01, 2.19e-01, 1.77e-01, 4.64e-03, 1.81e-03, 8.05e-04, 3.25e+01, 1.77e+00, 3.32e+00]    [1.84e-01, 2.19e-01, 1.77e-01, 4.64e-03, 1.81e-03, 8.05e-04, 3.25e+01, 1.77e+00, 3.32e+00]    []  \n",
      "41000     [1.85e-01, 2.33e-01, 1.76e-01, 4.66e-03, 1.87e-03, 7.98e-04, 3.25e+01, 1.76e+00, 3.32e+00]    [1.85e-01, 2.33e-01, 1.76e-01, 4.66e-03, 1.87e-03, 7.98e-04, 3.25e+01, 1.76e+00, 3.32e+00]    []  \n",
      "42000     [1.87e-01, 2.28e-01, 1.76e-01, 4.68e-03, 1.89e-03, 8.02e-04, 3.25e+01, 1.75e+00, 3.32e+00]    [1.87e-01, 2.28e-01, 1.76e-01, 4.68e-03, 1.89e-03, 8.02e-04, 3.25e+01, 1.75e+00, 3.32e+00]    []  \n",
      "43000     [1.88e-01, 2.26e-01, 1.77e-01, 4.69e-03, 1.93e-03, 7.99e-04, 3.25e+01, 1.74e+00, 3.32e+00]    [1.88e-01, 2.26e-01, 1.77e-01, 4.69e-03, 1.93e-03, 7.99e-04, 3.25e+01, 1.74e+00, 3.32e+00]    []  \n",
      "44000     [1.89e-01, 2.27e-01, 1.77e-01, 4.70e-03, 1.99e-03, 7.92e-04, 3.24e+01, 1.72e+00, 3.33e+00]    [1.89e-01, 2.27e-01, 1.77e-01, 4.70e-03, 1.99e-03, 7.92e-04, 3.24e+01, 1.72e+00, 3.33e+00]    []  \n",
      "45000     [1.90e-01, 2.16e-01, 1.78e-01, 4.72e-03, 1.96e-03, 8.04e-04, 3.24e+01, 1.71e+00, 3.33e+00]    [1.90e-01, 2.16e-01, 1.78e-01, 4.72e-03, 1.96e-03, 8.04e-04, 3.24e+01, 1.71e+00, 3.33e+00]    []  \n",
      "46000     [1.91e-01, 2.18e-01, 1.78e-01, 4.73e-03, 2.01e-03, 8.00e-04, 3.24e+01, 1.70e+00, 3.33e+00]    [1.91e-01, 2.18e-01, 1.78e-01, 4.73e-03, 2.01e-03, 8.00e-04, 3.24e+01, 1.70e+00, 3.33e+00]    []  \n",
      "47000     [1.92e-01, 2.22e-01, 1.78e-01, 4.75e-03, 2.06e-03, 7.97e-04, 3.24e+01, 1.69e+00, 3.33e+00]    [1.92e-01, 2.22e-01, 1.78e-01, 4.75e-03, 2.06e-03, 7.97e-04, 3.24e+01, 1.69e+00, 3.33e+00]    []  \n",
      "48000     [1.93e-01, 2.16e-01, 1.79e-01, 4.76e-03, 2.07e-03, 8.01e-04, 3.24e+01, 1.68e+00, 3.33e+00]    [1.93e-01, 2.16e-01, 1.79e-01, 4.76e-03, 2.07e-03, 8.01e-04, 3.24e+01, 1.68e+00, 3.33e+00]    []  \n",
      "49000     [1.94e-01, 2.07e-01, 1.80e-01, 4.78e-03, 2.09e-03, 8.02e-04, 3.24e+01, 1.67e+00, 3.34e+00]    [1.94e-01, 2.07e-01, 1.80e-01, 4.78e-03, 2.09e-03, 8.02e-04, 3.24e+01, 1.67e+00, 3.34e+00]    []  \n",
      "50000     [1.95e-01, 2.07e-01, 1.80e-01, 4.79e-03, 2.11e-03, 8.04e-04, 3.24e+01, 1.66e+00, 3.34e+00]    [1.95e-01, 2.07e-01, 1.80e-01, 4.79e-03, 2.11e-03, 8.04e-04, 3.24e+01, 1.66e+00, 3.34e+00]    []  \n",
      "51000     [1.96e-01, 2.04e-01, 1.81e-01, 4.80e-03, 2.17e-03, 7.98e-04, 3.24e+01, 1.65e+00, 3.34e+00]    [1.96e-01, 2.04e-01, 1.81e-01, 4.80e-03, 2.17e-03, 7.98e-04, 3.24e+01, 1.65e+00, 3.34e+00]    []  \n",
      "52000     [1.97e-01, 2.01e-01, 1.81e-01, 4.82e-03, 2.17e-03, 8.03e-04, 3.23e+01, 1.64e+00, 3.34e+00]    [1.97e-01, 2.01e-01, 1.81e-01, 4.82e-03, 2.17e-03, 8.03e-04, 3.23e+01, 1.64e+00, 3.34e+00]    []  \n",
      "53000     [1.98e-01, 1.92e-01, 1.82e-01, 4.83e-03, 2.18e-03, 8.06e-04, 3.23e+01, 1.63e+00, 3.34e+00]    [1.98e-01, 1.92e-01, 1.82e-01, 4.83e-03, 2.18e-03, 8.06e-04, 3.23e+01, 1.63e+00, 3.34e+00]    []  \n",
      "54000     [1.98e-01, 1.95e-01, 1.82e-01, 4.85e-03, 2.24e-03, 8.02e-04, 3.23e+01, 1.62e+00, 3.34e+00]    [1.98e-01, 1.95e-01, 1.82e-01, 4.85e-03, 2.24e-03, 8.02e-04, 3.23e+01, 1.62e+00, 3.34e+00]    []  \n",
      "55000     [1.99e-01, 1.83e-01, 1.84e-01, 4.86e-03, 2.22e-03, 8.05e-04, 3.23e+01, 1.61e+00, 3.35e+00]    [1.99e-01, 1.83e-01, 1.84e-01, 4.86e-03, 2.22e-03, 8.05e-04, 3.23e+01, 1.61e+00, 3.35e+00]    []  \n",
      "56000     [2.00e-01, 1.76e-01, 1.85e-01, 4.88e-03, 2.23e-03, 8.08e-04, 3.23e+01, 1.60e+00, 3.35e+00]    [2.00e-01, 1.76e-01, 1.85e-01, 4.88e-03, 2.23e-03, 8.08e-04, 3.23e+01, 1.60e+00, 3.35e+00]    []  \n",
      "57000     [2.01e-01, 2.11e-01, 1.82e-01, 4.90e-03, 2.42e-03, 7.95e-04, 3.23e+01, 1.59e+00, 3.35e+00]    [2.01e-01, 2.11e-01, 1.82e-01, 4.90e-03, 2.42e-03, 7.95e-04, 3.23e+01, 1.59e+00, 3.35e+00]    []  \n",
      "58000     [2.02e-01, 1.86e-01, 1.85e-01, 4.92e-03, 2.33e-03, 8.06e-04, 3.23e+01, 1.58e+00, 3.35e+00]    [2.02e-01, 1.86e-01, 1.85e-01, 4.92e-03, 2.33e-03, 8.06e-04, 3.23e+01, 1.58e+00, 3.35e+00]    []  \n",
      "59000     [2.03e-01, 1.87e-01, 1.85e-01, 4.94e-03, 2.35e-03, 8.10e-04, 3.23e+01, 1.57e+00, 3.35e+00]    [2.03e-01, 1.87e-01, 1.85e-01, 4.94e-03, 2.35e-03, 8.10e-04, 3.23e+01, 1.57e+00, 3.35e+00]    []  \n",
      "60000     [2.03e-01, 1.90e-01, 1.85e-01, 4.96e-03, 2.40e-03, 8.06e-04, 3.22e+01, 1.56e+00, 3.35e+00]    [2.03e-01, 1.90e-01, 1.85e-01, 4.96e-03, 2.40e-03, 8.06e-04, 3.22e+01, 1.56e+00, 3.35e+00]    []  \n",
      "61000     [2.04e-01, 1.78e-01, 1.86e-01, 4.98e-03, 2.42e-03, 8.07e-04, 3.22e+01, 1.55e+00, 3.36e+00]    [2.04e-01, 1.78e-01, 1.86e-01, 4.98e-03, 2.42e-03, 8.07e-04, 3.22e+01, 1.55e+00, 3.36e+00]    []  \n",
      "62000     [2.05e-01, 1.79e-01, 1.86e-01, 5.00e-03, 2.48e-03, 8.04e-04, 3.22e+01, 1.54e+00, 3.36e+00]    [2.05e-01, 1.79e-01, 1.86e-01, 5.00e-03, 2.48e-03, 8.04e-04, 3.22e+01, 1.54e+00, 3.36e+00]    []  \n",
      "63000     [2.05e-01, 1.76e-01, 1.87e-01, 5.01e-03, 2.49e-03, 8.06e-04, 3.22e+01, 1.54e+00, 3.36e+00]    [2.05e-01, 1.76e-01, 1.87e-01, 5.01e-03, 2.49e-03, 8.06e-04, 3.22e+01, 1.54e+00, 3.36e+00]    []  \n",
      "64000     [2.06e-01, 1.86e-01, 1.86e-01, 5.03e-03, 2.59e-03, 7.96e-04, 3.22e+01, 1.53e+00, 3.36e+00]    [2.06e-01, 1.86e-01, 1.86e-01, 5.03e-03, 2.59e-03, 7.96e-04, 3.22e+01, 1.53e+00, 3.36e+00]    []  \n",
      "65000     [2.07e-01, 1.76e-01, 1.87e-01, 5.06e-03, 2.56e-03, 8.06e-04, 3.22e+01, 1.52e+00, 3.36e+00]    [2.07e-01, 1.76e-01, 1.87e-01, 5.06e-03, 2.56e-03, 8.06e-04, 3.22e+01, 1.52e+00, 3.36e+00]    []  \n",
      "66000     [2.08e-01, 1.57e-01, 1.89e-01, 5.07e-03, 2.54e-03, 8.12e-04, 3.22e+01, 1.51e+00, 3.36e+00]    [2.08e-01, 1.57e-01, 1.89e-01, 5.07e-03, 2.54e-03, 8.12e-04, 3.22e+01, 1.51e+00, 3.36e+00]    []  \n",
      "67000     [2.08e-01, 1.67e-01, 1.88e-01, 5.09e-03, 2.61e-03, 8.09e-04, 3.22e+01, 1.50e+00, 3.36e+00]    [2.08e-01, 1.67e-01, 1.88e-01, 5.09e-03, 2.61e-03, 8.09e-04, 3.22e+01, 1.50e+00, 3.36e+00]    []  \n",
      "68000     [2.09e-01, 1.66e-01, 1.89e-01, 5.11e-03, 2.65e-03, 8.09e-04, 3.21e+01, 1.50e+00, 3.37e+00]    [2.09e-01, 1.66e-01, 1.89e-01, 5.11e-03, 2.65e-03, 8.09e-04, 3.21e+01, 1.50e+00, 3.37e+00]    []  \n",
      "69000     [2.10e-01, 1.48e-01, 1.91e-01, 5.12e-03, 2.65e-03, 8.09e-04, 3.21e+01, 1.49e+00, 3.37e+00]    [2.10e-01, 1.48e-01, 1.91e-01, 5.12e-03, 2.65e-03, 8.09e-04, 3.21e+01, 1.49e+00, 3.37e+00]    []  \n",
      "70000     [2.11e-01, 1.56e-01, 1.90e-01, 5.15e-03, 2.67e-03, 8.13e-04, 3.21e+01, 1.48e+00, 3.37e+00]    [2.11e-01, 1.56e-01, 1.90e-01, 5.15e-03, 2.67e-03, 8.13e-04, 3.21e+01, 1.48e+00, 3.37e+00]    []  \n",
      "71000     [2.11e-01, 1.72e-01, 1.89e-01, 5.17e-03, 2.80e-03, 8.05e-04, 3.21e+01, 1.47e+00, 3.37e+00]    [2.11e-01, 1.72e-01, 1.89e-01, 5.17e-03, 2.80e-03, 8.05e-04, 3.21e+01, 1.47e+00, 3.37e+00]    []  \n",
      "72000     [2.12e-01, 1.51e-01, 1.91e-01, 5.19e-03, 2.77e-03, 8.11e-04, 3.21e+01, 1.47e+00, 3.37e+00]    [2.12e-01, 1.51e-01, 1.91e-01, 5.19e-03, 2.77e-03, 8.11e-04, 3.21e+01, 1.47e+00, 3.37e+00]    []  \n",
      "73000     [2.13e-01, 1.59e-01, 1.90e-01, 5.21e-03, 2.81e-03, 8.09e-04, 3.21e+01, 1.46e+00, 3.37e+00]    [2.13e-01, 1.59e-01, 1.90e-01, 5.21e-03, 2.81e-03, 8.09e-04, 3.21e+01, 1.46e+00, 3.37e+00]    []  \n",
      "74000     [2.13e-01, 1.60e-01, 1.90e-01, 5.23e-03, 2.86e-03, 8.10e-04, 3.21e+01, 1.45e+00, 3.37e+00]    [2.13e-01, 1.60e-01, 1.90e-01, 5.23e-03, 2.86e-03, 8.10e-04, 3.21e+01, 1.45e+00, 3.37e+00]    []  \n",
      "75000     [2.14e-01, 1.48e-01, 1.92e-01, 5.25e-03, 2.86e-03, 8.11e-04, 3.21e+01, 1.44e+00, 3.38e+00]    [2.14e-01, 1.48e-01, 1.92e-01, 5.25e-03, 2.86e-03, 8.11e-04, 3.21e+01, 1.44e+00, 3.38e+00]    []  \n",
      "76000     [2.15e-01, 1.61e-01, 1.90e-01, 5.27e-03, 2.94e-03, 8.11e-04, 3.20e+01, 1.44e+00, 3.38e+00]    [2.15e-01, 1.61e-01, 1.90e-01, 5.27e-03, 2.94e-03, 8.11e-04, 3.20e+01, 1.44e+00, 3.38e+00]    []  \n",
      "77000     [2.16e-01, 1.50e-01, 1.92e-01, 5.29e-03, 2.96e-03, 8.10e-04, 3.20e+01, 1.43e+00, 3.38e+00]    [2.16e-01, 1.50e-01, 1.92e-01, 5.29e-03, 2.96e-03, 8.10e-04, 3.20e+01, 1.43e+00, 3.38e+00]    []  \n",
      "78000     [2.16e-01, 1.44e-01, 1.92e-01, 5.31e-03, 2.95e-03, 8.13e-04, 3.20e+01, 1.42e+00, 3.38e+00]    [2.16e-01, 1.44e-01, 1.92e-01, 5.31e-03, 2.95e-03, 8.13e-04, 3.20e+01, 1.42e+00, 3.38e+00]    []  \n",
      "79000     [2.17e-01, 1.29e-01, 1.94e-01, 5.33e-03, 2.92e-03, 8.19e-04, 3.20e+01, 1.42e+00, 3.38e+00]    [2.17e-01, 1.29e-01, 1.94e-01, 5.33e-03, 2.92e-03, 8.19e-04, 3.20e+01, 1.42e+00, 3.38e+00]    []  \n",
      "80000     [2.18e-01, 1.44e-01, 1.93e-01, 5.35e-03, 3.04e-03, 8.13e-04, 3.20e+01, 1.41e+00, 3.38e+00]    [2.18e-01, 1.44e-01, 1.93e-01, 5.35e-03, 3.04e-03, 8.13e-04, 3.20e+01, 1.41e+00, 3.38e+00]    []  \n",
      "81000     [2.18e-01, 1.38e-01, 1.94e-01, 5.38e-03, 3.05e-03, 8.14e-04, 3.20e+01, 1.40e+00, 3.38e+00]    [2.18e-01, 1.38e-01, 1.94e-01, 5.38e-03, 3.05e-03, 8.14e-04, 3.20e+01, 1.40e+00, 3.38e+00]    []  \n",
      "82000     [2.20e-01, 1.41e-01, 1.94e-01, 5.40e-03, 3.20e-03, 8.00e-04, 3.20e+01, 1.40e+00, 3.39e+00]    [2.20e-01, 1.41e-01, 1.94e-01, 5.40e-03, 3.20e-03, 8.00e-04, 3.20e+01, 1.40e+00, 3.39e+00]    []  \n",
      "83000     [2.20e-01, 1.38e-01, 1.94e-01, 5.42e-03, 3.13e-03, 8.14e-04, 3.20e+01, 1.39e+00, 3.39e+00]    [2.20e-01, 1.38e-01, 1.94e-01, 5.42e-03, 3.13e-03, 8.14e-04, 3.20e+01, 1.39e+00, 3.39e+00]    []  \n",
      "84000     [2.20e-01, 1.40e-01, 1.94e-01, 5.44e-03, 3.16e-03, 8.21e-04, 3.20e+01, 1.38e+00, 3.39e+00]    [2.20e-01, 1.40e-01, 1.94e-01, 5.44e-03, 3.16e-03, 8.21e-04, 3.20e+01, 1.38e+00, 3.39e+00]    []  \n",
      "85000     [2.21e-01, 1.34e-01, 1.95e-01, 5.47e-03, 3.19e-03, 8.18e-04, 3.20e+01, 1.38e+00, 3.39e+00]    [2.21e-01, 1.34e-01, 1.95e-01, 5.47e-03, 3.19e-03, 8.18e-04, 3.20e+01, 1.38e+00, 3.39e+00]    []  \n",
      "86000     [2.22e-01, 1.37e-01, 1.95e-01, 5.49e-03, 3.15e-03, 8.33e-04, 3.19e+01, 1.37e+00, 3.39e+00]    [2.22e-01, 1.37e-01, 1.95e-01, 5.49e-03, 3.15e-03, 8.33e-04, 3.19e+01, 1.37e+00, 3.39e+00]    []  \n",
      "87000     [2.22e-01, 1.37e-01, 1.94e-01, 5.51e-03, 3.28e-03, 8.17e-04, 3.19e+01, 1.37e+00, 3.39e+00]    [2.22e-01, 1.37e-01, 1.94e-01, 5.51e-03, 3.28e-03, 8.17e-04, 3.19e+01, 1.37e+00, 3.39e+00]    []  \n",
      "88000     [2.23e-01, 1.35e-01, 1.95e-01, 5.53e-03, 3.33e-03, 8.15e-04, 3.19e+01, 1.36e+00, 3.39e+00]    [2.23e-01, 1.35e-01, 1.95e-01, 5.53e-03, 3.33e-03, 8.15e-04, 3.19e+01, 1.36e+00, 3.39e+00]    []  \n",
      "89000     [2.24e-01, 1.30e-01, 1.96e-01, 5.55e-03, 3.32e-03, 8.20e-04, 3.19e+01, 1.35e+00, 3.39e+00]    [2.24e-01, 1.30e-01, 1.96e-01, 5.55e-03, 3.32e-03, 8.20e-04, 3.19e+01, 1.35e+00, 3.39e+00]    []  \n",
      "90000     [2.24e-01, 1.26e-01, 1.96e-01, 5.58e-03, 3.37e-03, 8.19e-04, 3.19e+01, 1.35e+00, 3.39e+00]    [2.24e-01, 1.26e-01, 1.96e-01, 5.58e-03, 3.37e-03, 8.19e-04, 3.19e+01, 1.35e+00, 3.39e+00]    []  \n",
      "91000     [2.25e-01, 1.27e-01, 1.96e-01, 5.60e-03, 3.45e-03, 8.13e-04, 3.19e+01, 1.34e+00, 3.40e+00]    [2.25e-01, 1.27e-01, 1.96e-01, 5.60e-03, 3.45e-03, 8.13e-04, 3.19e+01, 1.34e+00, 3.40e+00]    []  \n",
      "92000     [2.26e-01, 1.26e-01, 1.96e-01, 5.62e-03, 3.43e-03, 8.20e-04, 3.19e+01, 1.34e+00, 3.40e+00]    [2.26e-01, 1.26e-01, 1.96e-01, 5.62e-03, 3.43e-03, 8.20e-04, 3.19e+01, 1.34e+00, 3.40e+00]    []  \n",
      "93000     [2.26e-01, 1.24e-01, 1.97e-01, 5.64e-03, 3.48e-03, 8.20e-04, 3.19e+01, 1.33e+00, 3.40e+00]    [2.26e-01, 1.24e-01, 1.97e-01, 5.64e-03, 3.48e-03, 8.20e-04, 3.19e+01, 1.33e+00, 3.40e+00]    []  \n",
      "94000     [2.27e-01, 1.25e-01, 1.97e-01, 5.67e-03, 3.53e-03, 8.20e-04, 3.19e+01, 1.32e+00, 3.40e+00]    [2.27e-01, 1.25e-01, 1.97e-01, 5.67e-03, 3.53e-03, 8.20e-04, 3.19e+01, 1.32e+00, 3.40e+00]    []  \n",
      "95000     [2.27e-01, 1.26e-01, 1.97e-01, 5.69e-03, 3.55e-03, 8.24e-04, 3.19e+01, 1.32e+00, 3.40e+00]    [2.27e-01, 1.26e-01, 1.97e-01, 5.69e-03, 3.55e-03, 8.24e-04, 3.19e+01, 1.32e+00, 3.40e+00]    []  \n",
      "96000     [2.28e-01, 1.22e-01, 1.97e-01, 5.72e-03, 3.60e-03, 8.21e-04, 3.18e+01, 1.31e+00, 3.40e+00]    [2.28e-01, 1.22e-01, 1.97e-01, 5.72e-03, 3.60e-03, 8.21e-04, 3.18e+01, 1.31e+00, 3.40e+00]    []  \n",
      "97000     [2.29e-01, 1.19e-01, 1.98e-01, 5.75e-03, 3.61e-03, 8.28e-04, 3.18e+01, 1.31e+00, 3.40e+00]    [2.29e-01, 1.19e-01, 1.98e-01, 5.75e-03, 3.61e-03, 8.28e-04, 3.18e+01, 1.31e+00, 3.40e+00]    []  \n",
      "98000     [2.29e-01, 1.19e-01, 1.98e-01, 5.77e-03, 3.67e-03, 8.23e-04, 3.18e+01, 1.30e+00, 3.40e+00]    [2.29e-01, 1.19e-01, 1.98e-01, 5.77e-03, 3.67e-03, 8.23e-04, 3.18e+01, 1.30e+00, 3.40e+00]    []  \n",
      "99000     [2.30e-01, 1.24e-01, 1.97e-01, 5.79e-03, 3.81e-03, 8.12e-04, 3.18e+01, 1.30e+00, 3.40e+00]    [2.30e-01, 1.24e-01, 1.97e-01, 5.79e-03, 3.81e-03, 8.12e-04, 3.18e+01, 1.30e+00, 3.40e+00]    []  \n",
      "100000    [2.31e-01, 1.16e-01, 1.98e-01, 5.81e-03, 3.78e-03, 8.19e-04, 3.18e+01, 1.29e+00, 3.41e+00]    [2.31e-01, 1.16e-01, 1.98e-01, 5.81e-03, 3.78e-03, 8.19e-04, 3.18e+01, 1.29e+00, 3.41e+00]    []  \n",
      "\n",
      "Best model at step 100000:\n",
      "  train loss: 3.71e+01\n",
      "  test loss: 3.71e+01\n",
      "  test metric: []\n",
      "\n",
      "'train' took 129.293556 s\n",
      "\n"
     ]
    }
   ],
   "source": [
    "# We then train the model for 60000 iterations:\n",
    "\n",
    "losshistory, train_state = model.train(iterations=100000, callbacks=[variable])"
   ]
  },
  {
   "cell_type": "code",
   "execution_count": null,
   "metadata": {},
   "outputs": [],
   "source": []
  }
 ],
 "metadata": {
  "colab": {
   "provenance": []
  },
  "kernelspec": {
   "display_name": "Python 3 (ipykernel)",
   "language": "python",
   "name": "python3"
  },
  "language_info": {
   "codemirror_mode": {
    "name": "ipython",
    "version": 3
   },
   "file_extension": ".py",
   "mimetype": "text/x-python",
   "name": "python",
   "nbconvert_exporter": "python",
   "pygments_lexer": "ipython3",
   "version": "3.11.3"
  }
 },
 "nbformat": 4,
 "nbformat_minor": 4
}
