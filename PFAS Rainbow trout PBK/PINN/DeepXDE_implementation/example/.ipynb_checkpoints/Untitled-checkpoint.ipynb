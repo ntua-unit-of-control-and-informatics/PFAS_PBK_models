{
 "cells": [
  {
   "cell_type": "code",
   "execution_count": 48,
   "id": "e60c1260-3400-4fd7-9cb9-dcb9017be856",
   "metadata": {
    "tags": []
   },
   "outputs": [],
   "source": [
    "import tensorflow as tf\n",
    "import tensorflow_probability as tfp"
   ]
  },
  {
   "cell_type": "code",
   "execution_count": 100,
   "id": "0f3845cd-3625-40c0-a2e2-b96f201286fb",
   "metadata": {
    "tags": []
   },
   "outputs": [],
   "source": [
    "def fish_weight(time):\n",
    "    x = tf.constant([0, 28 * 24, 56 * 24], dtype=tf.float32)\n",
    "    y = tf.constant([314, 655, 808], dtype=tf.float32)\n",
    "\n",
    "    w = []\n",
    "\n",
    "    for time_i in tf.unstack(time):\n",
    "        tf.cast(time_i, 'int32')\n",
    "        condition_1 = tf.math.less_equal(time_i, tf.cast(x[0], 'int32'))\n",
    "        condition_2 = tf.math.greater_equal(time_i, tf.cast(x[2], 'int32'))\n",
    "        condition_3 = tf.math.logical_and(tf.math.greater_equal(time_i, tf.cast(x[0], 'int32')), tf.math.less(time_i, tf.cast(x[1], 'int32')))\n",
    "        condition_4 = tf.math.logical_and(tf.math.greater_equal(time_i, tf.cast(x[1], 'int32')), tf.math.less(time_i, tf.cast(x[2], 'int32')))\n",
    "\n",
    "        w.append(tf.cond(condition_1, lambda: y[0],\n",
    "                         lambda: tf.cond(condition_2, lambda: y[2],\n",
    "                                         lambda: tf.cond(condition_3,\n",
    "                                                         lambda: tfp.math.interp_regular_1d_grid(tf.cast(time_i, 'float32'), tf.cast(x[0], 'float32'), \n",
    "                                                                 tf.cast(x[1], 'float32'), tf.cast(y[0:2], 'float32')),\n",
    "                                                         lambda: tfp.math.interp_regular_1d_grid(tf.cast(time_i, 'float32'), tf.cast(x[1], 'float32'), \n",
    "                                                                    tf.cast(x[2], 'float32'), tf.cast(y[1:3], 'float32')) ))) )\n",
    "\n",
    "    return tf.stack(w)"
   ]
  },
  {
   "cell_type": "code",
   "execution_count": 101,
   "id": "e0541638-0b82-474f-8348-eaddf80201af",
   "metadata": {
    "tags": []
   },
   "outputs": [
    {
     "data": {
      "text/plain": [
       "<tf.Tensor: shape=(3,), dtype=float32, numpy=array([314.50745, 316.5372 , 319.0744 ], dtype=float32)>"
      ]
     },
     "execution_count": 101,
     "metadata": {},
     "output_type": "execute_result"
    }
   ],
   "source": [
    "time = tf.constant([1,5,10])\n",
    "fish_weight(time)"
   ]
  },
  {
   "cell_type": "code",
   "execution_count": 83,
   "id": "92a0d07b-1cbd-4ce8-bfc2-d5f99c8af4d4",
   "metadata": {
    "tags": []
   },
   "outputs": [
    {
     "data": {
      "text/plain": [
       "<tf.Tensor: shape=(), dtype=float32, numpy=314.50745>"
      ]
     },
     "execution_count": 83,
     "metadata": {},
     "output_type": "execute_result"
    }
   ],
   "source": [
    "time = tf.constant([1,5,10])\n",
    "\n",
    "time_i = tf.unstack(time)[0] # equal to 1\n",
    "\n",
    "condition_1 = tf.math.less_equal(time_i, x[0])\n",
    "condition_2 = tf.math.greater_equal(time_i, x[2])\n",
    "condition_3 = tf.math.logical_and(tf.math.greater_equal(time_i, x[0]), tf.math.less(time_i, x[1]))\n",
    "condition_4 = tf.math.logical_and(tf.math.greater_equal(time_i, x[1]), tf.math.less(time_i, x[2]))\n",
    "\n",
    "tf.cond(condition_1, lambda: y[0],\n",
    "                         lambda: tf.cond(condition_2, lambda: y[2],\n",
    "                                         lambda: tf.cond(condition_3,\n",
    "                                                         lambda: tfp.math.interp_regular_1d_grid(tf.cast(time_i, 'float32'), tf.cast(x[0], 'float32'), \n",
    "                                                                 tf.cast(x[1], 'float32'), tf.cast(y[0:2], 'float32')),\n",
    "                                                         lambda: tfp.math.interp_regular_1d_grid(tf.cast(time_i, 'float32'), tf.cast(x[1], 'float32'), \n",
    "                                                                    tf.cast(x[2], 'float32'), tf.cast(y[1:3], 'float32')) )))\n",
    "\n",
    " "
   ]
  },
  {
   "cell_type": "code",
   "execution_count": 85,
   "id": "50e71f25-ad4f-4a6c-b7f5-b2abd752eb6e",
   "metadata": {
    "tags": []
   },
   "outputs": [
    {
     "data": {
      "text/plain": [
       "<tf.Tensor: shape=(2,), dtype=int32, numpy=array([655, 808], dtype=int32)>"
      ]
     },
     "execution_count": 85,
     "metadata": {},
     "output_type": "execute_result"
    }
   ],
   "source": [
    "y[1:3]"
   ]
  },
  {
   "cell_type": "code",
   "execution_count": 36,
   "id": "d2b48f55-f667-4405-853c-e90e5bbad9a0",
   "metadata": {
    "tags": []
   },
   "outputs": [
    {
     "ename": "AttributeError",
     "evalue": "module 'tensorflow' has no attribute 'placeholder'",
     "output_type": "error",
     "traceback": [
      "\u001b[0;31m---------------------------------------------------------------------------\u001b[0m",
      "\u001b[0;31mAttributeError\u001b[0m                            Traceback (most recent call last)",
      "Cell \u001b[0;32mIn[36], line 2\u001b[0m\n\u001b[1;32m      1\u001b[0m \u001b[38;5;66;03m# Create a TensorFlow symbolic tensor for 'time'\u001b[39;00m\n\u001b[0;32m----> 2\u001b[0m time \u001b[38;5;241m=\u001b[39m tf\u001b[38;5;241m.\u001b[39mplaceholder(dtype\u001b[38;5;241m=\u001b[39mtf\u001b[38;5;241m.\u001b[39mfloat32, shape\u001b[38;5;241m=\u001b[39m(\u001b[38;5;28;01mNone\u001b[39;00m,))\n\u001b[1;32m      4\u001b[0m \u001b[38;5;66;03m# Call the fish_weight function with the symbolic tensor as input\u001b[39;00m\n\u001b[1;32m      5\u001b[0m fish_weights \u001b[38;5;241m=\u001b[39m fish_weight(time)\n",
      "\u001b[0;31mAttributeError\u001b[0m: module 'tensorflow' has no attribute 'placeholder'"
     ]
    }
   ],
   "source": [
    "# Create a TensorFlow symbolic tensor for 'time'\n",
    "time = tf.placeholder(dtype=tf.float32, shape=(None,))\n",
    "\n",
    "# Call the fish_weight function with the symbolic tensor as input\n",
    "fish_weights = fish_weight(time)\n",
    "\n",
    "# Create a TensorFlow session\n",
    "with tf.Session() as sess:\n",
    "    # Define a sample input for 'time' as a list of symbolic values\n",
    "    time_values = [10.0, 30.0, 50.0]\n",
    "\n",
    "    # Evaluate the fish_weights tensor by feeding the sample input\n",
    "    result = sess.run(fish_weights, feed_dict={time: time_values})\n",
    "\n",
    "    print(\"Fish Weights:\", result)"
   ]
  },
  {
   "cell_type": "code",
   "execution_count": 68,
   "id": "76630ca7-03af-497c-83da-c760109eba0e",
   "metadata": {
    "tags": []
   },
   "outputs": [
    {
     "ename": "TypeError",
     "evalue": "interp_regular_1d_grid() missing 1 required positional argument: 'y_ref'",
     "output_type": "error",
     "traceback": [
      "\u001b[0;31m---------------------------------------------------------------------------\u001b[0m",
      "\u001b[0;31mTypeError\u001b[0m                                 Traceback (most recent call last)",
      "Cell \u001b[0;32mIn[68], line 13\u001b[0m\n\u001b[1;32m     10\u001b[0m grid_y \u001b[38;5;241m=\u001b[39m y_points\n\u001b[1;32m     12\u001b[0m \u001b[38;5;66;03m# Use tfp.math.interp_regular_1d_grid to interpolate y for x=2\u001b[39;00m\n\u001b[0;32m---> 13\u001b[0m interpolated_y \u001b[38;5;241m=\u001b[39m tfp\u001b[38;5;241m.\u001b[39mmath\u001b[38;5;241m.\u001b[39minterp_regular_1d_grid(\n\u001b[1;32m     14\u001b[0m     query_x, grid_x, grid_y, fill_value\u001b[38;5;241m=\u001b[39m\u001b[38;5;28;01mNone\u001b[39;00m)\n",
      "\u001b[0;31mTypeError\u001b[0m: interp_regular_1d_grid() missing 1 required positional argument: 'y_ref'"
     ]
    }
   ],
   "source": [
    "# Define the input points (x, y)\n",
    "x_points = tf.constant([1.0, 3.0], dtype=tf.float32)\n",
    "y_points = tf.constant([1.0, 3.0], dtype=tf.float32)\n",
    "\n",
    "# Define the query point x=2\n",
    "query_x = tf.constant([2.0], dtype=tf.float32)\n",
    "\n",
    "# Create a reference grid for y based on the known x points\n",
    "grid_x = tf.linspace(tf.reduce_min(x_points), tf.reduce_max(x_points), tf.shape(x_points)[0])\n",
    "grid_y = y_points\n",
    "\n",
    "# Use tfp.math.interp_regular_1d_grid to interpolate y for x=2\n",
    "interpolated_y = tfp.math.interp_regular_1d_grid(\n",
    "    query_x, grid_x, grid_y, fill_value=None)"
   ]
  },
  {
   "cell_type": "code",
   "execution_count": 70,
   "id": "3ecf8af7-8b2c-4f42-bee8-cfcc080af3e5",
   "metadata": {
    "tags": []
   },
   "outputs": [
    {
     "data": {
      "text/plain": [
       "<tf.Tensor: shape=(1,), dtype=float32, numpy=array([2.5], dtype=float32)>"
      ]
     },
     "execution_count": 70,
     "metadata": {},
     "output_type": "execute_result"
    }
   ],
   "source": [
    "tfp.math.interp_regular_1d_grid([5], 0, 10, [0,5])"
   ]
  }
 ],
 "metadata": {
  "kernelspec": {
   "display_name": "Python 3 (ipykernel)",
   "language": "python",
   "name": "python3"
  },
  "language_info": {
   "codemirror_mode": {
    "name": "ipython",
    "version": 3
   },
   "file_extension": ".py",
   "mimetype": "text/x-python",
   "name": "python",
   "nbconvert_exporter": "python",
   "pygments_lexer": "ipython3",
   "version": "3.11.3"
  }
 },
 "nbformat": 4,
 "nbformat_minor": 5
}
