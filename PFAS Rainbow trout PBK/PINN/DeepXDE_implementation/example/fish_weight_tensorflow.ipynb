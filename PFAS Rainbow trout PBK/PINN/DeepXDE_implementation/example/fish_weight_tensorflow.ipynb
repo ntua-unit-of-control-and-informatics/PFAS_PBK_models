{
 "cells": [
  {
   "cell_type": "code",
   "execution_count": 14,
   "id": "9450a0a7-e139-4e35-9083-0c5c58cbcf08",
   "metadata": {
    "tags": []
   },
   "outputs": [],
   "source": [
    "def fish_weight(time):\n",
    "    x = tf.constant([0, 28 * 24, 56 * 24])\n",
    "    y = tf.constant([314, 655, 808])\n",
    "\n",
    "    w = []\n",
    "    for time_i in time:\n",
    "        if time_i <= x[0]:\n",
    "            w.append(y[0])\n",
    "        elif time_i >= x[2]:\n",
    "            w.append(y[2])\n",
    "        elif time_i >= x[0] and time_i < x[1]:\n",
    "            w.append(tf.math.interp(time_i, x[0:2], y[0:2]))\n",
    "        elif time_i >= x[1] and time_i < x[2]:\n",
    "            w.append(tf.math.interp(time_i, x[1:3], y[1:3]))\n",
    "\n",
    "    return tf.convert_to_tensor(w, dtype=tf.float32)"
   ]
  },
  {
   "cell_type": "code",
   "execution_count": 15,
   "id": "fc887580-aa26-4f2f-ac27-3897d7587759",
   "metadata": {
    "tags": []
   },
   "outputs": [
    {
     "ename": "InvalidArgumentError",
     "evalue": "cannot compute LessEqual as input #1(zero-based) was expected to be a int16 tensor but is a float tensor [Op:LessEqual]",
     "output_type": "error",
     "traceback": [
      "\u001b[0;31m---------------------------------------------------------------------------\u001b[0m",
      "\u001b[0;31mInvalidArgumentError\u001b[0m                      Traceback (most recent call last)",
      "Cell \u001b[0;32mIn[15], line 3\u001b[0m\n\u001b[1;32m      1\u001b[0m times \u001b[38;5;241m=\u001b[39m tf\u001b[38;5;241m.\u001b[39mconstant(\u001b[38;5;241m1\u001b[39m,\u001b[38;5;241m5\u001b[39m,\u001b[38;5;241m10\u001b[39m,\u001b[38;5;241m100\u001b[39m)\n\u001b[0;32m----> 3\u001b[0m fish_weight(times)\n",
      "Cell \u001b[0;32mIn[14], line 7\u001b[0m, in \u001b[0;36mfish_weight\u001b[0;34m(time)\u001b[0m\n\u001b[1;32m      5\u001b[0m w \u001b[38;5;241m=\u001b[39m []\n\u001b[1;32m      6\u001b[0m \u001b[38;5;28;01mfor\u001b[39;00m time_i \u001b[38;5;129;01min\u001b[39;00m time:\n\u001b[0;32m----> 7\u001b[0m     \u001b[38;5;28;01mif\u001b[39;00m time_i \u001b[38;5;241m<\u001b[39m\u001b[38;5;241m=\u001b[39m x[\u001b[38;5;241m0\u001b[39m]:\n\u001b[1;32m      8\u001b[0m         w\u001b[38;5;241m.\u001b[39mappend(y[\u001b[38;5;241m0\u001b[39m])\n\u001b[1;32m      9\u001b[0m     \u001b[38;5;28;01melif\u001b[39;00m time_i \u001b[38;5;241m>\u001b[39m\u001b[38;5;241m=\u001b[39m x[\u001b[38;5;241m2\u001b[39m]:\n",
      "File \u001b[0;32m~/anaconda3/lib/python3.11/site-packages/tensorflow/python/ops/math_ops.py:1927\u001b[0m, in \u001b[0;36m_promote_dtypes_decorator.<locals>.wrapper\u001b[0;34m(x, y, *args, **kwargs)\u001b[0m\n\u001b[1;32m   1925\u001b[0m \u001b[38;5;28;01mdef\u001b[39;00m \u001b[38;5;21mwrapper\u001b[39m(x, y, \u001b[38;5;241m*\u001b[39margs, \u001b[38;5;241m*\u001b[39m\u001b[38;5;241m*\u001b[39mkwargs):\n\u001b[1;32m   1926\u001b[0m   x, y \u001b[38;5;241m=\u001b[39m maybe_promote_tensors(x, y)\n\u001b[0;32m-> 1927\u001b[0m   \u001b[38;5;28;01mreturn\u001b[39;00m fn(x, y, \u001b[38;5;241m*\u001b[39margs, \u001b[38;5;241m*\u001b[39m\u001b[38;5;241m*\u001b[39mkwargs)\n",
      "File \u001b[0;32m~/anaconda3/lib/python3.11/site-packages/tensorflow/python/ops/gen_math_ops.py:5212\u001b[0m, in \u001b[0;36mless_equal\u001b[0;34m(x, y, name)\u001b[0m\n\u001b[1;32m   5210\u001b[0m   \u001b[38;5;28;01mreturn\u001b[39;00m _result\n\u001b[1;32m   5211\u001b[0m \u001b[38;5;28;01mexcept\u001b[39;00m _core\u001b[38;5;241m.\u001b[39m_NotOkStatusException \u001b[38;5;28;01mas\u001b[39;00m e:\n\u001b[0;32m-> 5212\u001b[0m   _ops\u001b[38;5;241m.\u001b[39mraise_from_not_ok_status(e, name)\n\u001b[1;32m   5213\u001b[0m \u001b[38;5;28;01mexcept\u001b[39;00m _core\u001b[38;5;241m.\u001b[39m_FallbackException:\n\u001b[1;32m   5214\u001b[0m   \u001b[38;5;28;01mpass\u001b[39;00m\n",
      "File \u001b[0;32m~/anaconda3/lib/python3.11/site-packages/tensorflow/python/framework/ops.py:7262\u001b[0m, in \u001b[0;36mraise_from_not_ok_status\u001b[0;34m(e, name)\u001b[0m\n\u001b[1;32m   7260\u001b[0m \u001b[38;5;28;01mdef\u001b[39;00m \u001b[38;5;21mraise_from_not_ok_status\u001b[39m(e, name):\n\u001b[1;32m   7261\u001b[0m   e\u001b[38;5;241m.\u001b[39mmessage \u001b[38;5;241m+\u001b[39m\u001b[38;5;241m=\u001b[39m (\u001b[38;5;124m\"\u001b[39m\u001b[38;5;124m name: \u001b[39m\u001b[38;5;124m\"\u001b[39m \u001b[38;5;241m+\u001b[39m name \u001b[38;5;28;01mif\u001b[39;00m name \u001b[38;5;129;01mis\u001b[39;00m \u001b[38;5;129;01mnot\u001b[39;00m \u001b[38;5;28;01mNone\u001b[39;00m \u001b[38;5;28;01melse\u001b[39;00m \u001b[38;5;124m\"\u001b[39m\u001b[38;5;124m\"\u001b[39m)\n\u001b[0;32m-> 7262\u001b[0m   \u001b[38;5;28;01mraise\u001b[39;00m core\u001b[38;5;241m.\u001b[39m_status_to_exception(e) \u001b[38;5;28;01mfrom\u001b[39;00m \u001b[38;5;28;01mNone\u001b[39;00m\n",
      "\u001b[0;31mInvalidArgumentError\u001b[0m: cannot compute LessEqual as input #1(zero-based) was expected to be a int16 tensor but is a float tensor [Op:LessEqual]"
     ]
    }
   ],
   "source": [
    "times = tf.constant(1,5,10,100)\n",
    "\n",
    "fish_weight(times)"
   ]
  }
 ],
 "metadata": {
  "kernelspec": {
   "display_name": "Python 3 (ipykernel)",
   "language": "python",
   "name": "python3"
  },
  "language_info": {
   "codemirror_mode": {
    "name": "ipython",
    "version": 3
   },
   "file_extension": ".py",
   "mimetype": "text/x-python",
   "name": "python",
   "nbconvert_exporter": "python",
   "pygments_lexer": "ipython3",
   "version": "3.11.3"
  }
 },
 "nbformat": 4,
 "nbformat_minor": 5
}
