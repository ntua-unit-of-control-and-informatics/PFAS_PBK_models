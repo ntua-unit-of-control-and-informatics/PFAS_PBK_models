{
 "cells": [
  {
   "cell_type": "markdown",
   "metadata": {
    "id": "-VByrndNqP28"
   },
   "source": [
    "Inverse problem for the Lorenz system with exogenous input\n",
    "\n",
    "Example Source: https://deepxde.readthedocs.io/en/latest/demos/pinn_inverse/lorenz.inverse.forced.html"
   ]
  },
  {
   "cell_type": "code",
   "execution_count": 15,
   "metadata": {
    "colab": {
     "base_uri": "https://localhost:8080/"
    },
    "id": "7hpAt0Tvlf2W",
    "outputId": "b4b24a37-92fb-4c8a-f08f-f297d1d57724",
    "tags": []
   },
   "outputs": [],
   "source": [
    "import deepxde as dde\n",
    "import numpy as np\n",
    "import tensorflow as tf\n"
   ]
  },
  {
   "cell_type": "code",
   "execution_count": 16,
   "metadata": {
    "id": "qyjX8J-blkng",
    "tags": []
   },
   "outputs": [],
   "source": [
    "# We also want to define our three unknown variables, 𝜎, 𝜌 and 𝛽\n",
    "# which will now be called C1, C2, and C3, respectivly. These variables are given an initial guess of 1.0.\n",
    "\n",
    "C1 = dde.Variable(1.0)\n",
    "C2 = dde.Variable(1.0)\n",
    "C3 = dde.Variable(1.0)"
   ]
  },
  {
   "cell_type": "code",
   "execution_count": 17,
   "metadata": {
    "id": "sK0_c-Ofl9e1",
    "tags": []
   },
   "outputs": [],
   "source": [
    "# Now we can begin by creating a TimeDomain class.\n",
    "\n",
    "geom = dde.geometry.TimeDomain(0, 3)"
   ]
  },
  {
   "cell_type": "code",
   "execution_count": 18,
   "metadata": {
    "tags": []
   },
   "outputs": [],
   "source": [
    "def Lorenz_system(x, y):\n",
    "    y1, y2, y3 = y[:, 0:1], y[:, 1:2], y[:, 2:]\n",
    "    dy1_x = dde.grad.jacobian(y, x, i=0)\n",
    "    dy2_x = dde.grad.jacobian(y, x, i=1)\n",
    "    dy3_x = dde.grad.jacobian(y, x, i=2)\n",
    "    return [\n",
    "        dy1_x - C1 * (y2 - y1),\n",
    "        dy2_x - y1 * (C2 - y3) + y2,\n",
    "        dy3_x - y1 * y2 + C3 * y3,\n",
    "    ]"
   ]
  },
  {
   "cell_type": "code",
   "execution_count": 19,
   "metadata": {
    "id": "3bV5A_XCmM6k",
    "tags": []
   },
   "outputs": [],
   "source": [
    "def boundary(_, on_initial):\n",
    "    return on_initial"
   ]
  },
  {
   "cell_type": "code",
   "execution_count": 20,
   "metadata": {
    "id": "NXCRW4f0mRo8",
    "tags": []
   },
   "outputs": [],
   "source": [
    "ic1 = dde.icbc.IC(geom, lambda X: -8, boundary, component=0)\n",
    "ic2 = dde.icbc.IC(geom, lambda X: 7, boundary, component=1)\n",
    "ic3 = dde.icbc.IC(geom, lambda X: 27, boundary, component=2)"
   ]
  },
  {
   "cell_type": "code",
   "execution_count": 21,
   "metadata": {
    "id": "Qr0GyctTmmVB",
    "tags": []
   },
   "outputs": [],
   "source": [
    "def gen_traindata():\n",
    "    data = np.load(\"/Users/vassilis/Documents/GitHub/PFAS_PBK_models/PFAS Rainbow trout PBK/PINN/DeepXDE_implementation/example/Lorenz.npz\")\n",
    "    return data[\"t\"], data[\"y\"]"
   ]
  },
  {
   "cell_type": "code",
   "execution_count": 22,
   "metadata": {
    "id": "s2PIhPoLpANy",
    "tags": []
   },
   "outputs": [],
   "source": [
    "observe_t, ob_y = gen_traindata()\n",
    "observe_y0 = dde.icbc.PointSetBC(observe_t, ob_y[:, 0:1], component=0)\n",
    "observe_y1 = dde.icbc.PointSetBC(observe_t, ob_y[:, 1:2], component=1)\n",
    "observe_y2 = dde.icbc.PointSetBC(observe_t, ob_y[:, 2:3], component=2)"
   ]
  },
  {
   "cell_type": "code",
   "execution_count": 23,
   "metadata": {
    "tags": []
   },
   "outputs": [
    {
     "data": {
      "text/plain": [
       "array([[0.        ],\n",
       "       [0.01071738],\n",
       "       [0.06430429],\n",
       "       [0.1226244 ],\n",
       "       [0.20389738],\n",
       "       [0.2774039 ],\n",
       "       [0.36605932],\n",
       "       [0.46484636],\n",
       "       [0.57747023],\n",
       "       [0.74410941],\n",
       "       [0.87815709],\n",
       "       [1.01220478],\n",
       "       [1.15004686],\n",
       "       [1.28280759],\n",
       "       [1.42510765],\n",
       "       [1.58172756],\n",
       "       [1.75397377],\n",
       "       [1.89764233],\n",
       "       [2.04923335],\n",
       "       [2.18795955],\n",
       "       [2.37650218],\n",
       "       [2.53747737],\n",
       "       [2.69922368],\n",
       "       [2.86424061],\n",
       "       [3.        ]])"
      ]
     },
     "execution_count": 23,
     "metadata": {},
     "output_type": "execute_result"
    }
   ],
   "source": [
    "observe_t"
   ]
  },
  {
   "cell_type": "code",
   "execution_count": 24,
   "metadata": {
    "id": "1sFHG_1mpgtV"
   },
   "outputs": [],
   "source": [
    "# Now that the problem is fully setup, we define the PDE as:\n",
    "\n",
    "data = dde.data.PDE(\n",
    "    geom,\n",
    "    Lorenz_system,\n",
    "    [ic1, ic2, ic3, observe_y0, observe_y1, observe_y2],\n",
    "    num_domain=400,\n",
    "    num_boundary=2,\n",
    "    anchors=observe_t,\n",
    ")\n",
    "\n",
    "# Where num_domain is the number of points inside the domain, and num_boundary is\n",
    "# the number of points on the boundary. anchors are extra points beyond num_domain\n",
    "# and num_boundary used for training. auxiliary_var_function is the interpolation\n",
    "# function of 𝑓(𝑡)\n",
    "# we defined above."
   ]
  },
  {
   "cell_type": "code",
   "execution_count": 25,
   "metadata": {
    "id": "kJa61LByqplq"
   },
   "outputs": [],
   "source": [
    "# Next, we choose the network. Here, we use a fully connected neural network of\n",
    "# depth 4 (i.e., 3 hidden layers) and width 40:\n",
    "net = dde.nn.FNN([1] + [40] * 3 + [3], \"tanh\", \"Glorot uniform\")\n",
    "model = dde.Model(data, net)"
   ]
  },
  {
   "cell_type": "code",
   "execution_count": 26,
   "metadata": {
    "tags": []
   },
   "outputs": [
    {
     "name": "stderr",
     "output_type": "stream",
     "text": [
      "WARNING:absl:At this time, the v2.11+ optimizer `tf.keras.optimizers.Adam` runs slowly on M1/M2 Macs, please use the legacy Keras optimizer instead, located at `tf.keras.optimizers.legacy.Adam`.\n"
     ]
    },
    {
     "name": "stdout",
     "output_type": "stream",
     "text": [
      "Compiling model...\n",
      "'compile' took 0.002096 s\n",
      "\n"
     ]
    }
   ],
   "source": [
    "external_trainable_variables =[C1, C2, C3]\n",
    "# train adam\n",
    "model.compile(\n",
    "    \"adam\", lr=0.001, external_trainable_variables=external_trainable_variables\n",
    ")\n"
   ]
  },
  {
   "cell_type": "code",
   "execution_count": 27,
   "metadata": {
    "tags": []
   },
   "outputs": [
    {
     "ename": "TypeError",
     "evalue": "ModelCheckpoint.__init__() got an unexpected keyword argument 'disregard_previous_best'",
     "output_type": "error",
     "traceback": [
      "\u001b[0;31m---------------------------------------------------------------------------\u001b[0m",
      "\u001b[0;31mTypeError\u001b[0m                                 Traceback (most recent call last)",
      "Cell \u001b[0;32mIn[27], line 4\u001b[0m\n\u001b[1;32m      1\u001b[0m variable \u001b[38;5;241m=\u001b[39m dde\u001b[38;5;241m.\u001b[39mcallbacks\u001b[38;5;241m.\u001b[39mVariableValue(\n\u001b[1;32m      2\u001b[0m     external_trainable_variables, period\u001b[38;5;241m=\u001b[39m\u001b[38;5;241m600\u001b[39m, filename\u001b[38;5;241m=\u001b[39m\u001b[38;5;124m\"\u001b[39m\u001b[38;5;124mvariables.dat\u001b[39m\u001b[38;5;124m\"\u001b[39m\n\u001b[1;32m      3\u001b[0m )\n\u001b[0;32m----> 4\u001b[0m checkpointer \u001b[38;5;241m=\u001b[39m dde\u001b[38;5;241m.\u001b[39mcallbacks\u001b[38;5;241m.\u001b[39mModelCheckpoint(\n\u001b[1;32m      5\u001b[0m     filepath\u001b[38;5;241m=\u001b[39m \u001b[38;5;124m'\u001b[39m\u001b[38;5;124m/Users/vassilis/Documents/GitHub/PFAS_PBK_models/PFAS Rainbow trout PBK/PINN/DeepXDE_implementation/example/model.ckpt\u001b[39m\u001b[38;5;124m'\u001b[39m,\n\u001b[1;32m      6\u001b[0m     verbose\u001b[38;5;241m=\u001b[39m\u001b[38;5;241m1\u001b[39m, save_better_only\u001b[38;5;241m=\u001b[39m\u001b[38;5;28;01mTrue\u001b[39;00m, period\u001b[38;5;241m=\u001b[39m\u001b[38;5;241m1\u001b[39m, monitor\u001b[38;5;241m=\u001b[39m\u001b[38;5;124m'\u001b[39m\u001b[38;5;124mtrain loss\u001b[39m\u001b[38;5;124m'\u001b[39m, disregard_previous_best\u001b[38;5;241m=\u001b[39m\u001b[38;5;28;01mFalse\u001b[39;00m)\n",
      "\u001b[0;31mTypeError\u001b[0m: ModelCheckpoint.__init__() got an unexpected keyword argument 'disregard_previous_best'"
     ]
    }
   ],
   "source": [
    "variable = dde.callbacks.VariableValue(\n",
    "    external_trainable_variables, period=600, filename=\"variables.dat\"\n",
    ")\n",
    "checkpointer = dde.callbacks.ModelCheckpoint(\n",
    "    filepath= '/Users/vassilis/Documents/GitHub/PFAS_PBK_models/PFAS Rainbow trout PBK/PINN/DeepXDE_implementation/example/model.ckpt',\n",
    "    verbose=1, save_better_only=True, period=1, monitor='train loss', disregard_previous_best=False)"
   ]
  },
  {
   "cell_type": "code",
   "execution_count": null,
   "metadata": {
    "tags": []
   },
   "outputs": [],
   "source": [
    "losshistory, train_state = model.train(iterations=10000, callbacks=[variable, checkpointer])"
   ]
  },
  {
   "cell_type": "code",
   "execution_count": null,
   "metadata": {
    "tags": []
   },
   "outputs": [],
   "source": [
    "dde.saveplot(losshistory, train_state, issave=True, isplot=True)"
   ]
  },
  {
   "cell_type": "code",
   "execution_count": null,
   "metadata": {
    "tags": []
   },
   "outputs": [],
   "source": [
    "model.state_dict()"
   ]
  },
  {
   "cell_type": "code",
   "execution_count": null,
   "metadata": {
    "tags": []
   },
   "outputs": [],
   "source": [
    "net = dde.nn.FNN([1] + [40] * 3 + [3], \"tanh\", \"Glorot uniform\")\n",
    "model = dde.Model(data, net)\n",
    "\n",
    "external_trainable_variables =[C1, C2, C3]\n",
    "\n",
    "# train adam\n",
    "model.compile(\n",
    "    \"adam\", lr=0.001, external_trainable_variables=external_trainable_variables\n",
    ")\n",
    "model.restore('/Users/vassilis/Documents/GitHub/PFAS_PBK_models/PFAS Rainbow trout PBK/PINN/DeepXDE_implementation/example/model.ckpt-10000.ckpt', verbose=1)"
   ]
  },
  {
   "cell_type": "code",
   "execution_count": null,
   "metadata": {
    "tags": []
   },
   "outputs": [],
   "source": [
    "# model.restore('/Users/vassilis/Documents/GitHub/PFAS_PBK_models/PFAS Rainbow trout PBK/PINN/DeepXDE_implementation/example/model.ckpt-10000.ckpt', verbose=1)"
   ]
  },
  {
   "cell_type": "code",
   "execution_count": null,
   "metadata": {
    "tags": []
   },
   "outputs": [],
   "source": [
    "model.predict(observe_t)"
   ]
  },
  {
   "cell_type": "code",
   "execution_count": null,
   "metadata": {
    "tags": []
   },
   "outputs": [],
   "source": [
    "observe_t"
   ]
  },
  {
   "cell_type": "code",
   "execution_count": null,
   "metadata": {},
   "outputs": [],
   "source": []
  },
  {
   "cell_type": "code",
   "execution_count": null,
   "metadata": {
    "tags": []
   },
   "outputs": [],
   "source": [
    "model.state_dict()"
   ]
  },
  {
   "cell_type": "code",
   "execution_count": null,
   "metadata": {
    "tags": []
   },
   "outputs": [],
   "source": [
    "net = dde.nn.FNN([1] + [40] * 3 + [3], \"tanh\", \"Glorot uniform\")\n",
    "model = dde.Model(data, net)\n",
    "\n",
    "external_trainable_variables =[C1, C2, C3]\n",
    "\n",
    "# train adam\n",
    "model.compile(\n",
    "    \"adam\", lr=0.001, external_trainable_variables=external_trainable_variables)\n",
    "    \n",
    "losshistory, train_state = model.train(iterations=2000, callbacks=[variable, checkpointer], \n",
    "                                      model_restore_path= '/Users/vassilis/Documents/GitHub/PFAS_PBK_models/PFAS Rainbow trout PBK/PINN/DeepXDE_implementation/example/model.ckpt-10000.ckpt')"
   ]
  },
  {
   "cell_type": "code",
   "execution_count": null,
   "metadata": {
    "tags": []
   },
   "outputs": [],
   "source": [
    "model.state_dict()"
   ]
  },
  {
   "cell_type": "markdown",
   "metadata": {},
   "source": []
  }
 ],
 "metadata": {
  "colab": {
   "provenance": []
  },
  "kernelspec": {
   "display_name": "Python 3 (ipykernel)",
   "language": "python",
   "name": "python3"
  },
  "language_info": {
   "codemirror_mode": {
    "name": "ipython",
    "version": 3
   },
   "file_extension": ".py",
   "mimetype": "text/x-python",
   "name": "python",
   "nbconvert_exporter": "python",
   "pygments_lexer": "ipython3",
   "version": "3.11.3"
  }
 },
 "nbformat": 4,
 "nbformat_minor": 4
}
