{
 "cells": [
  {
   "cell_type": "code",
   "execution_count": 12,
   "id": "b21ccec9-c415-4cbf-8634-44d2b35726be",
   "metadata": {
    "tags": []
   },
   "outputs": [],
   "source": [
    "import deepxde as dde\n",
    "import numpy as np\n",
    "import tensorflow as tf"
   ]
  },
  {
   "cell_type": "code",
   "execution_count": 13,
   "id": "7110486f-9b75-423a-ad19-6dc1c2aa5a53",
   "metadata": {
    "id": "qyjX8J-blkng",
    "tags": []
   },
   "outputs": [],
   "source": [
    "# We also want to define our three unknown variables, 𝜎, 𝜌 and 𝛽\n",
    "# which will now be called C1, C2, and C3, respectivly. These variables are given an initial guess of 1.0.\n",
    "\n",
    "C1 = dde.Variable(1.0)\n",
    "C2 = dde.Variable(1.0)\n",
    "C3 = dde.Variable(1.0)"
   ]
  },
  {
   "cell_type": "code",
   "execution_count": 14,
   "id": "5d19a666-de79-44a8-a337-22afc76eff90",
   "metadata": {
    "id": "sK0_c-Ofl9e1",
    "tags": []
   },
   "outputs": [],
   "source": [
    "# Now we can begin by creating a TimeDomain class.\n",
    "\n",
    "geom = dde.geometry.TimeDomain(0, 3)"
   ]
  },
  {
   "cell_type": "code",
   "execution_count": 15,
   "id": "fc720065-e7ce-4188-af22-5622346b9a38",
   "metadata": {
    "tags": []
   },
   "outputs": [],
   "source": [
    "def Lorenz_system(x, y):\n",
    "    y1, y2, y3 = y[:, 0:1], y[:, 1:2], y[:, 2:]\n",
    "    dy1_x = dde.grad.jacobian(y, x, i=0)\n",
    "    dy2_x = dde.grad.jacobian(y, x, i=1)\n",
    "    dy3_x = dde.grad.jacobian(y, x, i=2)\n",
    "    return [\n",
    "        dy1_x - C1 * (y2 - y1),\n",
    "        dy2_x - y1 * (C2 - y3) + y2,\n",
    "        dy3_x - y1 * y2 + C3 * y3,\n",
    "    ]"
   ]
  },
  {
   "cell_type": "code",
   "execution_count": 16,
   "id": "a4d62011-c287-4807-aa36-788de8f1ab8f",
   "metadata": {
    "id": "3bV5A_XCmM6k",
    "tags": []
   },
   "outputs": [],
   "source": [
    "def boundary(_, on_initial):\n",
    "    return on_initial"
   ]
  },
  {
   "cell_type": "code",
   "execution_count": 17,
   "id": "1289dd8b-f562-4ef3-9bd9-b46da6c0820c",
   "metadata": {
    "id": "NXCRW4f0mRo8",
    "tags": []
   },
   "outputs": [],
   "source": [
    "ic1 = dde.icbc.IC(geom, lambda X: -8, boundary, component=0)\n",
    "ic2 = dde.icbc.IC(geom, lambda X: 7, boundary, component=1)\n",
    "ic3 = dde.icbc.IC(geom, lambda X: 27, boundary, component=2)"
   ]
  },
  {
   "cell_type": "code",
   "execution_count": 18,
   "id": "5b11c108-1d66-4485-8462-12d85c55fb84",
   "metadata": {
    "id": "Qr0GyctTmmVB",
    "tags": []
   },
   "outputs": [],
   "source": [
    "def gen_traindata():\n",
    "    data = np.load(\"/Users/vassilis/Documents/GitHub/PFAS_PBK_models/PFAS Rainbow trout PBK/PINN/DeepXDE_implementation/example/Lorenz.npz\")\n",
    "    return data[\"t\"], data[\"y\"]"
   ]
  },
  {
   "cell_type": "code",
   "execution_count": 19,
   "id": "c35c7b0f-84fa-4b55-a9aa-48f5dd29d4ea",
   "metadata": {
    "id": "s2PIhPoLpANy",
    "tags": []
   },
   "outputs": [],
   "source": [
    "observe_t, ob_y = gen_traindata()\n",
    "observe_y0 = dde.icbc.PointSetBC(observe_t, ob_y[:, 0:1], component=0)\n",
    "observe_y1 = dde.icbc.PointSetBC(observe_t, ob_y[:, 1:2], component=1)\n",
    "observe_y2 = dde.icbc.PointSetBC(observe_t, ob_y[:, 2:3], component=2)"
   ]
  },
  {
   "cell_type": "code",
   "execution_count": 20,
   "id": "a49d3256-1651-44ad-9f5f-79ffd6b262b1",
   "metadata": {
    "id": "1sFHG_1mpgtV"
   },
   "outputs": [],
   "source": [
    "# Now that the problem is fully setup, we define the PDE as:\n",
    "\n",
    "data = dde.data.PDE(\n",
    "    geom,\n",
    "    Lorenz_system,\n",
    "    [ic1, ic2, ic3, observe_y0, observe_y1, observe_y2],\n",
    "    num_domain=400,\n",
    "    num_boundary=2,\n",
    "    anchors=observe_t,\n",
    ")\n",
    "\n",
    "# Where num_domain is the number of points inside the domain, and num_boundary is\n",
    "# the number of points on the boundary. anchors are extra points beyond num_domain\n",
    "# and num_boundary used for training. auxiliary_var_function is the interpolation\n",
    "# function of 𝑓(𝑡)\n",
    "# we defined above."
   ]
  },
  {
   "cell_type": "code",
   "execution_count": 11,
   "id": "f48a98fc-2261-4df7-abbc-215994d8c72e",
   "metadata": {
    "tags": []
   },
   "outputs": [
    {
     "name": "stderr",
     "output_type": "stream",
     "text": [
      "WARNING:absl:At this time, the v2.11+ optimizer `tf.keras.optimizers.Adam` runs slowly on M1/M2 Macs, please use the legacy Keras optimizer instead, located at `tf.keras.optimizers.legacy.Adam`.\n"
     ]
    },
    {
     "name": "stdout",
     "output_type": "stream",
     "text": [
      "Compiling model...\n",
      "'compile' took 0.002824 s\n",
      "\n",
      "Restoring model from /Users/vassilis/Documents/GitHub/PFAS_PBK_models/PFAS Rainbow trout PBK/PINN/DeepXDE_implementation/example/model.ckpt-10000.ckpt ...\n",
      "\n"
     ]
    }
   ],
   "source": [
    "net = dde.nn.FNN([1] + [40] * 3 + [3], \"tanh\", \"Glorot uniform\")\n",
    "model = dde.Model(data, net)\n",
    "\n",
    "external_trainable_variables =[C1, C2, C3]\n",
    "\n",
    "# train adam\n",
    "model.compile(\n",
    "    \"adam\", lr=0.001, external_trainable_variables=external_trainable_variables\n",
    ")\n",
    "#model.restore('/Users/vassilis/Documents/GitHub/PFAS_PBK_models/PFAS Rainbow trout PBK/PINN/DeepXDE_implementation/example/model.ckpt-10000.ckpt', verbose=2)"
   ]
  },
  {
   "cell_type": "code",
   "execution_count": null,
   "id": "03b78964-33e6-4fa3-82e2-70fa065d1525",
   "metadata": {
    "tags": []
   },
   "outputs": [],
   "source": [
    "model.state_dict()"
   ]
  },
  {
   "cell_type": "code",
   "execution_count": null,
   "id": "86267a88-107e-4f24-882a-df671b0240e8",
   "metadata": {
    "tags": []
   },
   "outputs": [],
   "source": [
    "model.predict(observe_t)"
   ]
  }
 ],
 "metadata": {
  "kernelspec": {
   "display_name": "Python 3 (ipykernel)",
   "language": "python",
   "name": "python3"
  },
  "language_info": {
   "codemirror_mode": {
    "name": "ipython",
    "version": 3
   },
   "file_extension": ".py",
   "mimetype": "text/x-python",
   "name": "python",
   "nbconvert_exporter": "python",
   "pygments_lexer": "ipython3",
   "version": "3.11.3"
  }
 },
 "nbformat": 4,
 "nbformat_minor": 5
}
