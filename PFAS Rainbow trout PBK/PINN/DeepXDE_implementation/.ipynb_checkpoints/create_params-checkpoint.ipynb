{
 "cells": [
  {
   "cell_type": "code",
   "execution_count": 1,
   "id": "c1796d68-a234-4c8b-a787-109d87e10d23",
   "metadata": {
    "tags": []
   },
   "outputs": [],
   "source": [
    "import numpy as np\n",
    "import pandas as pd\n",
    "from math import exp\n",
    "\n",
    "def create_params(substance, Texp):\n",
    "    # Transform input temperature into Kelvin scale\n",
    "    Texp = 273 + Texp  # K\n",
    "\n",
    "    Tref = 273 + np.array([6, 12, 18])  # Reference Temperature K - Grech et al. 2018\n",
    "    keep_ref_value = np.argmin(np.abs(Tref - Texp))\n",
    "\n",
    "    # Cardiac output reference value at T = 6 C (Barron et al. 1987, Table II)\n",
    "    F_card_ref_6 = 1.188  # ml/h/g\n",
    "    # Cardiac output reference value at T = 12 C (Barron et al. 1987, Table II)\n",
    "    F_card_ref_12 = 2.322  # ml/h/g\n",
    "    # Cardiac output reference value at T = 18 C (Barron et al. 1987, Table II)\n",
    "    F_card_ref_18 = 3.75  # ml/h/g\n",
    "    F_card_ref_values = [F_card_ref_6, F_card_ref_12, F_card_ref_18]\n",
    "    F_card_ref = F_card_ref_values[keep_ref_value]\n",
    "\n",
    "    # Body weight reference value at T = 6 C (Barron et al. 1987, Table II)\n",
    "    BW_ref_6 = 270.1  # g\n",
    "    # Body weight reference value at T = 12 C (Barron et al. 1987, Table II)\n",
    "    BW_ref_12 = 296.4  # g\n",
    "    # Body weight reference value at T = 18 C (Barron et al. 1987, Table II)\n",
    "    BW_ref_18 = 414.5  # g\n",
    "    BW_ref_values = [BW_ref_6, BW_ref_12, BW_ref_18]\n",
    "    BW_ref = BW_ref_values[keep_ref_value]\n",
    "\n",
    "    # Arrhenius Temperature function\n",
    "    TA = 6930  # Arrhenius Temperature K - Grech et al. 2018\n",
    "    Tr = Tref[np.argmin(np.abs(Tref - Texp))]\n",
    "    KT = exp(TA / Tr - TA / Texp)\n",
    "\n",
    "    # Load the xlsx file with the physiological params of rainbow trout\n",
    "    phys_params_sheet1 = pd.read_excel('/Users/vassilis/Documents/GitHub/PFAS_PBK_models/PFAS Rainbow trout PBK/Rainbow trout Physiological parameters/Rainbow trout Physiological parameters.xlsx', sheet_name=0)\n",
    "\n",
    "    # Keep only the physiological parameters from the paper of Vidal et al. 2019\n",
    "    fw = phys_params_sheet1.loc[phys_params_sheet1['Source'] == 'Vidal et al. 2019', ['Liver', 'Blood', 'Skin', 'Muscle', 'Gills', 'Kidney', 'Viscera']]\n",
    "    fw_Liver = fw['Liver'].values[0]\n",
    "    fw_Blood = fw['Blood'].values[0]\n",
    "    fw_Skin = fw['Skin'].values[0]\n",
    "    fw_Muscle = fw['Muscle'].values[0]\n",
    "    fw_Gills = fw['Gills'].values[0]\n",
    "    fw_Kidney = fw['Kidney'].values[0]\n",
    "    fw_Viscera = fw['Viscera'].values[0]\n",
    "    fw_lumen = 0.012\n",
    "\n",
    "    # Load the xlsx file with the physiological params of rainbow trout\n",
    "    phys_params_sheet2 = pd.read_excel('/Users/vassilis/Documents/GitHub/PFAS_PBK_models/PFAS Rainbow trout PBK/Rainbow trout Physiological parameters/Rainbow trout Physiological parameters.xlsx', sheet_name=1)\n",
    "\n",
    "    # Keep only the physiological parameters from the paper of Vidal et al. 2019\n",
    "    fb = phys_params_sheet2.loc[phys_params_sheet2['Source'] == 'Vidal et al. 2019', ['Liver', 'Skin', 'Muscle', 'Gills', 'Kidney', 'Viscera']]\n",
    "    fb_Liver = fb['Liver'].values[0]\n",
    "    fb_Skin = fb['Skin'].values[0]\n",
    "    fb_Muscle = fb['Muscle'].values[0]\n",
    "    fb_Gills = fb['Gills'].values[0]\n",
    "    fb_Kidney = fb['Kidney'].values[0]\n",
    "    fb_Viscera = fb['Viscera'].values[0]\n",
    "\n",
    "    # Reabsorption coefficients from bile to intestine\n",
    "    # estimated by Cao et al., 2022\n",
    "    # K_urine = Cl_urine / f_reab_urine estimated by Ng et al., 2013 (unitless)\n",
    "    if substance == 'PFOA':\n",
    "        a = 0.138  # Sun et al., 2022, Goeritz et al. 2013\n",
    "        f_reab_hep = 0.30  # Cao et al., 2022\n",
    "        K_urine = 2.08\n",
    "        Cl_urine = 0.029 * 3600  # 1/h (Sun et al., 2022)\n",
    "        Free = 0.385\n",
    "    elif substance == 'PFNA':\n",
    "        a = 0.522  # Sun et al., 2022, Goeritz et al. 2013\n",
    "        f_reab_hep = 0.34  # Cao et al., 2022\n",
    "        K_urine = 1.35\n",
    "        Cl_urine = 0.050 * 3600  # 1/h (Sun et al., 2022)\n",
    "        Free = 0.622\n",
    "    elif substance == 'PFBS':\n",
    "        a = 0.0598  # Goeritz et al. 2013\n",
    "        f_reab_hep = 0.23  # Cao et al., 2022\n",
    "        K_urine = 5.88\n",
    "        Cl_urine = 0.023 * 3600  # 1/h (Sun et al., 2022) # Assumed equal to PFHxS\n",
    "        Free = 0.1  # assumed\n",
    "    elif substance == 'PFHxS':\n",
    "        a = 0.558  # Sun et al., 2022, Goeritz et al. 2013\n",
    "        f_reab_hep = 0.30  # Cao et al., 2022\n",
    "        K_urine = 5.88\n",
    "        Cl_urine = 0.023 * 3600  # 1/h (Sun et al., 2022)\n",
    "        Free = 0.217\n",
    "    elif substance == 'PFOS':\n",
    "        a = 0.721  # Sun et al., 2022, Goeritz et al. 2013\n",
    "        f_reab_hep = 0.42  # Cao et al., 2022\n",
    "        K_urine = 1.35\n",
    "        Cl_urine = 0.050 * 3600  # 1/h (Sun et al., 2022)\n",
    "        Free = 0.819\n",
    "\n",
    "    # Bile flow coefficient\n",
    "    Q_bile_coef = 7.5e-05  # ml/g BW/h Grosell et al., 2000\n",
    "    Q_urine_coef = 2.755e-03  # ml/h/g of BW Urinary flow rate (Curtis et al., 1981)\n",
    "    V_urine_coef = 2.2e-03  # ml/g of BW Urine volume inside urinary bladder (Curtis et al., 1981)\n",
    "\n",
    "    a_skin = 0.9  # 90% of venous blood of skin was assumed to flow directly to kidney (Nichols et al. 1996)\n",
    "    a_muscle = 0.6  # 60% of venous blood of muscle was assumed to flow directly to kidney (Nichols et al. 1996)\n",
    "\n",
    "    plasma = 0.7\n",
    "    \n",
    "    return[F_card_ref,BW_ref,KT,fw_Liver,fw_Blood,fw_Skin,fw_Muscle,fw_Gills,fw_Kidney,\n",
    "          fw_Viscera, fw_lumen,fb_Liver,fb_Skin,fb_Muscle,fb_Gills,fb_Kidney,fb_Viscera,\n",
    "          a_skin,a_muscle,Q_bile_coef,Q_urine_coef,V_urine_coef,K_urine,Cl_urine,f_reab_hep,plasma,Free,  a]\n",
    "    \n",
    "    # return {\n",
    "    #     'F_card_ref': F_card_ref,\n",
    "    #     'BW_ref': BW_ref,\n",
    "    #     'KT': KT,\n",
    "    #     'fw_Liver': fw_Liver,\n",
    "    #     'fw_Blood': fw_Blood,\n",
    "    #     'fw_Skin': fw_Skin,\n",
    "    #     'fw_Muscle': fw_Muscle,\n",
    "    #     'fw_Gills': fw_Gills,\n",
    "    #     'fw_Kidney': fw_Kidney,\n",
    "    #     'fw_Viscera': fw_Viscera,\n",
    "    #     'fw_lumen': fw_lumen,\n",
    "    #     'fb_Liver': fb_Liver,\n",
    "    #     'fb_Skin': fb_Skin,\n",
    "    #     'fb_Muscle': fb_Muscle,\n",
    "    #     'fb_Gills': fb_Gills,\n",
    "    #     'fb_Kidney': fb_Kidney,\n",
    "    #     'fb_Viscera': fb_Viscera,\n",
    "    #     'a_skin': a_skin,\n",
    "    #     'a_muscle': a_muscle,\n",
    "    #     'Q_bile_coef': Q_bile_coef,\n",
    "    #     'Q_urine_coef': Q_urine_coef,\n",
    "    #     'V_urine_coef': V_urine_coef,\n",
    "    #     'K_urine': K_urine,\n",
    "    #     'Cl_urine': Cl_urine,\n",
    "    #     'f_reab_hep': f_reab_hep,\n",
    "    #     'plasma': plasma,\n",
    "    #     'Free': 1,\n",
    "    #     'a': a\n",
    "    # }"
   ]
  },
  {
   "cell_type": "code",
   "execution_count": 2,
   "id": "aba26526-275b-4c60-b21a-c105f4580e51",
   "metadata": {
    "tags": []
   },
   "outputs": [],
   "source": [
    "params = create_params('PFOS', 15)"
   ]
  },
  {
   "cell_type": "code",
   "execution_count": null,
   "id": "1dfd32c8-e81d-4a58-83fc-49c05ecc1196",
   "metadata": {
    "tags": []
   },
   "outputs": [],
   "source": [
    "params"
   ]
  },
  {
   "cell_type": "code",
   "execution_count": 3,
   "id": "899d5803-616d-4d8a-9b9a-3ecc7f80247d",
   "metadata": {
    "tags": []
   },
   "outputs": [],
   "source": [
    "(F_card_ref,BW_ref,KT,fw_Liver,fw_Blood,fw_Skin,fw_Muscle,fw_Gills,\n",
    " fw_Kidney, fw_Viscera, fw_lumen,fb_Liver,fb_Skin,fb_Muscle,fb_Gills,\n",
    " fb_Kidney,fb_Viscera,a_skin,a_muscle,Q_bile_coef,\n",
    " Q_urine_coef,V_urine_coef,K_urine,Cl_urine,f_reab_hep,plasma,Free, a) = params"
   ]
  },
  {
   "cell_type": "code",
   "execution_count": 4,
   "id": "ebfdd191-ba3f-4ca5-93e7-0f193f74f756",
   "metadata": {
    "tags": []
   },
   "outputs": [
    {
     "data": {
      "text/plain": [
       "2.322"
      ]
     },
     "execution_count": 4,
     "metadata": {},
     "output_type": "execute_result"
    }
   ],
   "source": [
    "F_card_ref"
   ]
  }
 ],
 "metadata": {
  "kernelspec": {
   "display_name": "Python 3 (ipykernel)",
   "language": "python",
   "name": "python3"
  },
  "language_info": {
   "codemirror_mode": {
    "name": "ipython",
    "version": 3
   },
   "file_extension": ".py",
   "mimetype": "text/x-python",
   "name": "python",
   "nbconvert_exporter": "python",
   "pygments_lexer": "ipython3",
   "version": "3.11.3"
  }
 },
 "nbformat": 4,
 "nbformat_minor": 5
}
