{
 "cells": [
  {
   "cell_type": "code",
   "execution_count": 4,
   "id": "63762199-d4fb-40ec-9e7e-cf4a4e7bd296",
   "metadata": {
    "tags": []
   },
   "outputs": [],
   "source": [
    "import numpy as np"
   ]
  },
  {
   "cell_type": "code",
   "execution_count": 5,
   "id": "8937db75-a90a-48f2-802e-c83daf738fa5",
   "metadata": {
    "tags": []
   },
   "outputs": [],
   "source": [
    "def fish_weight(time):\n",
    "    x = [0, 28 * 24, 56 * 24]\n",
    "    y = [314, 655, 808]\n",
    "\n",
    "    if time <= x[0]:\n",
    "        w = y[0]\n",
    "    elif time >= x[2]:\n",
    "        w = y[2]\n",
    "    elif time >= x[0] and time < x[1]:\n",
    "        w = np.interp(time, x[0:2], y[0:2])\n",
    "    elif time >= x[1] and time < x[2]:\n",
    "        w = np.interp(time, x[1:3], y[1:3])\n",
    "\n",
    "    return w"
   ]
  },
  {
   "cell_type": "code",
   "execution_count": 6,
   "id": "10d90846-798f-45e4-bb92-31a518bae1c7",
   "metadata": {
    "tags": []
   },
   "outputs": [
    {
     "data": {
      "text/plain": [
       "324.1488095238095"
      ]
     },
     "execution_count": 6,
     "metadata": {},
     "output_type": "execute_result"
    }
   ],
   "source": [
    "fish_weight(20)"
   ]
  }
 ],
 "metadata": {
  "kernelspec": {
   "display_name": "Python 3 (ipykernel)",
   "language": "python",
   "name": "python3"
  },
  "language_info": {
   "codemirror_mode": {
    "name": "ipython",
    "version": 3
   },
   "file_extension": ".py",
   "mimetype": "text/x-python",
   "name": "python",
   "nbconvert_exporter": "python",
   "pygments_lexer": "ipython3",
   "version": "3.11.3"
  }
 },
 "nbformat": 4,
 "nbformat_minor": 5
}
